{
 "cells": [
  {
   "cell_type": "markdown",
   "id": "19cb39b1-db9e-4a0a-8566-4efbd966bc58",
   "metadata": {},
   "source": [
    "# Exercises\n",
    "\n",
    "## Using the titanic data, in your classification-exercises repository, create a notebook, `decision_tree.ipynb` where you will do the following:"
   ]
  },
  {
   "cell_type": "code",
   "execution_count": 1,
   "id": "de72c5e4-2ef0-42d5-88c4-51717639473a",
   "metadata": {
    "tags": []
   },
   "outputs": [],
   "source": [
    "import numpy as np\n",
    "import pandas as pd\n",
    "\n",
    "from sklearn.tree import DecisionTreeClassifier, plot_tree\n",
    "\n",
    "from sklearn.metrics import classification_report\n",
    "from sklearn.metrics import confusion_matrix\n",
    "\n",
    "import matplotlib.pyplot as plt\n",
    "import seaborn as sns\n",
    "\n",
    "import acquire\n",
    "import prepare\n",
    "import model"
   ]
  },
  {
   "cell_type": "code",
   "execution_count": 2,
   "id": "6bc2aeb8-26d8-44d2-881f-7bfcf2148309",
   "metadata": {
    "tags": []
   },
   "outputs": [
    {
     "name": "stdout",
     "output_type": "stream",
     "text": [
      "File exists - reading CSV file\n"
     ]
    }
   ],
   "source": [
    "titanic_train,\\\n",
    "titanic_validate,\\\n",
    "titanic_test = prepare.split_data(\n",
    "    prepare.prep_titanic(\n",
    "    acquire.get_titanic_data()),'survived')"
   ]
  },
  {
   "cell_type": "code",
   "execution_count": 3,
   "id": "3313be01-cd12-41ed-9912-f118f3493d31",
   "metadata": {
    "tags": []
   },
   "outputs": [
    {
     "ename": "NameError",
     "evalue": "name 'pd' is not defined",
     "output_type": "error",
     "traceback": [
      "\u001b[0;31m---------------------------------------------------------------------------\u001b[0m",
      "\u001b[0;31mNameError\u001b[0m                                 Traceback (most recent call last)",
      "Cell \u001b[0;32mIn[3], line 1\u001b[0m\n\u001b[0;32m----> 1\u001b[0m model\u001b[38;5;241m.\u001b[39mpreprocess_titanic(titanic_train,titanic_validate,titanic_test)\n",
      "File \u001b[0;32m~/codeup-data-science/classification-exercises/model.py:5\u001b[0m, in \u001b[0;36mpreprocess_titanic\u001b[0;34m(train_df, validate_df, test_df)\u001b[0m\n\u001b[1;32m      3\u001b[0m \u001b[38;5;28;01mfor\u001b[39;00m df \u001b[38;5;129;01min\u001b[39;00m [train_df, validate_df, test_df]:\n\u001b[1;32m      4\u001b[0m     df\u001b[38;5;241m.\u001b[39mpclass \u001b[38;5;241m=\u001b[39m df\u001b[38;5;241m.\u001b[39mpclass\u001b[38;5;241m.\u001b[39mastype(\u001b[38;5;28mint\u001b[39m)\n\u001b[0;32m----> 5\u001b[0m     df_encoded_columns \u001b[38;5;241m=\u001b[39m pd\u001b[38;5;241m.\u001b[39mget_dummies(df[[\u001b[38;5;124m'\u001b[39m\u001b[38;5;124membark_town\u001b[39m\u001b[38;5;124m'\u001b[39m, \u001b[38;5;124m'\u001b[39m\u001b[38;5;124msex\u001b[39m\u001b[38;5;124m'\u001b[39m]],\n\u001b[1;32m      6\u001b[0m           drop_first\u001b[38;5;241m=\u001b[39m\u001b[38;5;28;01mTrue\u001b[39;00m)\u001b[38;5;241m.\u001b[39mastype(\u001b[38;5;28mint\u001b[39m)\n\u001b[1;32m      7\u001b[0m     encoded_df\u001b[38;5;241m.\u001b[39mappend(pd\u001b[38;5;241m.\u001b[39mconcat([df, df_encoded_columns],\n\u001b[1;32m      8\u001b[0m                                 axis\u001b[38;5;241m=\u001b[39m\u001b[38;5;241m1\u001b[39m)\u001b[38;5;241m.\u001b[39mdrop(columns\u001b[38;5;241m=\u001b[39m[\u001b[38;5;124m'\u001b[39m\u001b[38;5;124msex\u001b[39m\u001b[38;5;124m'\u001b[39m, \u001b[38;5;124m'\u001b[39m\u001b[38;5;124membark_town\u001b[39m\u001b[38;5;124m'\u001b[39m]))\n\u001b[1;32m      9\u001b[0m \u001b[38;5;28;01mreturn\u001b[39;00m encoded_df\n",
      "\u001b[0;31mNameError\u001b[0m: name 'pd' is not defined"
     ]
    }
   ],
   "source": [
    "model.preprocess_titanic(titanic_train,titanic_validate,titanic_test)"
   ]
  },
  {
   "cell_type": "markdown",
   "id": "42948d5a-90f1-4ea0-8cd8-ce7c397b9625",
   "metadata": {},
   "source": [
    "### 1. What is your baseline prediction? What is your baseline accuracy? *remember: your baseline prediction for a classification problem is predicting the most prevelant class in the training dataset (the mode). When you make those predictions, what is your accuracy? This is your baseline accuracy.*"
   ]
  },
  {
   "cell_type": "code",
   "execution_count": null,
   "id": "384ba642-8fce-4015-a78b-a1a4cf056029",
   "metadata": {},
   "outputs": [],
   "source": []
  },
  {
   "cell_type": "markdown",
   "id": "ea70d449-1228-4776-a606-e589581a28f8",
   "metadata": {},
   "source": [
    "### 2. Fit the decision tree classifier to your training sample and transform (i.e. make predictions on the training sample)"
   ]
  },
  {
   "cell_type": "code",
   "execution_count": null,
   "id": "5ebda9b7-38e3-4263-ad11-570a23820929",
   "metadata": {},
   "outputs": [],
   "source": []
  },
  {
   "cell_type": "markdown",
   "id": "78fec3a4-a140-4f63-a9dd-a33856275e0e",
   "metadata": {},
   "source": [
    "### 3. Evaluate your in-sample results using the model score, confusion matrix, and classification report."
   ]
  },
  {
   "cell_type": "code",
   "execution_count": null,
   "id": "42baa800-d505-427a-abb9-44f4befa881d",
   "metadata": {},
   "outputs": [],
   "source": []
  },
  {
   "cell_type": "markdown",
   "id": "07a211e1-db94-480f-8302-f8c8c5a9f71e",
   "metadata": {
    "tags": []
   },
   "source": [
    "### 4. Compute: Accuracy, true positive rate, false positive rate, true negative rate, false negative rate, precision, recall, f1-score, and support."
   ]
  },
  {
   "cell_type": "code",
   "execution_count": null,
   "id": "6bdf1b82-8425-45ca-bd71-2571d5d30fc7",
   "metadata": {},
   "outputs": [],
   "source": []
  },
  {
   "cell_type": "markdown",
   "id": "eaf19f6b-e4ee-494f-8e00-532654b48493",
   "metadata": {},
   "source": [
    "### 5. Run through steps 2-4 using a different `max_depth` value."
   ]
  },
  {
   "cell_type": "code",
   "execution_count": null,
   "id": "7db6a0ab-e2d4-4ab2-a3f7-77a4aa4254aa",
   "metadata": {},
   "outputs": [],
   "source": []
  },
  {
   "cell_type": "markdown",
   "id": "9ca55a59-ce99-4a4e-a88d-a1784ccf84d1",
   "metadata": {},
   "source": [
    "### 6. Which model performs better on your in-sample data?"
   ]
  },
  {
   "cell_type": "code",
   "execution_count": null,
   "id": "644a8918-a6c2-4c06-846b-3b0bb1fda637",
   "metadata": {},
   "outputs": [],
   "source": []
  },
  {
   "cell_type": "markdown",
   "id": "5e8edb5a-c24f-4af8-a1ab-b25d8b81d2ce",
   "metadata": {},
   "source": [
    "### 7. Which model performs best on your out-of-sample data, the `validate` set?"
   ]
  },
  {
   "cell_type": "code",
   "execution_count": null,
   "id": "08b7d378-7ebb-4f1a-8a67-9679b2f43bbd",
   "metadata": {},
   "outputs": [],
   "source": []
  },
  {
   "cell_type": "code",
   "execution_count": null,
   "id": "9074b531-0492-49fa-a6da-633e692eed1b",
   "metadata": {},
   "outputs": [],
   "source": []
  },
  {
   "cell_type": "code",
   "execution_count": null,
   "id": "dae91191-382a-46e6-9f9e-6290ef4ccc60",
   "metadata": {},
   "outputs": [],
   "source": []
  },
  {
   "cell_type": "code",
   "execution_count": null,
   "id": "9d2c7111-1176-4efc-b67e-156e6f7cc3cc",
   "metadata": {},
   "outputs": [],
   "source": []
  },
  {
   "cell_type": "code",
   "execution_count": null,
   "id": "1e595be7-5883-41d5-b433-48083ab0f629",
   "metadata": {},
   "outputs": [],
   "source": []
  },
  {
   "cell_type": "code",
   "execution_count": null,
   "id": "ecf5848b-012e-4a57-b318-25dacc78df43",
   "metadata": {},
   "outputs": [],
   "source": []
  },
  {
   "cell_type": "code",
   "execution_count": null,
   "id": "0679630b-f2f6-4a24-b973-570a384ba5f9",
   "metadata": {},
   "outputs": [],
   "source": []
  }
 ],
 "metadata": {
  "kernelspec": {
   "display_name": "Python 3 (ipykernel)",
   "language": "python",
   "name": "python3"
  },
  "language_info": {
   "codemirror_mode": {
    "name": "ipython",
    "version": 3
   },
   "file_extension": ".py",
   "mimetype": "text/x-python",
   "name": "python",
   "nbconvert_exporter": "python",
   "pygments_lexer": "ipython3",
   "version": "3.11.5"
  }
 },
 "nbformat": 4,
 "nbformat_minor": 5
}
