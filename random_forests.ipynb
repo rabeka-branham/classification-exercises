{
 "cells": [
  {
   "cell_type": "markdown",
   "id": "9977f9c8-3879-4a9a-af9c-f677e059e14f",
   "metadata": {},
   "source": [
    "### Create a new notebook, random_forests, and work with titanic data to do the following:"
   ]
  },
  {
   "cell_type": "code",
   "execution_count": 1,
   "id": "36b187c5-0397-45e7-92b9-0295dcbf93c2",
   "metadata": {
    "tags": []
   },
   "outputs": [],
   "source": [
    "import acquire as a\n",
    "import prepare as p\n",
    "import model as m\n",
    "\n",
    "import numpy as np\n",
    "import pandas as pd\n",
    "\n",
    "from sklearn.model_selection import train_test_split\n",
    "from sklearn.ensemble import RandomForestClassifier\n",
    "from sklearn.metrics import classification_report\n",
    "from sklearn.metrics import confusion_matrix"
   ]
  },
  {
   "cell_type": "code",
   "execution_count": 2,
   "id": "8380ee35-26d4-45ca-926b-65da9ac53a52",
   "metadata": {
    "tags": []
   },
   "outputs": [
    {
     "name": "stdout",
     "output_type": "stream",
     "text": [
      "File exists - reading CSV file\n"
     ]
    }
   ],
   "source": [
    "df = a.get_titanic_data()"
   ]
  },
  {
   "cell_type": "code",
   "execution_count": 3,
   "id": "df9c67da-47d5-4473-bdbf-e6f456cc80be",
   "metadata": {
    "tags": []
   },
   "outputs": [],
   "source": [
    "df = p.prep_titanic(df)"
   ]
  },
  {
   "cell_type": "code",
   "execution_count": 4,
   "id": "a7d5e41a-1ef8-400d-a69b-d9f483562503",
   "metadata": {
    "tags": []
   },
   "outputs": [],
   "source": [
    "train, validate, test = p.split_data(df, 'survived')"
   ]
  },
  {
   "cell_type": "code",
   "execution_count": 5,
   "id": "1d0674a9-5bdc-4075-abd0-c66b7e216af0",
   "metadata": {
    "tags": []
   },
   "outputs": [],
   "source": [
    "train, validate, test = m.preprocess_titanic(train, validate, test)"
   ]
  },
  {
   "cell_type": "code",
   "execution_count": 6,
   "id": "6406e910-d8fb-4ed1-ab92-8d9500b025ca",
   "metadata": {
    "tags": []
   },
   "outputs": [
    {
     "data": {
      "text/html": [
       "<div>\n",
       "<style scoped>\n",
       "    .dataframe tbody tr th:only-of-type {\n",
       "        vertical-align: middle;\n",
       "    }\n",
       "\n",
       "    .dataframe tbody tr th {\n",
       "        vertical-align: top;\n",
       "    }\n",
       "\n",
       "    .dataframe thead th {\n",
       "        text-align: right;\n",
       "    }\n",
       "</style>\n",
       "<table border=\"1\" class=\"dataframe\">\n",
       "  <thead>\n",
       "    <tr style=\"text-align: right;\">\n",
       "      <th></th>\n",
       "      <th>survived</th>\n",
       "      <th>pclass</th>\n",
       "      <th>sibsp</th>\n",
       "      <th>parch</th>\n",
       "      <th>fare</th>\n",
       "      <th>alone</th>\n",
       "      <th>embark_town_Queenstown</th>\n",
       "      <th>embark_town_Southampton</th>\n",
       "      <th>sex_male</th>\n",
       "    </tr>\n",
       "  </thead>\n",
       "  <tbody>\n",
       "    <tr>\n",
       "      <th>580</th>\n",
       "      <td>1</td>\n",
       "      <td>2</td>\n",
       "      <td>1</td>\n",
       "      <td>1</td>\n",
       "      <td>30.0000</td>\n",
       "      <td>0</td>\n",
       "      <td>0</td>\n",
       "      <td>1</td>\n",
       "      <td>0</td>\n",
       "    </tr>\n",
       "    <tr>\n",
       "      <th>140</th>\n",
       "      <td>0</td>\n",
       "      <td>3</td>\n",
       "      <td>0</td>\n",
       "      <td>2</td>\n",
       "      <td>15.2458</td>\n",
       "      <td>0</td>\n",
       "      <td>0</td>\n",
       "      <td>0</td>\n",
       "      <td>0</td>\n",
       "    </tr>\n",
       "    <tr>\n",
       "      <th>747</th>\n",
       "      <td>1</td>\n",
       "      <td>2</td>\n",
       "      <td>0</td>\n",
       "      <td>0</td>\n",
       "      <td>13.0000</td>\n",
       "      <td>1</td>\n",
       "      <td>0</td>\n",
       "      <td>1</td>\n",
       "      <td>0</td>\n",
       "    </tr>\n",
       "    <tr>\n",
       "      <th>615</th>\n",
       "      <td>1</td>\n",
       "      <td>2</td>\n",
       "      <td>1</td>\n",
       "      <td>2</td>\n",
       "      <td>65.0000</td>\n",
       "      <td>0</td>\n",
       "      <td>0</td>\n",
       "      <td>1</td>\n",
       "      <td>0</td>\n",
       "    </tr>\n",
       "    <tr>\n",
       "      <th>132</th>\n",
       "      <td>0</td>\n",
       "      <td>3</td>\n",
       "      <td>1</td>\n",
       "      <td>0</td>\n",
       "      <td>14.5000</td>\n",
       "      <td>0</td>\n",
       "      <td>0</td>\n",
       "      <td>1</td>\n",
       "      <td>0</td>\n",
       "    </tr>\n",
       "  </tbody>\n",
       "</table>\n",
       "</div>"
      ],
      "text/plain": [
       "     survived  pclass  sibsp  parch     fare  alone  embark_town_Queenstown  \\\n",
       "580         1       2      1      1  30.0000      0                       0   \n",
       "140         0       3      0      2  15.2458      0                       0   \n",
       "747         1       2      0      0  13.0000      1                       0   \n",
       "615         1       2      1      2  65.0000      0                       0   \n",
       "132         0       3      1      0  14.5000      0                       0   \n",
       "\n",
       "     embark_town_Southampton  sex_male  \n",
       "580                        1         0  \n",
       "140                        0         0  \n",
       "747                        1         0  \n",
       "615                        1         0  \n",
       "132                        1         0  "
      ]
     },
     "execution_count": 6,
     "metadata": {},
     "output_type": "execute_result"
    }
   ],
   "source": [
    "train.head()"
   ]
  },
  {
   "cell_type": "markdown",
   "id": "db8813f2-78d3-493f-98d8-bb8ba930aedf",
   "metadata": {},
   "source": [
    "1. Fit the Random Forest classifier to your training sample and transform (i.e. make predictions on the training sample) setting the random_state accordingly and setting min_samples_leaf = 1 and max_depth = 10."
   ]
  },
  {
   "cell_type": "code",
   "execution_count": 7,
   "id": "635685e1-a5c6-4ae6-8b9d-ed620492c6f3",
   "metadata": {
    "tags": []
   },
   "outputs": [],
   "source": [
    "X_train = train.drop(columns='survived')\n",
    "y_train = train.survived\n",
    "\n",
    "X_val = validate.drop(columns='survived')\n",
    "y_val = validate.survived\n",
    "\n",
    "X_test = test.drop(columns='survived')\n",
    "y_test = test.survived"
   ]
  },
  {
   "cell_type": "code",
   "execution_count": 8,
   "id": "91de01f6-1d9b-4d0f-b84f-74ca31ad725b",
   "metadata": {
    "tags": []
   },
   "outputs": [],
   "source": [
    "rf = RandomForestClassifier(max_depth=10, min_samples_leaf=1, random_state=123)"
   ]
  },
  {
   "cell_type": "code",
   "execution_count": 9,
   "id": "1045741f-2d8a-4826-bbc4-c921590d6a7c",
   "metadata": {
    "tags": []
   },
   "outputs": [],
   "source": [
    "rf = rf.fit(X_train,y_train)"
   ]
  },
  {
   "cell_type": "markdown",
   "id": "e0b8b911-f750-4b97-b3d8-cdfef249cc59",
   "metadata": {},
   "source": [
    "2. Evaluate your results using the model score, confusion matrix, and classification report."
   ]
  },
  {
   "cell_type": "code",
   "execution_count": 10,
   "id": "332b784e-d990-41ff-a860-81c814467e40",
   "metadata": {
    "tags": []
   },
   "outputs": [
    {
     "data": {
      "text/plain": [
       "0.9288389513108615"
      ]
     },
     "execution_count": 10,
     "metadata": {},
     "output_type": "execute_result"
    }
   ],
   "source": [
    "rf.score(X_train,y_train)"
   ]
  },
  {
   "cell_type": "code",
   "execution_count": 11,
   "id": "dfc83060-4639-4fbf-84e8-e240b690f57a",
   "metadata": {
    "tags": []
   },
   "outputs": [
    {
     "data": {
      "text/plain": [
       "0.8370786516853933"
      ]
     },
     "execution_count": 11,
     "metadata": {},
     "output_type": "execute_result"
    }
   ],
   "source": [
    "rf.score(X_val,y_val)"
   ]
  },
  {
   "cell_type": "code",
   "execution_count": 12,
   "id": "b4470a81-89cd-4939-b759-7a59c0ec6b3c",
   "metadata": {
    "tags": []
   },
   "outputs": [],
   "source": [
    "y_pred = rf.predict(X_train)"
   ]
  },
  {
   "cell_type": "code",
   "execution_count": 13,
   "id": "e1b1151e-be57-4ea3-8d1e-64c3c430a773",
   "metadata": {
    "tags": []
   },
   "outputs": [
    {
     "data": {
      "text/html": [
       "<div>\n",
       "<style scoped>\n",
       "    .dataframe tbody tr th:only-of-type {\n",
       "        vertical-align: middle;\n",
       "    }\n",
       "\n",
       "    .dataframe tbody tr th {\n",
       "        vertical-align: top;\n",
       "    }\n",
       "\n",
       "    .dataframe thead th {\n",
       "        text-align: right;\n",
       "    }\n",
       "</style>\n",
       "<table border=\"1\" class=\"dataframe\">\n",
       "  <thead>\n",
       "    <tr style=\"text-align: right;\">\n",
       "      <th></th>\n",
       "      <th>1</th>\n",
       "      <th>0</th>\n",
       "    </tr>\n",
       "  </thead>\n",
       "  <tbody>\n",
       "    <tr>\n",
       "      <th>1</th>\n",
       "      <td>318</td>\n",
       "      <td>11</td>\n",
       "    </tr>\n",
       "    <tr>\n",
       "      <th>0</th>\n",
       "      <td>27</td>\n",
       "      <td>178</td>\n",
       "    </tr>\n",
       "  </tbody>\n",
       "</table>\n",
       "</div>"
      ],
      "text/plain": [
       "     1    0\n",
       "1  318   11\n",
       "0   27  178"
      ]
     },
     "execution_count": 13,
     "metadata": {},
     "output_type": "execute_result"
    }
   ],
   "source": [
    "labels = (y_train.unique())\n",
    "pd.DataFrame(confusion_matrix(y_train, y_pred), index=labels, columns=labels)"
   ]
  },
  {
   "cell_type": "code",
   "execution_count": 14,
   "id": "e16245d5-f112-494e-8957-520704a69c9f",
   "metadata": {
    "tags": []
   },
   "outputs": [
    {
     "name": "stdout",
     "output_type": "stream",
     "text": [
      "              precision    recall  f1-score   support\n",
      "\n",
      "           0       0.92      0.97      0.94       329\n",
      "           1       0.94      0.87      0.90       205\n",
      "\n",
      "    accuracy                           0.93       534\n",
      "   macro avg       0.93      0.92      0.92       534\n",
      "weighted avg       0.93      0.93      0.93       534\n",
      "\n"
     ]
    }
   ],
   "source": [
    "print(classification_report(y_train,y_pred))"
   ]
  },
  {
   "cell_type": "markdown",
   "id": "6ab465cf-c964-4c1f-bccf-e1905c1a9b59",
   "metadata": {},
   "source": [
    "3. Print and clearly label the following: Accuracy, true positive rate, false positive rate, true negative rate, false negative rate, precision, recall, f1-score, and support."
   ]
  },
  {
   "cell_type": "code",
   "execution_count": 15,
   "id": "611f7915-946f-4e2e-a3fe-a316388db3b0",
   "metadata": {
    "tags": []
   },
   "outputs": [],
   "source": [
    "def compute(tp,tn,fp,fn):\n",
    "    accuracy = (tp+tn)/(tp+tn+fp+fn)\n",
    "    true_pos_rate = tp/(tp+fn)\n",
    "    false_pos_rate = fp/(fp+tn)\n",
    "    true_neg_rate = tn/(tn+fp)\n",
    "    false_neg_rate = fn/(tp+fn)\n",
    "    precision = tp/(tp+fp)\n",
    "    recall = tp/(tp+fn)\n",
    "    f1_score = (2*(precision * recall))/(precision + recall)\n",
    "    support = tp + fn + fp + tn\n",
    "    \n",
    "    print(f'accuracy: {accuracy:2f}')\n",
    "    print(f'true positive rate: {true_pos_rate:2f}')\n",
    "    print(f'false positive rate: {false_pos_rate:2f}')\n",
    "    print(f'true negative rate: {true_neg_rate:2f}')\n",
    "    print(f'false negative rate: {false_neg_rate:2f}')\n",
    "    print(f'precision: {precision:2f}')\n",
    "    print(f'recall: {recall:2f}')\n",
    "    print(f'f1-score: {f1_score:2f}')\n",
    "    print(f'support: {support:2f}')"
   ]
  },
  {
   "cell_type": "code",
   "execution_count": 16,
   "id": "52355b8c-aaf3-4374-86d1-6ad76708116b",
   "metadata": {
    "tags": []
   },
   "outputs": [],
   "source": [
    "tp = 318\n",
    "tn = 178\n",
    "fp = 11\n",
    "fn = 27"
   ]
  },
  {
   "cell_type": "code",
   "execution_count": 17,
   "id": "98af080b-6829-46ad-9f77-0569a192fb39",
   "metadata": {
    "tags": []
   },
   "outputs": [
    {
     "name": "stdout",
     "output_type": "stream",
     "text": [
      "accuracy: 0.928839\n",
      "true positive rate: 0.921739\n",
      "false positive rate: 0.058201\n",
      "true negative rate: 0.941799\n",
      "false negative rate: 0.078261\n",
      "precision: 0.966565\n",
      "recall: 0.921739\n",
      "f1-score: 0.943620\n",
      "support: 534.000000\n"
     ]
    }
   ],
   "source": [
    "compute(tp,tn,fp,fn)"
   ]
  },
  {
   "cell_type": "markdown",
   "id": "ab55706a-3635-4370-bbdf-0bc6292881b3",
   "metadata": {},
   "source": [
    "4. Run through steps increasing your min_samples_leaf and decreasing your max_depth."
   ]
  },
  {
   "cell_type": "code",
   "execution_count": 18,
   "id": "fcad2620-8f98-40ef-b96d-cd1c373a3fc8",
   "metadata": {
    "tags": []
   },
   "outputs": [],
   "source": [
    "rf = RandomForestClassifier(max_depth=3, min_samples_leaf=3, random_state=123)"
   ]
  },
  {
   "cell_type": "code",
   "execution_count": 19,
   "id": "26968a42-4b5a-4edc-a9b3-fcf5743050de",
   "metadata": {
    "tags": []
   },
   "outputs": [],
   "source": [
    "rf = rf.fit(X_train,y_train)"
   ]
  },
  {
   "cell_type": "code",
   "execution_count": 20,
   "id": "107a6ed6-67cf-4906-9f7d-3a94016360bd",
   "metadata": {
    "tags": []
   },
   "outputs": [
    {
     "data": {
      "text/plain": [
       "0.8333333333333334"
      ]
     },
     "execution_count": 20,
     "metadata": {},
     "output_type": "execute_result"
    }
   ],
   "source": [
    "rf.score(X_train,y_train)"
   ]
  },
  {
   "cell_type": "code",
   "execution_count": 21,
   "id": "7d450347-2fea-4535-a96b-8d56c351d2aa",
   "metadata": {
    "tags": []
   },
   "outputs": [
    {
     "data": {
      "text/plain": [
       "0.8033707865168539"
      ]
     },
     "execution_count": 21,
     "metadata": {},
     "output_type": "execute_result"
    }
   ],
   "source": [
    "rf.score(X_val,y_val)"
   ]
  },
  {
   "cell_type": "code",
   "execution_count": 22,
   "id": "b719d2ee-f634-4c2c-b778-7e6ce7884cea",
   "metadata": {
    "tags": []
   },
   "outputs": [],
   "source": [
    "y_pred = rf.predict(X_train)"
   ]
  },
  {
   "cell_type": "code",
   "execution_count": 23,
   "id": "e5c92ce5-fa3a-4e08-bd8d-2a34a371e642",
   "metadata": {
    "tags": []
   },
   "outputs": [
    {
     "data": {
      "text/html": [
       "<div>\n",
       "<style scoped>\n",
       "    .dataframe tbody tr th:only-of-type {\n",
       "        vertical-align: middle;\n",
       "    }\n",
       "\n",
       "    .dataframe tbody tr th {\n",
       "        vertical-align: top;\n",
       "    }\n",
       "\n",
       "    .dataframe thead th {\n",
       "        text-align: right;\n",
       "    }\n",
       "</style>\n",
       "<table border=\"1\" class=\"dataframe\">\n",
       "  <thead>\n",
       "    <tr style=\"text-align: right;\">\n",
       "      <th></th>\n",
       "      <th>1</th>\n",
       "      <th>0</th>\n",
       "    </tr>\n",
       "  </thead>\n",
       "  <tbody>\n",
       "    <tr>\n",
       "      <th>1</th>\n",
       "      <td>304</td>\n",
       "      <td>25</td>\n",
       "    </tr>\n",
       "    <tr>\n",
       "      <th>0</th>\n",
       "      <td>64</td>\n",
       "      <td>141</td>\n",
       "    </tr>\n",
       "  </tbody>\n",
       "</table>\n",
       "</div>"
      ],
      "text/plain": [
       "     1    0\n",
       "1  304   25\n",
       "0   64  141"
      ]
     },
     "execution_count": 23,
     "metadata": {},
     "output_type": "execute_result"
    }
   ],
   "source": [
    "labels = (y_train.unique())\n",
    "pd.DataFrame(confusion_matrix(y_train, y_pred), index=labels, columns=labels)"
   ]
  },
  {
   "cell_type": "code",
   "execution_count": 24,
   "id": "27d0ff0b-56d2-4726-8c1c-b6e7341e59d4",
   "metadata": {
    "tags": []
   },
   "outputs": [
    {
     "name": "stdout",
     "output_type": "stream",
     "text": [
      "              precision    recall  f1-score   support\n",
      "\n",
      "           0       0.83      0.92      0.87       329\n",
      "           1       0.85      0.69      0.76       205\n",
      "\n",
      "    accuracy                           0.83       534\n",
      "   macro avg       0.84      0.81      0.82       534\n",
      "weighted avg       0.84      0.83      0.83       534\n",
      "\n"
     ]
    }
   ],
   "source": [
    "print(classification_report(y_train,y_pred))"
   ]
  },
  {
   "cell_type": "code",
   "execution_count": 25,
   "id": "15e7014e-2a19-4ef2-a748-880ae49e3d2d",
   "metadata": {
    "tags": []
   },
   "outputs": [],
   "source": [
    "tp = 304\n",
    "tn = 141\n",
    "fp = 25\n",
    "fn = 64"
   ]
  },
  {
   "cell_type": "code",
   "execution_count": 26,
   "id": "142f3b4d-f748-4a98-b9fa-5759a235a80b",
   "metadata": {
    "tags": []
   },
   "outputs": [
    {
     "name": "stdout",
     "output_type": "stream",
     "text": [
      "accuracy: 0.833333\n",
      "true positive rate: 0.826087\n",
      "false positive rate: 0.150602\n",
      "true negative rate: 0.849398\n",
      "false negative rate: 0.173913\n",
      "precision: 0.924012\n",
      "recall: 0.826087\n",
      "f1-score: 0.872310\n",
      "support: 534.000000\n"
     ]
    }
   ],
   "source": [
    "compute(tp,tn,fp,fn)"
   ]
  },
  {
   "cell_type": "markdown",
   "id": "bf4332f7-f332-4da2-96c2-9404b24ac6d8",
   "metadata": {},
   "source": [
    "5. What are the differences in the evaluation metrics? Which performs better on your in-sample data? Why?"
   ]
  },
  {
   "cell_type": "markdown",
   "id": "d5fa8811-494e-4886-9e56-63645e083d56",
   "metadata": {},
   "source": [
    "> Changed to max_depth from 10 to 3 & the min_samples_leaf from 1 to 3\n",
    "\n",
    "> RandomForestClassifier(max_depth=3, min_samples_leaf=3, random_state=123)\n",
    "\n",
    "> The other model is overfit to our data on the hyperparameters"
   ]
  },
  {
   "cell_type": "markdown",
   "id": "53e270ec-2e02-4def-8a98-eae743b3a53f",
   "metadata": {},
   "source": [
    "After making a few models, which one has the best performance (or closest metrics) on both train and validate?"
   ]
  },
  {
   "cell_type": "markdown",
   "id": "88209122-dde5-43cc-a26a-1a4a74b53f8d",
   "metadata": {},
   "source": [
    "> RandomForestClassifier(max_depth=3, min_samples_leaf=3, random_state=123)"
   ]
  },
  {
   "cell_type": "code",
   "execution_count": null,
   "id": "dedf5035-ab0e-4043-940e-7ccca0629589",
   "metadata": {},
   "outputs": [],
   "source": []
  }
 ],
 "metadata": {
  "kernelspec": {
   "display_name": "Python 3 (ipykernel)",
   "language": "python",
   "name": "python3"
  },
  "language_info": {
   "codemirror_mode": {
    "name": "ipython",
    "version": 3
   },
   "file_extension": ".py",
   "mimetype": "text/x-python",
   "name": "python",
   "nbconvert_exporter": "python",
   "pygments_lexer": "ipython3",
   "version": "3.11.5"
  }
 },
 "nbformat": 4,
 "nbformat_minor": 5
}
