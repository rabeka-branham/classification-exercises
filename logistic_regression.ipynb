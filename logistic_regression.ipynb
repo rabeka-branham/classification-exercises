{
 "cells": [
  {
   "cell_type": "markdown",
   "id": "4750e5cf-ee73-4347-851b-f900aa1532b0",
   "metadata": {},
   "source": [
    "In these exercises, we'll continue working with the titanic dataset and building logistic regression models. Throughout this exercise, be sure you are training, evaluation, and comparing models on the train and validate datasets. The test dataset should only be used for your final model.\n",
    "\n",
    "For all of the models you create, choose a threshold that optimizes for accuracy.\n",
    "\n",
    "Create a new notebook, logistic_regression, use it to answer the following questions:"
   ]
  },
  {
   "cell_type": "code",
   "execution_count": 1,
   "id": "fd717cef-3003-4124-a453-fdee27ab6084",
   "metadata": {
    "tags": []
   },
   "outputs": [],
   "source": [
    "import acquire as a\n",
    "import prepare as p\n",
    "import model as m\n",
    "\n",
    "import numpy as np\n",
    "import pandas as pd\n",
    "\n",
    "from sklearn.model_selection import train_test_split\n",
    "from sklearn.linear_model import LogisticRegression\n",
    "from sklearn.metrics import classification_report\n",
    "from sklearn.metrics import confusion_matrix"
   ]
  },
  {
   "cell_type": "code",
   "execution_count": 2,
   "id": "b176b1eb-f7c7-4057-947b-a0292f8d87a3",
   "metadata": {
    "tags": []
   },
   "outputs": [
    {
     "name": "stdout",
     "output_type": "stream",
     "text": [
      "File exists - reading CSV file\n"
     ]
    }
   ],
   "source": [
    "df = a.get_titanic_data()"
   ]
  },
  {
   "cell_type": "code",
   "execution_count": 3,
   "id": "73e6dd20-ae19-4bd8-943f-dc4fee4f9c20",
   "metadata": {
    "tags": []
   },
   "outputs": [],
   "source": [
    "df = p.prep_titanic(df)"
   ]
  },
  {
   "cell_type": "code",
   "execution_count": 4,
   "id": "1a15de42-e68e-4428-91b3-223049432803",
   "metadata": {
    "tags": []
   },
   "outputs": [],
   "source": [
    "train, validate, test = p.split_data(df, 'survived')"
   ]
  },
  {
   "cell_type": "code",
   "execution_count": 5,
   "id": "b638ae28-597d-481a-a25d-29cd5b61762b",
   "metadata": {
    "tags": []
   },
   "outputs": [],
   "source": [
    "train, validate, test = m.preprocess_titanic(train, validate, test)"
   ]
  },
  {
   "cell_type": "code",
   "execution_count": 6,
   "id": "1de0957b-9eac-4672-aa1f-cc998b2ff0bc",
   "metadata": {
    "tags": []
   },
   "outputs": [],
   "source": [
    "train['age'] = train.age.fillna(train.age.mean())"
   ]
  },
  {
   "cell_type": "code",
   "execution_count": 7,
   "id": "a7d0aa6b-d04f-413a-b5b0-b6878093daad",
   "metadata": {
    "tags": []
   },
   "outputs": [],
   "source": [
    "validate['age'] = validate.age.fillna(train.age.mean())"
   ]
  },
  {
   "cell_type": "code",
   "execution_count": 8,
   "id": "8c1f7457-61ac-4bb9-b92e-1aacb9fe0592",
   "metadata": {
    "tags": []
   },
   "outputs": [],
   "source": [
    "test['age'] = test.age.fillna(train.age.mean())"
   ]
  },
  {
   "cell_type": "code",
   "execution_count": 9,
   "id": "6f3a07fc-1648-446f-8678-af5e672efc73",
   "metadata": {
    "tags": []
   },
   "outputs": [
    {
     "data": {
      "text/html": [
       "<div>\n",
       "<style scoped>\n",
       "    .dataframe tbody tr th:only-of-type {\n",
       "        vertical-align: middle;\n",
       "    }\n",
       "\n",
       "    .dataframe tbody tr th {\n",
       "        vertical-align: top;\n",
       "    }\n",
       "\n",
       "    .dataframe thead th {\n",
       "        text-align: right;\n",
       "    }\n",
       "</style>\n",
       "<table border=\"1\" class=\"dataframe\">\n",
       "  <thead>\n",
       "    <tr style=\"text-align: right;\">\n",
       "      <th></th>\n",
       "      <th>survived</th>\n",
       "      <th>pclass</th>\n",
       "      <th>age</th>\n",
       "      <th>sibsp</th>\n",
       "      <th>parch</th>\n",
       "      <th>fare</th>\n",
       "      <th>alone</th>\n",
       "      <th>embark_town_Queenstown</th>\n",
       "      <th>embark_town_Southampton</th>\n",
       "      <th>sex_male</th>\n",
       "    </tr>\n",
       "  </thead>\n",
       "  <tbody>\n",
       "    <tr>\n",
       "      <th>580</th>\n",
       "      <td>1</td>\n",
       "      <td>2</td>\n",
       "      <td>25.000000</td>\n",
       "      <td>1</td>\n",
       "      <td>1</td>\n",
       "      <td>30.0000</td>\n",
       "      <td>0</td>\n",
       "      <td>0</td>\n",
       "      <td>1</td>\n",
       "      <td>0</td>\n",
       "    </tr>\n",
       "    <tr>\n",
       "      <th>140</th>\n",
       "      <td>0</td>\n",
       "      <td>3</td>\n",
       "      <td>30.592319</td>\n",
       "      <td>0</td>\n",
       "      <td>2</td>\n",
       "      <td>15.2458</td>\n",
       "      <td>0</td>\n",
       "      <td>0</td>\n",
       "      <td>0</td>\n",
       "      <td>0</td>\n",
       "    </tr>\n",
       "    <tr>\n",
       "      <th>747</th>\n",
       "      <td>1</td>\n",
       "      <td>2</td>\n",
       "      <td>30.000000</td>\n",
       "      <td>0</td>\n",
       "      <td>0</td>\n",
       "      <td>13.0000</td>\n",
       "      <td>1</td>\n",
       "      <td>0</td>\n",
       "      <td>1</td>\n",
       "      <td>0</td>\n",
       "    </tr>\n",
       "    <tr>\n",
       "      <th>615</th>\n",
       "      <td>1</td>\n",
       "      <td>2</td>\n",
       "      <td>24.000000</td>\n",
       "      <td>1</td>\n",
       "      <td>2</td>\n",
       "      <td>65.0000</td>\n",
       "      <td>0</td>\n",
       "      <td>0</td>\n",
       "      <td>1</td>\n",
       "      <td>0</td>\n",
       "    </tr>\n",
       "    <tr>\n",
       "      <th>132</th>\n",
       "      <td>0</td>\n",
       "      <td>3</td>\n",
       "      <td>47.000000</td>\n",
       "      <td>1</td>\n",
       "      <td>0</td>\n",
       "      <td>14.5000</td>\n",
       "      <td>0</td>\n",
       "      <td>0</td>\n",
       "      <td>1</td>\n",
       "      <td>0</td>\n",
       "    </tr>\n",
       "  </tbody>\n",
       "</table>\n",
       "</div>"
      ],
      "text/plain": [
       "     survived  pclass        age  sibsp  parch     fare  alone  \\\n",
       "580         1       2  25.000000      1      1  30.0000      0   \n",
       "140         0       3  30.592319      0      2  15.2458      0   \n",
       "747         1       2  30.000000      0      0  13.0000      1   \n",
       "615         1       2  24.000000      1      2  65.0000      0   \n",
       "132         0       3  47.000000      1      0  14.5000      0   \n",
       "\n",
       "     embark_town_Queenstown  embark_town_Southampton  sex_male  \n",
       "580                       0                        1         0  \n",
       "140                       0                        0         0  \n",
       "747                       0                        1         0  \n",
       "615                       0                        1         0  \n",
       "132                       0                        1         0  "
      ]
     },
     "execution_count": 9,
     "metadata": {},
     "output_type": "execute_result"
    }
   ],
   "source": [
    "train.head()"
   ]
  },
  {
   "cell_type": "code",
   "execution_count": 10,
   "id": "70cedf0c-91ea-4730-b494-ebfb5bb2acb4",
   "metadata": {
    "tags": []
   },
   "outputs": [
    {
     "data": {
      "text/plain": [
       "0.6161048689138577"
      ]
     },
     "execution_count": 10,
     "metadata": {},
     "output_type": "execute_result"
    }
   ],
   "source": [
    "# baseline\n",
    "1-train.survived.mean()"
   ]
  },
  {
   "cell_type": "markdown",
   "id": "d96be467-c771-4b12-8ca7-273603f09ceb",
   "metadata": {},
   "source": [
    "1. Create a model that includes only age, fare, and pclass. Does this model perform better than your baseline?"
   ]
  },
  {
   "cell_type": "code",
   "execution_count": 11,
   "id": "d6fd2779-94ee-4cab-a7e5-74a13c94f7ab",
   "metadata": {
    "tags": []
   },
   "outputs": [],
   "source": [
    "X_train = train[['age', 'fare', 'pclass']]\n",
    "y_train = train.survived\n",
    "\n",
    "X_val = validate[['age', 'fare', 'pclass']]\n",
    "y_val = validate.survived\n",
    "\n",
    "X_test = test[['age', 'fare', 'pclass']]\n",
    "y_test = test.survived"
   ]
  },
  {
   "cell_type": "code",
   "execution_count": 12,
   "id": "d0863c4e-b702-4662-96c1-144d895c74cd",
   "metadata": {
    "tags": []
   },
   "outputs": [],
   "source": [
    "lr = LogisticRegression(random_state=123)"
   ]
  },
  {
   "cell_type": "code",
   "execution_count": 13,
   "id": "d84cf25b-c314-4abf-a896-b26b3fbf3902",
   "metadata": {
    "tags": []
   },
   "outputs": [],
   "source": [
    "lr1 = lr.fit(X_train,y_train)"
   ]
  },
  {
   "cell_type": "code",
   "execution_count": 14,
   "id": "1eacf5a7-743e-4a63-987e-85fd5a3a162a",
   "metadata": {
    "tags": []
   },
   "outputs": [
    {
     "data": {
      "text/plain": [
       "0.7134831460674157"
      ]
     },
     "execution_count": 14,
     "metadata": {},
     "output_type": "execute_result"
    }
   ],
   "source": [
    "lr1.score(X_train,y_train)"
   ]
  },
  {
   "cell_type": "markdown",
   "id": "2367e1d1-0b7a-4e61-b687-a0a8f8dac34d",
   "metadata": {},
   "source": [
    "2. Include sex in your model as well. Note that you'll need to encode or create a dummy variable of this feature before including it in a model."
   ]
  },
  {
   "cell_type": "code",
   "execution_count": 26,
   "id": "9cd5da7a-d897-4430-8e71-84cfea398724",
   "metadata": {
    "tags": []
   },
   "outputs": [],
   "source": [
    "X_train = train[['age', 'fare', 'pclass', 'sex_male']]\n",
    "y_train = train.survived\n",
    "\n",
    "X_val = validate[['age', 'fare', 'pclass', 'sex_male']]\n",
    "y_val = validate.survived\n",
    "\n",
    "X_test = test[['age', 'fare', 'pclass', 'sex_male']]\n",
    "y_test = test.survived"
   ]
  },
  {
   "cell_type": "code",
   "execution_count": 27,
   "id": "34a92bcc-b368-4dc5-a254-4fdd9a042478",
   "metadata": {
    "tags": []
   },
   "outputs": [],
   "source": [
    "lr = LogisticRegression(random_state=123)"
   ]
  },
  {
   "cell_type": "code",
   "execution_count": 28,
   "id": "81cb85d5-cd59-4380-8949-142505941f00",
   "metadata": {
    "tags": []
   },
   "outputs": [],
   "source": [
    "lr2 = lr.fit(X_train,y_train)"
   ]
  },
  {
   "cell_type": "code",
   "execution_count": 29,
   "id": "fdddb89f-5f32-4a3b-9984-e864622c067a",
   "metadata": {
    "tags": []
   },
   "outputs": [
    {
     "data": {
      "text/plain": [
       "0.7846441947565543"
      ]
     },
     "execution_count": 29,
     "metadata": {},
     "output_type": "execute_result"
    }
   ],
   "source": [
    "lr2.score(X_train,y_train)"
   ]
  },
  {
   "cell_type": "markdown",
   "id": "e9ec6b77-0508-45a8-b57f-2da91e99a528",
   "metadata": {},
   "source": [
    "3. Try out other combinations of features and models."
   ]
  },
  {
   "cell_type": "code",
   "execution_count": 21,
   "id": "2f322c95-5091-45c5-9f3d-c30d8f0881f7",
   "metadata": {
    "tags": []
   },
   "outputs": [],
   "source": [
    "X_train = train[['sibsp', 'parch', 'alone']]\n",
    "y_train = train.survived\n",
    "\n",
    "X_val = validate[['sibsp', 'parch', 'alone']]\n",
    "y_val = validate.survived\n",
    "\n",
    "X_test = test[['sibsp', 'parch', 'alone']]\n",
    "y_test = test.survived"
   ]
  },
  {
   "cell_type": "code",
   "execution_count": 22,
   "id": "ce79312f-3edb-449d-8292-71799dfb8a45",
   "metadata": {
    "tags": []
   },
   "outputs": [],
   "source": [
    "lr = LogisticRegression(random_state=123)"
   ]
  },
  {
   "cell_type": "code",
   "execution_count": 23,
   "id": "d8eb0a32-d408-4db3-855b-503b9bab4914",
   "metadata": {
    "tags": []
   },
   "outputs": [],
   "source": [
    "lr3 = lr.fit(X_train,y_train)"
   ]
  },
  {
   "cell_type": "code",
   "execution_count": 24,
   "id": "1aa0a148-9929-44a5-9003-d837da173ea9",
   "metadata": {
    "tags": []
   },
   "outputs": [
    {
     "data": {
      "text/plain": [
       "0.6666666666666666"
      ]
     },
     "execution_count": 24,
     "metadata": {},
     "output_type": "execute_result"
    }
   ],
   "source": [
    "lr3.score(X_train,y_train)"
   ]
  },
  {
   "cell_type": "markdown",
   "id": "58c9a15b-54d3-4b01-b726-9f4d6bac16d5",
   "metadata": {},
   "source": [
    "4. Use you best 3 models to predict and evaluate on your validate sample."
   ]
  },
  {
   "cell_type": "code",
   "execution_count": 15,
   "id": "e5cba981-e080-4e44-bebe-bed07767f2e7",
   "metadata": {
    "tags": []
   },
   "outputs": [
    {
     "data": {
      "text/plain": [
       "0.7415730337078652"
      ]
     },
     "execution_count": 15,
     "metadata": {},
     "output_type": "execute_result"
    }
   ],
   "source": [
    "lr1.score(X_val,y_val)"
   ]
  },
  {
   "cell_type": "code",
   "execution_count": 20,
   "id": "e891c3f9-6cb4-4466-9c5c-ed345dfc5813",
   "metadata": {
    "tags": []
   },
   "outputs": [
    {
     "data": {
      "text/plain": [
       "0.8314606741573034"
      ]
     },
     "execution_count": 20,
     "metadata": {},
     "output_type": "execute_result"
    }
   ],
   "source": [
    "lr2.score(X_val,y_val)"
   ]
  },
  {
   "cell_type": "code",
   "execution_count": 25,
   "id": "40fa3ecf-b07c-474d-80bd-ef0313efb9cf",
   "metadata": {
    "tags": []
   },
   "outputs": [
    {
     "data": {
      "text/plain": [
       "0.6966292134831461"
      ]
     },
     "execution_count": 25,
     "metadata": {},
     "output_type": "execute_result"
    }
   ],
   "source": [
    "lr3.score(X_val,y_val)"
   ]
  },
  {
   "cell_type": "markdown",
   "id": "8507e177-edbc-491c-bc6a-6c306b2771fa",
   "metadata": {},
   "source": [
    "5. Choose you best model from the validation performation, and evaluate it on the test dataset. How do the performance metrics compare to validate? to train?"
   ]
  },
  {
   "cell_type": "markdown",
   "id": "e82537b4-d8f9-49e7-bf94-c889b6c51472",
   "metadata": {},
   "source": [
    "> test[['age', 'fare', 'pclass', 'sex_male']] \n",
    "\n",
    "> LogisticRegression(random_state=123)"
   ]
  },
  {
   "cell_type": "code",
   "execution_count": 30,
   "id": "654651f8-f00e-48de-8ebb-5fa1029eff0e",
   "metadata": {
    "tags": []
   },
   "outputs": [
    {
     "data": {
      "text/plain": [
       "0.7430167597765364"
      ]
     },
     "execution_count": 30,
     "metadata": {},
     "output_type": "execute_result"
    }
   ],
   "source": [
    "lr2.score(X_test,y_test)"
   ]
  }
 ],
 "metadata": {
  "kernelspec": {
   "display_name": "Python 3 (ipykernel)",
   "language": "python",
   "name": "python3"
  },
  "language_info": {
   "codemirror_mode": {
    "name": "ipython",
    "version": 3
   },
   "file_extension": ".py",
   "mimetype": "text/x-python",
   "name": "python",
   "nbconvert_exporter": "python",
   "pygments_lexer": "ipython3",
   "version": "3.11.5"
  }
 },
 "nbformat": 4,
 "nbformat_minor": 5
}
