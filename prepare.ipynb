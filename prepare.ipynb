{
 "cells": [
  {
   "cell_type": "code",
   "execution_count": 1,
   "id": "c3111255-22c0-479c-a27c-6e885ebab400",
   "metadata": {
    "tags": []
   },
   "outputs": [],
   "source": [
    "import pandas as pd\n",
    "import numpy as np\n",
    "\n",
    "import acquire\n",
    "from sklearn.model_selection import train_test_split"
   ]
  },
  {
   "cell_type": "markdown",
   "id": "83b7f6d7-e8df-4cda-a124-b5c1551f6abc",
   "metadata": {
    "tags": []
   },
   "source": [
    "# Preparation"
   ]
  },
  {
   "cell_type": "markdown",
   "id": "11d807f3-ff69-47ba-ad06-e9f555665931",
   "metadata": {
    "tags": []
   },
   "source": [
    "## The end product of this exercise should be the specified functions in a python script named prepare.py. Do these in your classification_exercises.ipynb first, then transfer to the prepare.py file.\n",
    "\n",
    "## This work should all be saved in your local classification-exercises repo. Then add, commit, and push your changes."
   ]
  },
  {
   "cell_type": "markdown",
   "id": "51d6ad97-887c-4d8c-8940-47e3990eb226",
   "metadata": {
    "tags": []
   },
   "source": [
    "### Using the Iris Data:"
   ]
  },
  {
   "cell_type": "markdown",
   "id": "38ca4562-97bc-4d3c-b809-6eb4eb278282",
   "metadata": {},
   "source": [
    ">**1. Use the function defined in acquire.py to load the iris data.**"
   ]
  },
  {
   "cell_type": "code",
   "execution_count": 2,
   "id": "de82e38f-8ecc-4f10-9165-9e8299230e9b",
   "metadata": {
    "tags": []
   },
   "outputs": [
    {
     "name": "stdout",
     "output_type": "stream",
     "text": [
      "File exists - reading CSV file\n"
     ]
    }
   ],
   "source": [
    "df_iris = acquire.get_iris_data()"
   ]
  },
  {
   "cell_type": "code",
   "execution_count": 3,
   "id": "53636d08-c798-4265-ae33-2e86096d215c",
   "metadata": {
    "tags": []
   },
   "outputs": [
    {
     "data": {
      "text/html": [
       "<div>\n",
       "<style scoped>\n",
       "    .dataframe tbody tr th:only-of-type {\n",
       "        vertical-align: middle;\n",
       "    }\n",
       "\n",
       "    .dataframe tbody tr th {\n",
       "        vertical-align: top;\n",
       "    }\n",
       "\n",
       "    .dataframe thead th {\n",
       "        text-align: right;\n",
       "    }\n",
       "</style>\n",
       "<table border=\"1\" class=\"dataframe\">\n",
       "  <thead>\n",
       "    <tr style=\"text-align: right;\">\n",
       "      <th></th>\n",
       "      <th>species_id</th>\n",
       "      <th>measurement_id</th>\n",
       "      <th>sepal_length</th>\n",
       "      <th>sepal_width</th>\n",
       "      <th>petal_length</th>\n",
       "      <th>petal_width</th>\n",
       "      <th>species_name</th>\n",
       "    </tr>\n",
       "  </thead>\n",
       "  <tbody>\n",
       "    <tr>\n",
       "      <th>0</th>\n",
       "      <td>1</td>\n",
       "      <td>1</td>\n",
       "      <td>5.1</td>\n",
       "      <td>3.5</td>\n",
       "      <td>1.4</td>\n",
       "      <td>0.2</td>\n",
       "      <td>setosa</td>\n",
       "    </tr>\n",
       "    <tr>\n",
       "      <th>1</th>\n",
       "      <td>1</td>\n",
       "      <td>2</td>\n",
       "      <td>4.9</td>\n",
       "      <td>3.0</td>\n",
       "      <td>1.4</td>\n",
       "      <td>0.2</td>\n",
       "      <td>setosa</td>\n",
       "    </tr>\n",
       "    <tr>\n",
       "      <th>2</th>\n",
       "      <td>1</td>\n",
       "      <td>3</td>\n",
       "      <td>4.7</td>\n",
       "      <td>3.2</td>\n",
       "      <td>1.3</td>\n",
       "      <td>0.2</td>\n",
       "      <td>setosa</td>\n",
       "    </tr>\n",
       "    <tr>\n",
       "      <th>3</th>\n",
       "      <td>1</td>\n",
       "      <td>4</td>\n",
       "      <td>4.6</td>\n",
       "      <td>3.1</td>\n",
       "      <td>1.5</td>\n",
       "      <td>0.2</td>\n",
       "      <td>setosa</td>\n",
       "    </tr>\n",
       "    <tr>\n",
       "      <th>4</th>\n",
       "      <td>1</td>\n",
       "      <td>5</td>\n",
       "      <td>5.0</td>\n",
       "      <td>3.6</td>\n",
       "      <td>1.4</td>\n",
       "      <td>0.2</td>\n",
       "      <td>setosa</td>\n",
       "    </tr>\n",
       "  </tbody>\n",
       "</table>\n",
       "</div>"
      ],
      "text/plain": [
       "   species_id  measurement_id  sepal_length  sepal_width  petal_length  \\\n",
       "0           1               1           5.1          3.5           1.4   \n",
       "1           1               2           4.9          3.0           1.4   \n",
       "2           1               3           4.7          3.2           1.3   \n",
       "3           1               4           4.6          3.1           1.5   \n",
       "4           1               5           5.0          3.6           1.4   \n",
       "\n",
       "   petal_width species_name  \n",
       "0          0.2       setosa  \n",
       "1          0.2       setosa  \n",
       "2          0.2       setosa  \n",
       "3          0.2       setosa  \n",
       "4          0.2       setosa  "
      ]
     },
     "execution_count": 3,
     "metadata": {},
     "output_type": "execute_result"
    }
   ],
   "source": [
    "df_iris.head()"
   ]
  },
  {
   "cell_type": "markdown",
   "id": "c0b273fa-ad24-4c78-90ce-dafb855282e7",
   "metadata": {},
   "source": [
    ">**2. Clean up the column names - replace the period with an underscore and lowercase.**"
   ]
  },
  {
   "cell_type": "code",
   "execution_count": 4,
   "id": "1d4a5142-d13d-46de-886f-600454a7a8de",
   "metadata": {
    "tags": []
   },
   "outputs": [],
   "source": [
    "df_iris.columns = df_iris.columns.str.replace('.','_').str.lower()"
   ]
  },
  {
   "cell_type": "code",
   "execution_count": 5,
   "id": "504cdc14-83d9-4698-a352-082d33961f7a",
   "metadata": {
    "tags": []
   },
   "outputs": [
    {
     "data": {
      "text/html": [
       "<div>\n",
       "<style scoped>\n",
       "    .dataframe tbody tr th:only-of-type {\n",
       "        vertical-align: middle;\n",
       "    }\n",
       "\n",
       "    .dataframe tbody tr th {\n",
       "        vertical-align: top;\n",
       "    }\n",
       "\n",
       "    .dataframe thead th {\n",
       "        text-align: right;\n",
       "    }\n",
       "</style>\n",
       "<table border=\"1\" class=\"dataframe\">\n",
       "  <thead>\n",
       "    <tr style=\"text-align: right;\">\n",
       "      <th></th>\n",
       "      <th>species_id</th>\n",
       "      <th>measurement_id</th>\n",
       "      <th>sepal_length</th>\n",
       "      <th>sepal_width</th>\n",
       "      <th>petal_length</th>\n",
       "      <th>petal_width</th>\n",
       "      <th>species_name</th>\n",
       "    </tr>\n",
       "  </thead>\n",
       "  <tbody>\n",
       "    <tr>\n",
       "      <th>0</th>\n",
       "      <td>1</td>\n",
       "      <td>1</td>\n",
       "      <td>5.1</td>\n",
       "      <td>3.5</td>\n",
       "      <td>1.4</td>\n",
       "      <td>0.2</td>\n",
       "      <td>setosa</td>\n",
       "    </tr>\n",
       "    <tr>\n",
       "      <th>1</th>\n",
       "      <td>1</td>\n",
       "      <td>2</td>\n",
       "      <td>4.9</td>\n",
       "      <td>3.0</td>\n",
       "      <td>1.4</td>\n",
       "      <td>0.2</td>\n",
       "      <td>setosa</td>\n",
       "    </tr>\n",
       "    <tr>\n",
       "      <th>2</th>\n",
       "      <td>1</td>\n",
       "      <td>3</td>\n",
       "      <td>4.7</td>\n",
       "      <td>3.2</td>\n",
       "      <td>1.3</td>\n",
       "      <td>0.2</td>\n",
       "      <td>setosa</td>\n",
       "    </tr>\n",
       "    <tr>\n",
       "      <th>3</th>\n",
       "      <td>1</td>\n",
       "      <td>4</td>\n",
       "      <td>4.6</td>\n",
       "      <td>3.1</td>\n",
       "      <td>1.5</td>\n",
       "      <td>0.2</td>\n",
       "      <td>setosa</td>\n",
       "    </tr>\n",
       "    <tr>\n",
       "      <th>4</th>\n",
       "      <td>1</td>\n",
       "      <td>5</td>\n",
       "      <td>5.0</td>\n",
       "      <td>3.6</td>\n",
       "      <td>1.4</td>\n",
       "      <td>0.2</td>\n",
       "      <td>setosa</td>\n",
       "    </tr>\n",
       "  </tbody>\n",
       "</table>\n",
       "</div>"
      ],
      "text/plain": [
       "   species_id  measurement_id  sepal_length  sepal_width  petal_length  \\\n",
       "0           1               1           5.1          3.5           1.4   \n",
       "1           1               2           4.9          3.0           1.4   \n",
       "2           1               3           4.7          3.2           1.3   \n",
       "3           1               4           4.6          3.1           1.5   \n",
       "4           1               5           5.0          3.6           1.4   \n",
       "\n",
       "   petal_width species_name  \n",
       "0          0.2       setosa  \n",
       "1          0.2       setosa  \n",
       "2          0.2       setosa  \n",
       "3          0.2       setosa  \n",
       "4          0.2       setosa  "
      ]
     },
     "execution_count": 5,
     "metadata": {},
     "output_type": "execute_result"
    }
   ],
   "source": [
    "df_iris.head()"
   ]
  },
  {
   "cell_type": "markdown",
   "id": "bca6c368-6970-4efc-96df-5641aa0fe785",
   "metadata": {},
   "source": [
    ">**3. Drop the species_id and measurement_id columns.**"
   ]
  },
  {
   "cell_type": "code",
   "execution_count": 6,
   "id": "6aee1630-b0d9-44bb-bcbf-67080a128262",
   "metadata": {
    "tags": []
   },
   "outputs": [],
   "source": [
    "df_iris = df_iris.drop(columns = ['species_id', 'measurement_id'])"
   ]
  },
  {
   "cell_type": "code",
   "execution_count": 7,
   "id": "88f1c59b-4238-4d33-97c0-a860fcb9cefa",
   "metadata": {
    "tags": []
   },
   "outputs": [
    {
     "data": {
      "text/html": [
       "<div>\n",
       "<style scoped>\n",
       "    .dataframe tbody tr th:only-of-type {\n",
       "        vertical-align: middle;\n",
       "    }\n",
       "\n",
       "    .dataframe tbody tr th {\n",
       "        vertical-align: top;\n",
       "    }\n",
       "\n",
       "    .dataframe thead th {\n",
       "        text-align: right;\n",
       "    }\n",
       "</style>\n",
       "<table border=\"1\" class=\"dataframe\">\n",
       "  <thead>\n",
       "    <tr style=\"text-align: right;\">\n",
       "      <th></th>\n",
       "      <th>sepal_length</th>\n",
       "      <th>sepal_width</th>\n",
       "      <th>petal_length</th>\n",
       "      <th>petal_width</th>\n",
       "      <th>species_name</th>\n",
       "    </tr>\n",
       "  </thead>\n",
       "  <tbody>\n",
       "    <tr>\n",
       "      <th>0</th>\n",
       "      <td>5.1</td>\n",
       "      <td>3.5</td>\n",
       "      <td>1.4</td>\n",
       "      <td>0.2</td>\n",
       "      <td>setosa</td>\n",
       "    </tr>\n",
       "    <tr>\n",
       "      <th>1</th>\n",
       "      <td>4.9</td>\n",
       "      <td>3.0</td>\n",
       "      <td>1.4</td>\n",
       "      <td>0.2</td>\n",
       "      <td>setosa</td>\n",
       "    </tr>\n",
       "    <tr>\n",
       "      <th>2</th>\n",
       "      <td>4.7</td>\n",
       "      <td>3.2</td>\n",
       "      <td>1.3</td>\n",
       "      <td>0.2</td>\n",
       "      <td>setosa</td>\n",
       "    </tr>\n",
       "    <tr>\n",
       "      <th>3</th>\n",
       "      <td>4.6</td>\n",
       "      <td>3.1</td>\n",
       "      <td>1.5</td>\n",
       "      <td>0.2</td>\n",
       "      <td>setosa</td>\n",
       "    </tr>\n",
       "    <tr>\n",
       "      <th>4</th>\n",
       "      <td>5.0</td>\n",
       "      <td>3.6</td>\n",
       "      <td>1.4</td>\n",
       "      <td>0.2</td>\n",
       "      <td>setosa</td>\n",
       "    </tr>\n",
       "  </tbody>\n",
       "</table>\n",
       "</div>"
      ],
      "text/plain": [
       "   sepal_length  sepal_width  petal_length  petal_width species_name\n",
       "0           5.1          3.5           1.4          0.2       setosa\n",
       "1           4.9          3.0           1.4          0.2       setosa\n",
       "2           4.7          3.2           1.3          0.2       setosa\n",
       "3           4.6          3.1           1.5          0.2       setosa\n",
       "4           5.0          3.6           1.4          0.2       setosa"
      ]
     },
     "execution_count": 7,
     "metadata": {},
     "output_type": "execute_result"
    }
   ],
   "source": [
    "df_iris.head()"
   ]
  },
  {
   "cell_type": "markdown",
   "id": "37751d62-c157-4320-9ec1-eaabfa08fac2",
   "metadata": {},
   "source": [
    ">**4. Rename the species_name column to just species.**"
   ]
  },
  {
   "cell_type": "code",
   "execution_count": 8,
   "id": "2ee6c698-226d-44dc-ad95-6455e3b9c5a1",
   "metadata": {
    "tags": []
   },
   "outputs": [],
   "source": [
    "df_iris = df_iris.rename(columns={'species_name':'species'})"
   ]
  },
  {
   "cell_type": "code",
   "execution_count": 9,
   "id": "ba52b0ff-b2c1-4fb6-95c0-7dc251717991",
   "metadata": {
    "tags": []
   },
   "outputs": [
    {
     "data": {
      "text/html": [
       "<div>\n",
       "<style scoped>\n",
       "    .dataframe tbody tr th:only-of-type {\n",
       "        vertical-align: middle;\n",
       "    }\n",
       "\n",
       "    .dataframe tbody tr th {\n",
       "        vertical-align: top;\n",
       "    }\n",
       "\n",
       "    .dataframe thead th {\n",
       "        text-align: right;\n",
       "    }\n",
       "</style>\n",
       "<table border=\"1\" class=\"dataframe\">\n",
       "  <thead>\n",
       "    <tr style=\"text-align: right;\">\n",
       "      <th></th>\n",
       "      <th>sepal_length</th>\n",
       "      <th>sepal_width</th>\n",
       "      <th>petal_length</th>\n",
       "      <th>petal_width</th>\n",
       "      <th>species</th>\n",
       "    </tr>\n",
       "  </thead>\n",
       "  <tbody>\n",
       "    <tr>\n",
       "      <th>0</th>\n",
       "      <td>5.1</td>\n",
       "      <td>3.5</td>\n",
       "      <td>1.4</td>\n",
       "      <td>0.2</td>\n",
       "      <td>setosa</td>\n",
       "    </tr>\n",
       "    <tr>\n",
       "      <th>1</th>\n",
       "      <td>4.9</td>\n",
       "      <td>3.0</td>\n",
       "      <td>1.4</td>\n",
       "      <td>0.2</td>\n",
       "      <td>setosa</td>\n",
       "    </tr>\n",
       "    <tr>\n",
       "      <th>2</th>\n",
       "      <td>4.7</td>\n",
       "      <td>3.2</td>\n",
       "      <td>1.3</td>\n",
       "      <td>0.2</td>\n",
       "      <td>setosa</td>\n",
       "    </tr>\n",
       "    <tr>\n",
       "      <th>3</th>\n",
       "      <td>4.6</td>\n",
       "      <td>3.1</td>\n",
       "      <td>1.5</td>\n",
       "      <td>0.2</td>\n",
       "      <td>setosa</td>\n",
       "    </tr>\n",
       "    <tr>\n",
       "      <th>4</th>\n",
       "      <td>5.0</td>\n",
       "      <td>3.6</td>\n",
       "      <td>1.4</td>\n",
       "      <td>0.2</td>\n",
       "      <td>setosa</td>\n",
       "    </tr>\n",
       "  </tbody>\n",
       "</table>\n",
       "</div>"
      ],
      "text/plain": [
       "   sepal_length  sepal_width  petal_length  petal_width species\n",
       "0           5.1          3.5           1.4          0.2  setosa\n",
       "1           4.9          3.0           1.4          0.2  setosa\n",
       "2           4.7          3.2           1.3          0.2  setosa\n",
       "3           4.6          3.1           1.5          0.2  setosa\n",
       "4           5.0          3.6           1.4          0.2  setosa"
      ]
     },
     "execution_count": 9,
     "metadata": {},
     "output_type": "execute_result"
    }
   ],
   "source": [
    "df_iris.head()"
   ]
  },
  {
   "cell_type": "markdown",
   "id": "303abef9-7453-4368-9d3d-ff03bf4cc51e",
   "metadata": {},
   "source": [
    ">**5. Create a function named prep_iris that accepts the untransformed iris data, and returns the data with the transformations above applied.**"
   ]
  },
  {
   "cell_type": "code",
   "execution_count": 10,
   "id": "930b09d6-4f0d-4453-b866-a3bce473b7e0",
   "metadata": {
    "tags": []
   },
   "outputs": [],
   "source": [
    "def prep_iris(dataframe):\n",
    "    df = dataframe.drop(columns = ['species_id', 'measurement_id'])\n",
    "    df = df.rename(columns={'species_name':'species'})\n",
    "    return df"
   ]
  },
  {
   "cell_type": "code",
   "execution_count": 11,
   "id": "a0924f16-cddd-4d4d-9f9f-d56c9e48f495",
   "metadata": {
    "tags": []
   },
   "outputs": [
    {
     "name": "stdout",
     "output_type": "stream",
     "text": [
      "File exists - reading CSV file\n"
     ]
    }
   ],
   "source": [
    "df_iris = acquire.get_iris_data()"
   ]
  },
  {
   "cell_type": "code",
   "execution_count": 12,
   "id": "d900cbd0-e789-47d2-860d-0f79dfc1642f",
   "metadata": {
    "tags": []
   },
   "outputs": [],
   "source": [
    "df_iris = prep_iris(df_iris)"
   ]
  },
  {
   "cell_type": "code",
   "execution_count": 13,
   "id": "14694a7d-3342-44f1-894c-bf82d1691b9c",
   "metadata": {
    "tags": []
   },
   "outputs": [
    {
     "data": {
      "text/html": [
       "<div>\n",
       "<style scoped>\n",
       "    .dataframe tbody tr th:only-of-type {\n",
       "        vertical-align: middle;\n",
       "    }\n",
       "\n",
       "    .dataframe tbody tr th {\n",
       "        vertical-align: top;\n",
       "    }\n",
       "\n",
       "    .dataframe thead th {\n",
       "        text-align: right;\n",
       "    }\n",
       "</style>\n",
       "<table border=\"1\" class=\"dataframe\">\n",
       "  <thead>\n",
       "    <tr style=\"text-align: right;\">\n",
       "      <th></th>\n",
       "      <th>sepal_length</th>\n",
       "      <th>sepal_width</th>\n",
       "      <th>petal_length</th>\n",
       "      <th>petal_width</th>\n",
       "      <th>species</th>\n",
       "    </tr>\n",
       "  </thead>\n",
       "  <tbody>\n",
       "    <tr>\n",
       "      <th>0</th>\n",
       "      <td>5.1</td>\n",
       "      <td>3.5</td>\n",
       "      <td>1.4</td>\n",
       "      <td>0.2</td>\n",
       "      <td>setosa</td>\n",
       "    </tr>\n",
       "    <tr>\n",
       "      <th>1</th>\n",
       "      <td>4.9</td>\n",
       "      <td>3.0</td>\n",
       "      <td>1.4</td>\n",
       "      <td>0.2</td>\n",
       "      <td>setosa</td>\n",
       "    </tr>\n",
       "    <tr>\n",
       "      <th>2</th>\n",
       "      <td>4.7</td>\n",
       "      <td>3.2</td>\n",
       "      <td>1.3</td>\n",
       "      <td>0.2</td>\n",
       "      <td>setosa</td>\n",
       "    </tr>\n",
       "    <tr>\n",
       "      <th>3</th>\n",
       "      <td>4.6</td>\n",
       "      <td>3.1</td>\n",
       "      <td>1.5</td>\n",
       "      <td>0.2</td>\n",
       "      <td>setosa</td>\n",
       "    </tr>\n",
       "    <tr>\n",
       "      <th>4</th>\n",
       "      <td>5.0</td>\n",
       "      <td>3.6</td>\n",
       "      <td>1.4</td>\n",
       "      <td>0.2</td>\n",
       "      <td>setosa</td>\n",
       "    </tr>\n",
       "  </tbody>\n",
       "</table>\n",
       "</div>"
      ],
      "text/plain": [
       "   sepal_length  sepal_width  petal_length  petal_width species\n",
       "0           5.1          3.5           1.4          0.2  setosa\n",
       "1           4.9          3.0           1.4          0.2  setosa\n",
       "2           4.7          3.2           1.3          0.2  setosa\n",
       "3           4.6          3.1           1.5          0.2  setosa\n",
       "4           5.0          3.6           1.4          0.2  setosa"
      ]
     },
     "execution_count": 13,
     "metadata": {},
     "output_type": "execute_result"
    }
   ],
   "source": [
    "df_iris.head()"
   ]
  },
  {
   "cell_type": "markdown",
   "id": "eb021457-a99a-4099-956e-904f04514754",
   "metadata": {
    "tags": []
   },
   "source": [
    "### Using the Titanic dataset"
   ]
  },
  {
   "cell_type": "markdown",
   "id": "b3e4db32-420a-4f6d-a0a1-6779e28075ae",
   "metadata": {},
   "source": [
    ">**1. Use the function defined in acquire.py to load the Titanic data.**"
   ]
  },
  {
   "cell_type": "code",
   "execution_count": 14,
   "id": "a757a328-f053-4aae-a00d-e938b6f5e440",
   "metadata": {
    "tags": []
   },
   "outputs": [
    {
     "name": "stdout",
     "output_type": "stream",
     "text": [
      "File exists - reading CSV file\n"
     ]
    }
   ],
   "source": [
    "df_titanic = acquire.get_titanic_data()"
   ]
  },
  {
   "cell_type": "markdown",
   "id": "06c35aff-385b-4d3a-9a4c-b9e59ffdcccb",
   "metadata": {},
   "source": [
    ">**2. Drop any unnecessary, unhelpful, or duplicated columns.**"
   ]
  },
  {
   "cell_type": "code",
   "execution_count": 15,
   "id": "b51b6ce8-2a03-498c-b0cb-79175c4bd072",
   "metadata": {
    "tags": []
   },
   "outputs": [],
   "source": [
    "df_titanic = df_titanic.drop(columns=['embarked','class','deck','age'])"
   ]
  },
  {
   "cell_type": "markdown",
   "id": "0871938d-659d-43f6-8d43-5f01b2f60423",
   "metadata": {},
   "source": [
    ">**3. Create a function named prep_titanic that accepts the raw titanic data, and returns the data with the transformations above applied.**"
   ]
  },
  {
   "cell_type": "code",
   "execution_count": 16,
   "id": "6c409326-4d42-432d-b9d7-cce39d79ea09",
   "metadata": {
    "tags": []
   },
   "outputs": [],
   "source": [
    "def prep_titanic(dataframe):\n",
    "    df = dataframe.drop(columns=['embarked','class','deck','age'])\n",
    "    df.pclass = df.pclass.astype(object)\n",
    "    df.embark_town = df.embark_town.fillna('Southampton')\n",
    "    return df"
   ]
  },
  {
   "cell_type": "code",
   "execution_count": 17,
   "id": "3382c6dd-00d9-4420-86e0-249c8212d070",
   "metadata": {
    "tags": []
   },
   "outputs": [
    {
     "name": "stdout",
     "output_type": "stream",
     "text": [
      "File exists - reading CSV file\n"
     ]
    }
   ],
   "source": [
    "df_titanic = acquire.get_titanic_data()"
   ]
  },
  {
   "cell_type": "code",
   "execution_count": 18,
   "id": "59fdfe4a-4971-4f79-a070-e8af3b03a0cd",
   "metadata": {
    "tags": []
   },
   "outputs": [],
   "source": [
    "df_titanic = prep_titanic(df_titanic)"
   ]
  },
  {
   "cell_type": "code",
   "execution_count": 19,
   "id": "e5fe697f-3a25-4f44-aa6a-9b5c5604d9d4",
   "metadata": {
    "tags": []
   },
   "outputs": [
    {
     "data": {
      "text/html": [
       "<div>\n",
       "<style scoped>\n",
       "    .dataframe tbody tr th:only-of-type {\n",
       "        vertical-align: middle;\n",
       "    }\n",
       "\n",
       "    .dataframe tbody tr th {\n",
       "        vertical-align: top;\n",
       "    }\n",
       "\n",
       "    .dataframe thead th {\n",
       "        text-align: right;\n",
       "    }\n",
       "</style>\n",
       "<table border=\"1\" class=\"dataframe\">\n",
       "  <thead>\n",
       "    <tr style=\"text-align: right;\">\n",
       "      <th></th>\n",
       "      <th>survived</th>\n",
       "      <th>pclass</th>\n",
       "      <th>sex</th>\n",
       "      <th>sibsp</th>\n",
       "      <th>parch</th>\n",
       "      <th>fare</th>\n",
       "      <th>embark_town</th>\n",
       "      <th>alone</th>\n",
       "    </tr>\n",
       "    <tr>\n",
       "      <th>passenger_id</th>\n",
       "      <th></th>\n",
       "      <th></th>\n",
       "      <th></th>\n",
       "      <th></th>\n",
       "      <th></th>\n",
       "      <th></th>\n",
       "      <th></th>\n",
       "      <th></th>\n",
       "    </tr>\n",
       "  </thead>\n",
       "  <tbody>\n",
       "    <tr>\n",
       "      <th>0</th>\n",
       "      <td>0</td>\n",
       "      <td>3</td>\n",
       "      <td>male</td>\n",
       "      <td>1</td>\n",
       "      <td>0</td>\n",
       "      <td>7.2500</td>\n",
       "      <td>Southampton</td>\n",
       "      <td>0</td>\n",
       "    </tr>\n",
       "    <tr>\n",
       "      <th>1</th>\n",
       "      <td>1</td>\n",
       "      <td>1</td>\n",
       "      <td>female</td>\n",
       "      <td>1</td>\n",
       "      <td>0</td>\n",
       "      <td>71.2833</td>\n",
       "      <td>Cherbourg</td>\n",
       "      <td>0</td>\n",
       "    </tr>\n",
       "    <tr>\n",
       "      <th>2</th>\n",
       "      <td>1</td>\n",
       "      <td>3</td>\n",
       "      <td>female</td>\n",
       "      <td>0</td>\n",
       "      <td>0</td>\n",
       "      <td>7.9250</td>\n",
       "      <td>Southampton</td>\n",
       "      <td>1</td>\n",
       "    </tr>\n",
       "    <tr>\n",
       "      <th>3</th>\n",
       "      <td>1</td>\n",
       "      <td>1</td>\n",
       "      <td>female</td>\n",
       "      <td>1</td>\n",
       "      <td>0</td>\n",
       "      <td>53.1000</td>\n",
       "      <td>Southampton</td>\n",
       "      <td>0</td>\n",
       "    </tr>\n",
       "    <tr>\n",
       "      <th>4</th>\n",
       "      <td>0</td>\n",
       "      <td>3</td>\n",
       "      <td>male</td>\n",
       "      <td>0</td>\n",
       "      <td>0</td>\n",
       "      <td>8.0500</td>\n",
       "      <td>Southampton</td>\n",
       "      <td>1</td>\n",
       "    </tr>\n",
       "  </tbody>\n",
       "</table>\n",
       "</div>"
      ],
      "text/plain": [
       "              survived pclass     sex  sibsp  parch     fare  embark_town  \\\n",
       "passenger_id                                                                \n",
       "0                    0      3    male      1      0   7.2500  Southampton   \n",
       "1                    1      1  female      1      0  71.2833    Cherbourg   \n",
       "2                    1      3  female      0      0   7.9250  Southampton   \n",
       "3                    1      1  female      1      0  53.1000  Southampton   \n",
       "4                    0      3    male      0      0   8.0500  Southampton   \n",
       "\n",
       "              alone  \n",
       "passenger_id         \n",
       "0                 0  \n",
       "1                 0  \n",
       "2                 1  \n",
       "3                 0  \n",
       "4                 1  "
      ]
     },
     "execution_count": 19,
     "metadata": {},
     "output_type": "execute_result"
    }
   ],
   "source": [
    "df_titanic.head()"
   ]
  },
  {
   "cell_type": "markdown",
   "id": "677af6cf-1cd4-4497-8ede-a3e2a6d5c257",
   "metadata": {
    "tags": []
   },
   "source": [
    "### Using the Telco dataset:"
   ]
  },
  {
   "cell_type": "markdown",
   "id": "5eb39681-8a47-4e23-838c-306b924ab624",
   "metadata": {},
   "source": [
    ">**1. Use the function defined in acquire.py to load the Telco data.**"
   ]
  },
  {
   "cell_type": "code",
   "execution_count": 49,
   "id": "d4463111-a68e-42af-8514-e7364401d961",
   "metadata": {
    "tags": []
   },
   "outputs": [
    {
     "name": "stdout",
     "output_type": "stream",
     "text": [
      "File exists - reading CSV file\n"
     ]
    }
   ],
   "source": [
    "df_telco = acquire.get_telco_data()"
   ]
  },
  {
   "cell_type": "markdown",
   "id": "986b6ded-9d08-46e4-bd31-cbd556ac24fb",
   "metadata": {},
   "source": [
    ">**2. Drop any unnecessary, unhelpful, or duplicated columns. This could mean dropping foreign key columns but keeping the corresponding string values, for example.**"
   ]
  },
  {
   "cell_type": "code",
   "execution_count": 50,
   "id": "68d7a4c1-e2cf-4176-ba8f-fa0a6daf83b8",
   "metadata": {
    "tags": []
   },
   "outputs": [
    {
     "data": {
      "text/html": [
       "<div>\n",
       "<style scoped>\n",
       "    .dataframe tbody tr th:only-of-type {\n",
       "        vertical-align: middle;\n",
       "    }\n",
       "\n",
       "    .dataframe tbody tr th {\n",
       "        vertical-align: top;\n",
       "    }\n",
       "\n",
       "    .dataframe thead th {\n",
       "        text-align: right;\n",
       "    }\n",
       "</style>\n",
       "<table border=\"1\" class=\"dataframe\">\n",
       "  <thead>\n",
       "    <tr style=\"text-align: right;\">\n",
       "      <th>payment_type_id</th>\n",
       "      <th>1</th>\n",
       "      <th>2</th>\n",
       "      <th>3</th>\n",
       "      <th>4</th>\n",
       "    </tr>\n",
       "    <tr>\n",
       "      <th>payment_type</th>\n",
       "      <th></th>\n",
       "      <th></th>\n",
       "      <th></th>\n",
       "      <th></th>\n",
       "    </tr>\n",
       "  </thead>\n",
       "  <tbody>\n",
       "    <tr>\n",
       "      <th>Bank transfer (automatic)</th>\n",
       "      <td>0</td>\n",
       "      <td>0</td>\n",
       "      <td>1544</td>\n",
       "      <td>0</td>\n",
       "    </tr>\n",
       "    <tr>\n",
       "      <th>Credit card (automatic)</th>\n",
       "      <td>0</td>\n",
       "      <td>0</td>\n",
       "      <td>0</td>\n",
       "      <td>1522</td>\n",
       "    </tr>\n",
       "    <tr>\n",
       "      <th>Electronic check</th>\n",
       "      <td>2365</td>\n",
       "      <td>0</td>\n",
       "      <td>0</td>\n",
       "      <td>0</td>\n",
       "    </tr>\n",
       "    <tr>\n",
       "      <th>Mailed check</th>\n",
       "      <td>0</td>\n",
       "      <td>1612</td>\n",
       "      <td>0</td>\n",
       "      <td>0</td>\n",
       "    </tr>\n",
       "  </tbody>\n",
       "</table>\n",
       "</div>"
      ],
      "text/plain": [
       "payment_type_id               1     2     3     4\n",
       "payment_type                                     \n",
       "Bank transfer (automatic)     0     0  1544     0\n",
       "Credit card (automatic)       0     0     0  1522\n",
       "Electronic check           2365     0     0     0\n",
       "Mailed check                  0  1612     0     0"
      ]
     },
     "execution_count": 50,
     "metadata": {},
     "output_type": "execute_result"
    }
   ],
   "source": [
    "pd.crosstab(df_telco.payment_type,df_telco.payment_type_id,dropna=False)"
   ]
  },
  {
   "cell_type": "code",
   "execution_count": 51,
   "id": "92e65983-0a18-41ca-8e18-55e06ac60d71",
   "metadata": {
    "tags": []
   },
   "outputs": [
    {
     "data": {
      "text/html": [
       "<div>\n",
       "<style scoped>\n",
       "    .dataframe tbody tr th:only-of-type {\n",
       "        vertical-align: middle;\n",
       "    }\n",
       "\n",
       "    .dataframe tbody tr th {\n",
       "        vertical-align: top;\n",
       "    }\n",
       "\n",
       "    .dataframe thead th {\n",
       "        text-align: right;\n",
       "    }\n",
       "</style>\n",
       "<table border=\"1\" class=\"dataframe\">\n",
       "  <thead>\n",
       "    <tr style=\"text-align: right;\">\n",
       "      <th>internet_service_type_id</th>\n",
       "      <th>1</th>\n",
       "      <th>2</th>\n",
       "      <th>3</th>\n",
       "    </tr>\n",
       "    <tr>\n",
       "      <th>internet_service_type</th>\n",
       "      <th></th>\n",
       "      <th></th>\n",
       "      <th></th>\n",
       "    </tr>\n",
       "  </thead>\n",
       "  <tbody>\n",
       "    <tr>\n",
       "      <th>DSL</th>\n",
       "      <td>2421</td>\n",
       "      <td>0</td>\n",
       "      <td>0</td>\n",
       "    </tr>\n",
       "    <tr>\n",
       "      <th>Fiber optic</th>\n",
       "      <td>0</td>\n",
       "      <td>3096</td>\n",
       "      <td>0</td>\n",
       "    </tr>\n",
       "  </tbody>\n",
       "</table>\n",
       "</div>"
      ],
      "text/plain": [
       "internet_service_type_id     1     2  3\n",
       "internet_service_type                  \n",
       "DSL                       2421     0  0\n",
       "Fiber optic                  0  3096  0"
      ]
     },
     "execution_count": 51,
     "metadata": {},
     "output_type": "execute_result"
    }
   ],
   "source": [
    "pd.crosstab(df_telco.internet_service_type,df_telco.internet_service_type_id,dropna=False)"
   ]
  },
  {
   "cell_type": "code",
   "execution_count": 52,
   "id": "8dace876-c8f9-4206-a85b-9572d473d9a0",
   "metadata": {
    "tags": []
   },
   "outputs": [
    {
     "data": {
      "text/html": [
       "<div>\n",
       "<style scoped>\n",
       "    .dataframe tbody tr th:only-of-type {\n",
       "        vertical-align: middle;\n",
       "    }\n",
       "\n",
       "    .dataframe tbody tr th {\n",
       "        vertical-align: top;\n",
       "    }\n",
       "\n",
       "    .dataframe thead th {\n",
       "        text-align: right;\n",
       "    }\n",
       "</style>\n",
       "<table border=\"1\" class=\"dataframe\">\n",
       "  <thead>\n",
       "    <tr style=\"text-align: right;\">\n",
       "      <th>contract_type_id</th>\n",
       "      <th>1</th>\n",
       "      <th>2</th>\n",
       "      <th>3</th>\n",
       "    </tr>\n",
       "    <tr>\n",
       "      <th>contract_type</th>\n",
       "      <th></th>\n",
       "      <th></th>\n",
       "      <th></th>\n",
       "    </tr>\n",
       "  </thead>\n",
       "  <tbody>\n",
       "    <tr>\n",
       "      <th>Month-to-month</th>\n",
       "      <td>3875</td>\n",
       "      <td>0</td>\n",
       "      <td>0</td>\n",
       "    </tr>\n",
       "    <tr>\n",
       "      <th>One year</th>\n",
       "      <td>0</td>\n",
       "      <td>1473</td>\n",
       "      <td>0</td>\n",
       "    </tr>\n",
       "    <tr>\n",
       "      <th>Two year</th>\n",
       "      <td>0</td>\n",
       "      <td>0</td>\n",
       "      <td>1695</td>\n",
       "    </tr>\n",
       "  </tbody>\n",
       "</table>\n",
       "</div>"
      ],
      "text/plain": [
       "contract_type_id     1     2     3\n",
       "contract_type                     \n",
       "Month-to-month    3875     0     0\n",
       "One year             0  1473     0\n",
       "Two year             0     0  1695"
      ]
     },
     "execution_count": 52,
     "metadata": {},
     "output_type": "execute_result"
    }
   ],
   "source": [
    "pd.crosstab(df_telco.contract_type,df_telco.contract_type_id)"
   ]
  },
  {
   "cell_type": "code",
   "execution_count": 53,
   "id": "f47638fd-dcb0-4c7f-a5fc-2cb8c5db30c2",
   "metadata": {
    "tags": []
   },
   "outputs": [],
   "source": [
    "df_telco = df_telco.drop(columns=['payment_type_id','internet_service_type_id','contract_type_id'])"
   ]
  },
  {
   "cell_type": "markdown",
   "id": "bb854969-eaae-423e-b593-09f02f7047c0",
   "metadata": {},
   "source": [
    ">**3. Handle null values.** "
   ]
  },
  {
   "cell_type": "code",
   "execution_count": 54,
   "id": "93da53db-f9f2-4eca-a4d4-d0a45e869495",
   "metadata": {
    "tags": []
   },
   "outputs": [
    {
     "data": {
      "text/plain": [
       "customer_id                 0\n",
       "gender                      0\n",
       "senior_citizen              0\n",
       "partner                     0\n",
       "dependents                  0\n",
       "tenure                      0\n",
       "phone_service               0\n",
       "multiple_lines              0\n",
       "online_security             0\n",
       "online_backup               0\n",
       "device_protection           0\n",
       "tech_support                0\n",
       "streaming_tv                0\n",
       "streaming_movies            0\n",
       "paperless_billing           0\n",
       "monthly_charges             0\n",
       "total_charges               0\n",
       "churn                       0\n",
       "contract_type               0\n",
       "internet_service_type    1526\n",
       "payment_type                0\n",
       "dtype: int64"
      ]
     },
     "execution_count": 54,
     "metadata": {},
     "output_type": "execute_result"
    }
   ],
   "source": [
    "df_telco.isnull().sum()"
   ]
  },
  {
   "cell_type": "code",
   "execution_count": 55,
   "id": "731119e2-8861-40e3-8c66-032c0ce03beb",
   "metadata": {
    "tags": []
   },
   "outputs": [
    {
     "data": {
      "text/plain": [
       "internet_service_type\n",
       "Fiber optic    3096\n",
       "DSL            2421\n",
       "NaN            1526\n",
       "Name: count, dtype: int64"
      ]
     },
     "execution_count": 55,
     "metadata": {},
     "output_type": "execute_result"
    }
   ],
   "source": [
    "df_telco.internet_service_type.value_counts(dropna=False)"
   ]
  },
  {
   "cell_type": "code",
   "execution_count": 56,
   "id": "d42441f1-4a91-41d6-8c2d-39e47256000e",
   "metadata": {
    "tags": []
   },
   "outputs": [],
   "source": [
    "df_telco.internet_service_type = df_telco.internet_service_type.fillna('No internet service')"
   ]
  },
  {
   "cell_type": "code",
   "execution_count": 57,
   "id": "36038b2c-11bd-4c70-af1b-35a3a236a881",
   "metadata": {
    "tags": []
   },
   "outputs": [
    {
     "data": {
      "text/plain": [
       "internet_service_type\n",
       "Fiber optic            3096\n",
       "DSL                    2421\n",
       "No internet service    1526\n",
       "Name: count, dtype: int64"
      ]
     },
     "execution_count": 57,
     "metadata": {},
     "output_type": "execute_result"
    }
   ],
   "source": [
    "df_telco.internet_service_type.value_counts()"
   ]
  },
  {
   "cell_type": "code",
   "execution_count": 58,
   "id": "560dba81-465a-4042-a79c-7ac83ec9d670",
   "metadata": {
    "tags": []
   },
   "outputs": [
    {
     "data": {
      "text/plain": [
       "customer_id              0\n",
       "gender                   0\n",
       "senior_citizen           0\n",
       "partner                  0\n",
       "dependents               0\n",
       "tenure                   0\n",
       "phone_service            0\n",
       "multiple_lines           0\n",
       "online_security          0\n",
       "online_backup            0\n",
       "device_protection        0\n",
       "tech_support             0\n",
       "streaming_tv             0\n",
       "streaming_movies         0\n",
       "paperless_billing        0\n",
       "monthly_charges          0\n",
       "total_charges            0\n",
       "churn                    0\n",
       "contract_type            0\n",
       "internet_service_type    0\n",
       "payment_type             0\n",
       "dtype: int64"
      ]
     },
     "execution_count": 58,
     "metadata": {},
     "output_type": "execute_result"
    }
   ],
   "source": [
    "df_telco.isnull().sum()"
   ]
  },
  {
   "cell_type": "code",
   "execution_count": 59,
   "id": "5574859f-2641-49ca-91e4-af8a0b5142b8",
   "metadata": {
    "tags": []
   },
   "outputs": [
    {
     "data": {
      "text/plain": [
       "total_charges\n",
       "           11\n",
       "20.2       11\n",
       "19.75       9\n",
       "19.9        8\n",
       "20.05       8\n",
       "           ..\n",
       "2387.75     1\n",
       "6302.8      1\n",
       "2058.5      1\n",
       "829.55      1\n",
       "3707.6      1\n",
       "Name: count, Length: 6531, dtype: int64"
      ]
     },
     "execution_count": 59,
     "metadata": {},
     "output_type": "execute_result"
    }
   ],
   "source": [
    "df_telco.total_charges.value_counts()"
   ]
  },
  {
   "cell_type": "code",
   "execution_count": 60,
   "id": "3c58e851-5fdd-42ea-ae2f-7fb60bde55fa",
   "metadata": {
    "tags": []
   },
   "outputs": [],
   "source": [
    "df_telco.total_charges = df_telco.total_charges.replace(' ','0.0').astype('float')"
   ]
  },
  {
   "cell_type": "code",
   "execution_count": 61,
   "id": "217f09fb-e47b-4bfe-8fb1-afb49a30a3a0",
   "metadata": {
    "tags": []
   },
   "outputs": [
    {
     "data": {
      "text/plain": [
       "total_charges\n",
       "0.00       11\n",
       "20.20      11\n",
       "19.75       9\n",
       "19.90       8\n",
       "20.05       8\n",
       "           ..\n",
       "2387.75     1\n",
       "6302.80     1\n",
       "2058.50     1\n",
       "829.55      1\n",
       "3707.60     1\n",
       "Name: count, Length: 6531, dtype: int64"
      ]
     },
     "execution_count": 61,
     "metadata": {},
     "output_type": "execute_result"
    }
   ],
   "source": [
    "df_telco.total_charges.value_counts()"
   ]
  },
  {
   "cell_type": "code",
   "execution_count": 62,
   "id": "d133e053-1e72-4075-b9ad-5d31e7d02e16",
   "metadata": {
    "tags": []
   },
   "outputs": [
    {
     "data": {
      "text/plain": [
       "customer_id               object\n",
       "gender                    object\n",
       "senior_citizen             int64\n",
       "partner                   object\n",
       "dependents                object\n",
       "tenure                     int64\n",
       "phone_service             object\n",
       "multiple_lines            object\n",
       "online_security           object\n",
       "online_backup             object\n",
       "device_protection         object\n",
       "tech_support              object\n",
       "streaming_tv              object\n",
       "streaming_movies          object\n",
       "paperless_billing         object\n",
       "monthly_charges          float64\n",
       "total_charges            float64\n",
       "churn                     object\n",
       "contract_type             object\n",
       "internet_service_type     object\n",
       "payment_type              object\n",
       "dtype: object"
      ]
     },
     "execution_count": 62,
     "metadata": {},
     "output_type": "execute_result"
    }
   ],
   "source": [
    "df_telco.dtypes"
   ]
  },
  {
   "cell_type": "markdown",
   "id": "8d2a686e-20c2-4c3b-893d-ab6f5b541354",
   "metadata": {},
   "source": [
    ">**4. Create a function named prep_telco that accepts the raw telco data, and returns the data with the transformations above applied.**"
   ]
  },
  {
   "cell_type": "code",
   "execution_count": 63,
   "id": "fff20568-d8ab-4a5e-bd90-2e2f38d8cdc2",
   "metadata": {
    "tags": []
   },
   "outputs": [],
   "source": [
    "def prep_telco(dataframe):\n",
    "    df = dataframe.drop(columns=['payment_type_id','internet_service_type_id','contract_type_id'])\n",
    "    df.internet_service_type = df.internet_service_type.fillna('No internet service')\n",
    "    df.total_charges = df.total_charges.replace(' ','0.0').astype('float')\n",
    "    return df"
   ]
  },
  {
   "cell_type": "code",
   "execution_count": 64,
   "id": "b1dc752d-53ea-4920-9f31-74f23f269ab0",
   "metadata": {
    "tags": []
   },
   "outputs": [
    {
     "name": "stdout",
     "output_type": "stream",
     "text": [
      "File exists - reading CSV file\n"
     ]
    }
   ],
   "source": [
    "df_telco = acquire.get_telco_data()"
   ]
  },
  {
   "cell_type": "code",
   "execution_count": 65,
   "id": "7d658d5b-9efa-4256-b7b0-e3bffad9ae20",
   "metadata": {
    "tags": []
   },
   "outputs": [],
   "source": [
    "df_telco = prep_telco(df_telco)"
   ]
  },
  {
   "cell_type": "code",
   "execution_count": 68,
   "id": "4a2de88b-f21a-4684-883e-4fe6edd7df24",
   "metadata": {
    "tags": []
   },
   "outputs": [
    {
     "data": {
      "text/html": [
       "<div>\n",
       "<style scoped>\n",
       "    .dataframe tbody tr th:only-of-type {\n",
       "        vertical-align: middle;\n",
       "    }\n",
       "\n",
       "    .dataframe tbody tr th {\n",
       "        vertical-align: top;\n",
       "    }\n",
       "\n",
       "    .dataframe thead th {\n",
       "        text-align: right;\n",
       "    }\n",
       "</style>\n",
       "<table border=\"1\" class=\"dataframe\">\n",
       "  <thead>\n",
       "    <tr style=\"text-align: right;\">\n",
       "      <th></th>\n",
       "      <th>customer_id</th>\n",
       "      <th>gender</th>\n",
       "      <th>senior_citizen</th>\n",
       "      <th>partner</th>\n",
       "      <th>dependents</th>\n",
       "      <th>tenure</th>\n",
       "      <th>phone_service</th>\n",
       "      <th>multiple_lines</th>\n",
       "      <th>online_security</th>\n",
       "      <th>online_backup</th>\n",
       "      <th>...</th>\n",
       "      <th>tech_support</th>\n",
       "      <th>streaming_tv</th>\n",
       "      <th>streaming_movies</th>\n",
       "      <th>paperless_billing</th>\n",
       "      <th>monthly_charges</th>\n",
       "      <th>total_charges</th>\n",
       "      <th>churn</th>\n",
       "      <th>contract_type</th>\n",
       "      <th>internet_service_type</th>\n",
       "      <th>payment_type</th>\n",
       "    </tr>\n",
       "  </thead>\n",
       "  <tbody>\n",
       "    <tr>\n",
       "      <th>0</th>\n",
       "      <td>0002-ORFBO</td>\n",
       "      <td>Female</td>\n",
       "      <td>0</td>\n",
       "      <td>Yes</td>\n",
       "      <td>Yes</td>\n",
       "      <td>9</td>\n",
       "      <td>Yes</td>\n",
       "      <td>No</td>\n",
       "      <td>No</td>\n",
       "      <td>Yes</td>\n",
       "      <td>...</td>\n",
       "      <td>Yes</td>\n",
       "      <td>Yes</td>\n",
       "      <td>No</td>\n",
       "      <td>Yes</td>\n",
       "      <td>65.6</td>\n",
       "      <td>593.30</td>\n",
       "      <td>No</td>\n",
       "      <td>One year</td>\n",
       "      <td>DSL</td>\n",
       "      <td>Mailed check</td>\n",
       "    </tr>\n",
       "    <tr>\n",
       "      <th>1</th>\n",
       "      <td>0003-MKNFE</td>\n",
       "      <td>Male</td>\n",
       "      <td>0</td>\n",
       "      <td>No</td>\n",
       "      <td>No</td>\n",
       "      <td>9</td>\n",
       "      <td>Yes</td>\n",
       "      <td>Yes</td>\n",
       "      <td>No</td>\n",
       "      <td>No</td>\n",
       "      <td>...</td>\n",
       "      <td>No</td>\n",
       "      <td>No</td>\n",
       "      <td>Yes</td>\n",
       "      <td>No</td>\n",
       "      <td>59.9</td>\n",
       "      <td>542.40</td>\n",
       "      <td>No</td>\n",
       "      <td>Month-to-month</td>\n",
       "      <td>DSL</td>\n",
       "      <td>Mailed check</td>\n",
       "    </tr>\n",
       "    <tr>\n",
       "      <th>2</th>\n",
       "      <td>0004-TLHLJ</td>\n",
       "      <td>Male</td>\n",
       "      <td>0</td>\n",
       "      <td>No</td>\n",
       "      <td>No</td>\n",
       "      <td>4</td>\n",
       "      <td>Yes</td>\n",
       "      <td>No</td>\n",
       "      <td>No</td>\n",
       "      <td>No</td>\n",
       "      <td>...</td>\n",
       "      <td>No</td>\n",
       "      <td>No</td>\n",
       "      <td>No</td>\n",
       "      <td>Yes</td>\n",
       "      <td>73.9</td>\n",
       "      <td>280.85</td>\n",
       "      <td>Yes</td>\n",
       "      <td>Month-to-month</td>\n",
       "      <td>Fiber optic</td>\n",
       "      <td>Electronic check</td>\n",
       "    </tr>\n",
       "    <tr>\n",
       "      <th>3</th>\n",
       "      <td>0011-IGKFF</td>\n",
       "      <td>Male</td>\n",
       "      <td>1</td>\n",
       "      <td>Yes</td>\n",
       "      <td>No</td>\n",
       "      <td>13</td>\n",
       "      <td>Yes</td>\n",
       "      <td>No</td>\n",
       "      <td>No</td>\n",
       "      <td>Yes</td>\n",
       "      <td>...</td>\n",
       "      <td>No</td>\n",
       "      <td>Yes</td>\n",
       "      <td>Yes</td>\n",
       "      <td>Yes</td>\n",
       "      <td>98.0</td>\n",
       "      <td>1237.85</td>\n",
       "      <td>Yes</td>\n",
       "      <td>Month-to-month</td>\n",
       "      <td>Fiber optic</td>\n",
       "      <td>Electronic check</td>\n",
       "    </tr>\n",
       "    <tr>\n",
       "      <th>4</th>\n",
       "      <td>0013-EXCHZ</td>\n",
       "      <td>Female</td>\n",
       "      <td>1</td>\n",
       "      <td>Yes</td>\n",
       "      <td>No</td>\n",
       "      <td>3</td>\n",
       "      <td>Yes</td>\n",
       "      <td>No</td>\n",
       "      <td>No</td>\n",
       "      <td>No</td>\n",
       "      <td>...</td>\n",
       "      <td>Yes</td>\n",
       "      <td>Yes</td>\n",
       "      <td>No</td>\n",
       "      <td>Yes</td>\n",
       "      <td>83.9</td>\n",
       "      <td>267.40</td>\n",
       "      <td>Yes</td>\n",
       "      <td>Month-to-month</td>\n",
       "      <td>Fiber optic</td>\n",
       "      <td>Mailed check</td>\n",
       "    </tr>\n",
       "  </tbody>\n",
       "</table>\n",
       "<p>5 rows × 21 columns</p>\n",
       "</div>"
      ],
      "text/plain": [
       "  customer_id  gender  senior_citizen partner dependents  tenure  \\\n",
       "0  0002-ORFBO  Female               0     Yes        Yes       9   \n",
       "1  0003-MKNFE    Male               0      No         No       9   \n",
       "2  0004-TLHLJ    Male               0      No         No       4   \n",
       "3  0011-IGKFF    Male               1     Yes         No      13   \n",
       "4  0013-EXCHZ  Female               1     Yes         No       3   \n",
       "\n",
       "  phone_service multiple_lines online_security online_backup  ...  \\\n",
       "0           Yes             No              No           Yes  ...   \n",
       "1           Yes            Yes              No            No  ...   \n",
       "2           Yes             No              No            No  ...   \n",
       "3           Yes             No              No           Yes  ...   \n",
       "4           Yes             No              No            No  ...   \n",
       "\n",
       "  tech_support streaming_tv streaming_movies paperless_billing  \\\n",
       "0          Yes          Yes               No               Yes   \n",
       "1           No           No              Yes                No   \n",
       "2           No           No               No               Yes   \n",
       "3           No          Yes              Yes               Yes   \n",
       "4          Yes          Yes               No               Yes   \n",
       "\n",
       "  monthly_charges  total_charges  churn   contract_type internet_service_type  \\\n",
       "0            65.6         593.30     No        One year                   DSL   \n",
       "1            59.9         542.40     No  Month-to-month                   DSL   \n",
       "2            73.9         280.85    Yes  Month-to-month           Fiber optic   \n",
       "3            98.0        1237.85    Yes  Month-to-month           Fiber optic   \n",
       "4            83.9         267.40    Yes  Month-to-month           Fiber optic   \n",
       "\n",
       "       payment_type  \n",
       "0      Mailed check  \n",
       "1      Mailed check  \n",
       "2  Electronic check  \n",
       "3  Electronic check  \n",
       "4      Mailed check  \n",
       "\n",
       "[5 rows x 21 columns]"
      ]
     },
     "execution_count": 68,
     "metadata": {},
     "output_type": "execute_result"
    }
   ],
   "source": [
    "df_telco.head()"
   ]
  },
  {
   "cell_type": "markdown",
   "id": "6dcd84c2-8294-4455-9ff9-b2f39e594c86",
   "metadata": {},
   "source": [
    "### Split your data"
   ]
  },
  {
   "cell_type": "markdown",
   "id": "46f8db27-9973-44e1-9935-8b456ee644a8",
   "metadata": {},
   "source": [
    ">**1. Write a function to split your data into train, test and validate datasets. Add this function to prepare.py.**"
   ]
  },
  {
   "cell_type": "code",
   "execution_count": 35,
   "id": "9961490e-9020-4fc2-aa4a-0e8dd46c0e24",
   "metadata": {
    "tags": []
   },
   "outputs": [],
   "source": [
    "def split_data(dataframe, col):\n",
    "    train, validate_test = train_test_split(dataframe, \n",
    "                                            train_size=.6, \n",
    "                                            random_state=913,\n",
    "                                            stratify=dataframe[col]\n",
    "                                           )\n",
    "    validate, test = train_test_split(validate_test,\n",
    "                                      test_size=0.50, \n",
    "                                      random_state=913,\n",
    "                                      stratify=validate_test[col]\n",
    "                                     )\n",
    "    return train, validate, test"
   ]
  },
  {
   "cell_type": "markdown",
   "id": "0875d6f3-558e-4bcc-863e-16447707aa4b",
   "metadata": {},
   "source": [
    ">**2. Run the function in your notebook on the Iris dataset, returning 3 datasets, train_iris, validate_iris and test_iris.**"
   ]
  },
  {
   "cell_type": "code",
   "execution_count": 38,
   "id": "e549758f-390a-403c-b20f-6669eace5056",
   "metadata": {
    "tags": []
   },
   "outputs": [
    {
     "name": "stdout",
     "output_type": "stream",
     "text": [
      "File exists - reading CSV file\n"
     ]
    }
   ],
   "source": [
    "df_iris = acquire.get_iris_data()"
   ]
  },
  {
   "cell_type": "code",
   "execution_count": 39,
   "id": "f7c1799f-5b7b-41b4-be77-3ba4aa8150f7",
   "metadata": {
    "tags": []
   },
   "outputs": [],
   "source": [
    "df_iris = prep_iris(df_iris)"
   ]
  },
  {
   "cell_type": "code",
   "execution_count": 41,
   "id": "a8874f80-f7ad-4f08-9c37-42285a1f90ac",
   "metadata": {
    "tags": []
   },
   "outputs": [],
   "source": [
    "train_iris, validate_iris , test_iris = split_data(df_iris, 'species')"
   ]
  },
  {
   "cell_type": "code",
   "execution_count": 45,
   "id": "d779dd8d-9e13-470c-9426-e42b48f0ff51",
   "metadata": {
    "tags": []
   },
   "outputs": [
    {
     "name": "stdout",
     "output_type": "stream",
     "text": [
      "Prepared DF: \t(150, 5)\n",
      "\n",
      "Train: \t\t(90, 5)\n",
      "Validate: \t(30, 5)\n",
      "Test: \t\t(30, 5)\n"
     ]
    }
   ],
   "source": [
    "print(f'Prepared DF: \\t{df_iris.shape}')\n",
    "print()\n",
    "print(f'Train: \\t\\t{train_iris.shape}')\n",
    "print(f'Validate: \\t{validate_iris.shape}')\n",
    "print(f'Test: \\t\\t{test_iris.shape}')"
   ]
  },
  {
   "cell_type": "markdown",
   "id": "46a0fdda-6160-4e4d-a10a-de390b1d0cdb",
   "metadata": {},
   "source": [
    ">**3. Run the function on the Titanic dataset, returning 3 datasets, train_titanic, validate_titanic and test_titanic.**"
   ]
  },
  {
   "cell_type": "code",
   "execution_count": 52,
   "id": "7353d8ab-a084-43d5-b853-f06192efc792",
   "metadata": {
    "tags": []
   },
   "outputs": [
    {
     "name": "stdout",
     "output_type": "stream",
     "text": [
      "File exists - reading CSV file\n"
     ]
    }
   ],
   "source": [
    "df_titanic = acquire.get_titanic_data()"
   ]
  },
  {
   "cell_type": "code",
   "execution_count": 53,
   "id": "e6ceb068-1523-4ace-97c4-4fb07a4f0f00",
   "metadata": {
    "tags": []
   },
   "outputs": [],
   "source": [
    "df_titanic = prep_titanic(df_titanic)"
   ]
  },
  {
   "cell_type": "code",
   "execution_count": 54,
   "id": "00675884-4a3f-4043-ab4b-c19a1ded0bb3",
   "metadata": {
    "tags": []
   },
   "outputs": [],
   "source": [
    "train_titanic, validate_titanic, test_titanic = split_data(df_titanic,'survived')"
   ]
  },
  {
   "cell_type": "code",
   "execution_count": 58,
   "id": "5927fdc4-ddb2-4b2f-b661-481a726eda05",
   "metadata": {
    "tags": []
   },
   "outputs": [
    {
     "name": "stdout",
     "output_type": "stream",
     "text": [
      "Prepared DF: \t(891, 8)\n",
      "\n",
      "Train: \t\t(534, 8)\n",
      "Validate: \t(178, 8)\n",
      "Test: \t\t(179, 8)\n"
     ]
    }
   ],
   "source": [
    "print(f'Prepared DF: \\t{df_titanic.shape}')\n",
    "print()\n",
    "print(f'Train: \\t\\t{train_titanic.shape}')\n",
    "print(f'Validate: \\t{validate_titanic.shape}')\n",
    "print(f'Test: \\t\\t{test_titanic.shape}')"
   ]
  },
  {
   "cell_type": "markdown",
   "id": "5b91980e-723e-489b-a961-54640653dd3e",
   "metadata": {},
   "source": [
    ">**4. Run the function on the Telco dataset, returning 3 datasets, train_telco, validate_telco and test_telco.**"
   ]
  },
  {
   "cell_type": "code",
   "execution_count": 59,
   "id": "693a058e-d033-4e42-ae0a-ae3266d0ffcf",
   "metadata": {
    "tags": []
   },
   "outputs": [
    {
     "name": "stdout",
     "output_type": "stream",
     "text": [
      "File exists - reading CSV file\n"
     ]
    }
   ],
   "source": [
    "df_telco = acquire.get_telco_data()"
   ]
  },
  {
   "cell_type": "code",
   "execution_count": 62,
   "id": "a4242b37-a709-46b4-a5da-7cf52f626d8e",
   "metadata": {
    "tags": []
   },
   "outputs": [],
   "source": [
    "df_telco = prep_telco(df_telco)"
   ]
  },
  {
   "cell_type": "code",
   "execution_count": 63,
   "id": "fb92b9e9-5335-4277-94ec-2642a838bc24",
   "metadata": {
    "tags": []
   },
   "outputs": [],
   "source": [
    "train_telco, validate_telco, test_telco = split_data(df_telco,'churn')"
   ]
  },
  {
   "cell_type": "code",
   "execution_count": 65,
   "id": "a1365138-20fb-458d-bbf0-9e47462ea384",
   "metadata": {
    "tags": []
   },
   "outputs": [
    {
     "name": "stdout",
     "output_type": "stream",
     "text": [
      "Prepared DF: \t(7043, 21)\n",
      "\n",
      "Train: \t\t(4225, 21)\n",
      "Validate: \t(1409, 21)\n",
      "Test: \t\t(1409, 21)\n"
     ]
    }
   ],
   "source": [
    "print(f'Prepared DF: \\t{df_telco.shape}')\n",
    "print()\n",
    "print(f'Train: \\t\\t{train_telco.shape}')\n",
    "print(f'Validate: \\t{validate_telco.shape}')\n",
    "print(f'Test: \\t\\t{test_telco.shape}')"
   ]
  },
  {
   "cell_type": "code",
   "execution_count": null,
   "id": "1353c147-d4c2-4e9e-aa02-e5ebc3c9c377",
   "metadata": {},
   "outputs": [],
   "source": []
  }
 ],
 "metadata": {
  "kernelspec": {
   "display_name": "Python 3 (ipykernel)",
   "language": "python",
   "name": "python3"
  },
  "language_info": {
   "codemirror_mode": {
    "name": "ipython",
    "version": 3
   },
   "file_extension": ".py",
   "mimetype": "text/x-python",
   "name": "python",
   "nbconvert_exporter": "python",
   "pygments_lexer": "ipython3",
   "version": "3.11.5"
  }
 },
 "nbformat": 4,
 "nbformat_minor": 5
}
