{
 "cells": [
  {
   "cell_type": "markdown",
   "id": "2900667c-b068-4258-89c9-8f0526d2f0d4",
   "metadata": {},
   "source": [
    "# Exercises"
   ]
  },
  {
   "cell_type": "markdown",
   "id": "2ae91943-e50c-4957-9dfb-7842941ea5f3",
   "metadata": {},
   "source": [
    "## Do these exercises in a notebook called `modeling.ipynb` first, then transfer the final functions to the model.py file.\n",
    "\n",
    "## This work should all be saved in your local `classification-exercises` repo. Add, commit, and push your changes."
   ]
  },
  {
   "cell_type": "code",
   "execution_count": 101,
   "id": "a25f4aed-4b27-4fd8-9e50-bd4f9928af0c",
   "metadata": {
    "tags": []
   },
   "outputs": [],
   "source": [
    "import pandas as pd\n",
    "import numpy as np\n",
    "\n",
    "import acquire\n",
    "import prepare"
   ]
  },
  {
   "cell_type": "markdown",
   "id": "7c7e3784-8653-4ccc-9f91-154acabbcc23",
   "metadata": {},
   "source": [
    "### <ins>**Using the Titanic dataset**</ins>"
   ]
  },
  {
   "cell_type": "markdown",
   "id": "2f6f11c9-c1e2-4c81-87c8-14079de24b82",
   "metadata": {},
   "source": [
    "**1. Use the function defined in `acquire.py` to load the Titanic data.**"
   ]
  },
  {
   "cell_type": "markdown",
   "id": "f6e61baa-a0a8-44a7-bf99-022d8c032a81",
   "metadata": {},
   "source": [
    "**2. Use the function defined in `prepare.py` to prepare the titanic data.**"
   ]
  },
  {
   "cell_type": "code",
   "execution_count": 2,
   "id": "6c4718ed-2b38-4d26-bd41-4e118d8dc47a",
   "metadata": {
    "tags": []
   },
   "outputs": [
    {
     "name": "stdout",
     "output_type": "stream",
     "text": [
      "File exists - reading CSV file\n"
     ]
    }
   ],
   "source": [
    "titanic_train,\\\n",
    "titanic_validate,\\\n",
    "titanic_test = prepare.split_data(\n",
    "    prepare.prep_titanic(\n",
    "    acquire.get_titanic_data()),'survived')"
   ]
  },
  {
   "cell_type": "code",
   "execution_count": 3,
   "id": "daafb41a-dde5-41c5-a5c3-12826c91d1d9",
   "metadata": {
    "tags": []
   },
   "outputs": [
    {
     "data": {
      "text/plain": [
       "((534, 8), (178, 8), (179, 8))"
      ]
     },
     "execution_count": 3,
     "metadata": {},
     "output_type": "execute_result"
    }
   ],
   "source": [
    "titanic_train.shape, titanic_validate.shape, titanic_test.shape"
   ]
  },
  {
   "cell_type": "code",
   "execution_count": 4,
   "id": "668b576e-ff47-4ef8-baa2-7bb36400ca04",
   "metadata": {
    "tags": []
   },
   "outputs": [
    {
     "data": {
      "text/html": [
       "<div>\n",
       "<style scoped>\n",
       "    .dataframe tbody tr th:only-of-type {\n",
       "        vertical-align: middle;\n",
       "    }\n",
       "\n",
       "    .dataframe tbody tr th {\n",
       "        vertical-align: top;\n",
       "    }\n",
       "\n",
       "    .dataframe thead th {\n",
       "        text-align: right;\n",
       "    }\n",
       "</style>\n",
       "<table border=\"1\" class=\"dataframe\">\n",
       "  <thead>\n",
       "    <tr style=\"text-align: right;\">\n",
       "      <th></th>\n",
       "      <th>survived</th>\n",
       "      <th>pclass</th>\n",
       "      <th>sex</th>\n",
       "      <th>sibsp</th>\n",
       "      <th>parch</th>\n",
       "      <th>fare</th>\n",
       "      <th>embark_town</th>\n",
       "      <th>alone</th>\n",
       "    </tr>\n",
       "  </thead>\n",
       "  <tbody>\n",
       "    <tr>\n",
       "      <th>580</th>\n",
       "      <td>1</td>\n",
       "      <td>2</td>\n",
       "      <td>female</td>\n",
       "      <td>1</td>\n",
       "      <td>1</td>\n",
       "      <td>30.0000</td>\n",
       "      <td>Southampton</td>\n",
       "      <td>0</td>\n",
       "    </tr>\n",
       "    <tr>\n",
       "      <th>140</th>\n",
       "      <td>0</td>\n",
       "      <td>3</td>\n",
       "      <td>female</td>\n",
       "      <td>0</td>\n",
       "      <td>2</td>\n",
       "      <td>15.2458</td>\n",
       "      <td>Cherbourg</td>\n",
       "      <td>0</td>\n",
       "    </tr>\n",
       "    <tr>\n",
       "      <th>747</th>\n",
       "      <td>1</td>\n",
       "      <td>2</td>\n",
       "      <td>female</td>\n",
       "      <td>0</td>\n",
       "      <td>0</td>\n",
       "      <td>13.0000</td>\n",
       "      <td>Southampton</td>\n",
       "      <td>1</td>\n",
       "    </tr>\n",
       "    <tr>\n",
       "      <th>615</th>\n",
       "      <td>1</td>\n",
       "      <td>2</td>\n",
       "      <td>female</td>\n",
       "      <td>1</td>\n",
       "      <td>2</td>\n",
       "      <td>65.0000</td>\n",
       "      <td>Southampton</td>\n",
       "      <td>0</td>\n",
       "    </tr>\n",
       "    <tr>\n",
       "      <th>132</th>\n",
       "      <td>0</td>\n",
       "      <td>3</td>\n",
       "      <td>female</td>\n",
       "      <td>1</td>\n",
       "      <td>0</td>\n",
       "      <td>14.5000</td>\n",
       "      <td>Southampton</td>\n",
       "      <td>0</td>\n",
       "    </tr>\n",
       "    <tr>\n",
       "      <th>...</th>\n",
       "      <td>...</td>\n",
       "      <td>...</td>\n",
       "      <td>...</td>\n",
       "      <td>...</td>\n",
       "      <td>...</td>\n",
       "      <td>...</td>\n",
       "      <td>...</td>\n",
       "      <td>...</td>\n",
       "    </tr>\n",
       "    <tr>\n",
       "      <th>461</th>\n",
       "      <td>0</td>\n",
       "      <td>3</td>\n",
       "      <td>male</td>\n",
       "      <td>0</td>\n",
       "      <td>0</td>\n",
       "      <td>8.0500</td>\n",
       "      <td>Southampton</td>\n",
       "      <td>1</td>\n",
       "    </tr>\n",
       "    <tr>\n",
       "      <th>344</th>\n",
       "      <td>0</td>\n",
       "      <td>2</td>\n",
       "      <td>male</td>\n",
       "      <td>0</td>\n",
       "      <td>0</td>\n",
       "      <td>13.0000</td>\n",
       "      <td>Southampton</td>\n",
       "      <td>1</td>\n",
       "    </tr>\n",
       "    <tr>\n",
       "      <th>513</th>\n",
       "      <td>1</td>\n",
       "      <td>1</td>\n",
       "      <td>female</td>\n",
       "      <td>1</td>\n",
       "      <td>0</td>\n",
       "      <td>59.4000</td>\n",
       "      <td>Cherbourg</td>\n",
       "      <td>0</td>\n",
       "    </tr>\n",
       "    <tr>\n",
       "      <th>467</th>\n",
       "      <td>0</td>\n",
       "      <td>1</td>\n",
       "      <td>male</td>\n",
       "      <td>0</td>\n",
       "      <td>0</td>\n",
       "      <td>26.5500</td>\n",
       "      <td>Southampton</td>\n",
       "      <td>1</td>\n",
       "    </tr>\n",
       "    <tr>\n",
       "      <th>530</th>\n",
       "      <td>1</td>\n",
       "      <td>2</td>\n",
       "      <td>female</td>\n",
       "      <td>1</td>\n",
       "      <td>1</td>\n",
       "      <td>26.0000</td>\n",
       "      <td>Southampton</td>\n",
       "      <td>0</td>\n",
       "    </tr>\n",
       "  </tbody>\n",
       "</table>\n",
       "<p>534 rows × 8 columns</p>\n",
       "</div>"
      ],
      "text/plain": [
       "     survived pclass     sex  sibsp  parch     fare  embark_town  alone\n",
       "580         1      2  female      1      1  30.0000  Southampton      0\n",
       "140         0      3  female      0      2  15.2458    Cherbourg      0\n",
       "747         1      2  female      0      0  13.0000  Southampton      1\n",
       "615         1      2  female      1      2  65.0000  Southampton      0\n",
       "132         0      3  female      1      0  14.5000  Southampton      0\n",
       "..        ...    ...     ...    ...    ...      ...          ...    ...\n",
       "461         0      3    male      0      0   8.0500  Southampton      1\n",
       "344         0      2    male      0      0  13.0000  Southampton      1\n",
       "513         1      1  female      1      0  59.4000    Cherbourg      0\n",
       "467         0      1    male      0      0  26.5500  Southampton      1\n",
       "530         1      2  female      1      1  26.0000  Southampton      0\n",
       "\n",
       "[534 rows x 8 columns]"
      ]
     },
     "execution_count": 4,
     "metadata": {},
     "output_type": "execute_result"
    }
   ],
   "source": [
    "titanic_train"
   ]
  },
  {
   "cell_type": "markdown",
   "id": "da146efc-39d4-499d-8b57-5b0d0386fb48",
   "metadata": {},
   "source": [
    "**3. Encode the categorical columns on train dataset. Create dummy variables of the categorical columns and concatenate them onto the dataframe. Remove the columns they are replacing. Repeat on validate and test.**"
   ]
  },
  {
   "cell_type": "code",
   "execution_count": null,
   "id": "ffb7d30e-2ce7-42d5-b706-27db564cff87",
   "metadata": {
    "tags": []
   },
   "outputs": [],
   "source": [
    "titanic_train.pclass = titanic_train.pclass.astype(int)"
   ]
  },
  {
   "cell_type": "code",
   "execution_count": null,
   "id": "ff4f1cd0-e30d-486c-91da-da771f2c95a0",
   "metadata": {},
   "outputs": [],
   "source": [
    "titanic_train_encoded_cats = pd.get_dummies(titanic_train[['embark_town', 'sex']],\n",
    "              drop_first=True).astype(int)"
   ]
  },
  {
   "cell_type": "code",
   "execution_count": null,
   "id": "dff00fc9-c0ed-492b-a9ab-5975b004c8d6",
   "metadata": {
    "tags": []
   },
   "outputs": [],
   "source": [
    "titanic_preprocessed = pd.concat(\n",
    "    [titanic_train,\n",
    "    titanic_train_encoded_cats],\n",
    "    axis=1).drop(columns=['sex', 'embark_town'])"
   ]
  },
  {
   "cell_type": "code",
   "execution_count": null,
   "id": "8e2fadde-4983-42f4-b082-55bfda6eda6d",
   "metadata": {
    "tags": []
   },
   "outputs": [],
   "source": [
    "titanic_preprocessed"
   ]
  },
  {
   "cell_type": "markdown",
   "id": "2abd5c6f-21b2-41e9-af62-758dda6eb303",
   "metadata": {},
   "source": [
    "**4. Create a function named `preprocess_titanic` that accepts the train, validate, and test titanic data, and returns the dataframes ready for modeling.**"
   ]
  },
  {
   "cell_type": "code",
   "execution_count": 5,
   "id": "a9683166-4a38-458b-af47-584bbafe4f2d",
   "metadata": {
    "tags": []
   },
   "outputs": [],
   "source": [
    "def preprocess_titanic(train_df, validate_df, test_df):\n",
    "    encoded_df = []\n",
    "    for df in [train_df, validate_df, test_df]:\n",
    "        df.pclass = df.pclass.astype(int)\n",
    "        df_encoded_columns = pd.get_dummies(df[['embark_town', 'sex']],\n",
    "              drop_first=True).astype(int)\n",
    "        encoded_df.append(pd.concat([df, df_encoded_columns],\n",
    "                                    axis=1).drop(columns=['sex', 'embark_town']))\n",
    "    return encoded_df"
   ]
  },
  {
   "cell_type": "code",
   "execution_count": 6,
   "id": "28fe7235-40fe-4ea9-accc-c6c16bbd8d0a",
   "metadata": {
    "tags": []
   },
   "outputs": [],
   "source": [
    "titanic_train_prepocessed, \\\n",
    "titanic_validate_preprocessed, \\\n",
    "titanic_test_preprocessed = preprocess_titanic(titanic_train,titanic_validate,titanic_test)"
   ]
  },
  {
   "cell_type": "code",
   "execution_count": 8,
   "id": "a6fe1b2f-ec3f-4735-8c92-61172b0cb327",
   "metadata": {
    "tags": []
   },
   "outputs": [
    {
     "data": {
      "text/html": [
       "<div>\n",
       "<style scoped>\n",
       "    .dataframe tbody tr th:only-of-type {\n",
       "        vertical-align: middle;\n",
       "    }\n",
       "\n",
       "    .dataframe tbody tr th {\n",
       "        vertical-align: top;\n",
       "    }\n",
       "\n",
       "    .dataframe thead th {\n",
       "        text-align: right;\n",
       "    }\n",
       "</style>\n",
       "<table border=\"1\" class=\"dataframe\">\n",
       "  <thead>\n",
       "    <tr style=\"text-align: right;\">\n",
       "      <th></th>\n",
       "      <th>survived</th>\n",
       "      <th>pclass</th>\n",
       "      <th>sibsp</th>\n",
       "      <th>parch</th>\n",
       "      <th>fare</th>\n",
       "      <th>alone</th>\n",
       "      <th>embark_town_Queenstown</th>\n",
       "      <th>embark_town_Southampton</th>\n",
       "      <th>sex_male</th>\n",
       "    </tr>\n",
       "  </thead>\n",
       "  <tbody>\n",
       "    <tr>\n",
       "      <th>580</th>\n",
       "      <td>1</td>\n",
       "      <td>2</td>\n",
       "      <td>1</td>\n",
       "      <td>1</td>\n",
       "      <td>30.0000</td>\n",
       "      <td>0</td>\n",
       "      <td>0</td>\n",
       "      <td>1</td>\n",
       "      <td>0</td>\n",
       "    </tr>\n",
       "    <tr>\n",
       "      <th>140</th>\n",
       "      <td>0</td>\n",
       "      <td>3</td>\n",
       "      <td>0</td>\n",
       "      <td>2</td>\n",
       "      <td>15.2458</td>\n",
       "      <td>0</td>\n",
       "      <td>0</td>\n",
       "      <td>0</td>\n",
       "      <td>0</td>\n",
       "    </tr>\n",
       "    <tr>\n",
       "      <th>747</th>\n",
       "      <td>1</td>\n",
       "      <td>2</td>\n",
       "      <td>0</td>\n",
       "      <td>0</td>\n",
       "      <td>13.0000</td>\n",
       "      <td>1</td>\n",
       "      <td>0</td>\n",
       "      <td>1</td>\n",
       "      <td>0</td>\n",
       "    </tr>\n",
       "    <tr>\n",
       "      <th>615</th>\n",
       "      <td>1</td>\n",
       "      <td>2</td>\n",
       "      <td>1</td>\n",
       "      <td>2</td>\n",
       "      <td>65.0000</td>\n",
       "      <td>0</td>\n",
       "      <td>0</td>\n",
       "      <td>1</td>\n",
       "      <td>0</td>\n",
       "    </tr>\n",
       "    <tr>\n",
       "      <th>132</th>\n",
       "      <td>0</td>\n",
       "      <td>3</td>\n",
       "      <td>1</td>\n",
       "      <td>0</td>\n",
       "      <td>14.5000</td>\n",
       "      <td>0</td>\n",
       "      <td>0</td>\n",
       "      <td>1</td>\n",
       "      <td>0</td>\n",
       "    </tr>\n",
       "    <tr>\n",
       "      <th>...</th>\n",
       "      <td>...</td>\n",
       "      <td>...</td>\n",
       "      <td>...</td>\n",
       "      <td>...</td>\n",
       "      <td>...</td>\n",
       "      <td>...</td>\n",
       "      <td>...</td>\n",
       "      <td>...</td>\n",
       "      <td>...</td>\n",
       "    </tr>\n",
       "    <tr>\n",
       "      <th>461</th>\n",
       "      <td>0</td>\n",
       "      <td>3</td>\n",
       "      <td>0</td>\n",
       "      <td>0</td>\n",
       "      <td>8.0500</td>\n",
       "      <td>1</td>\n",
       "      <td>0</td>\n",
       "      <td>1</td>\n",
       "      <td>1</td>\n",
       "    </tr>\n",
       "    <tr>\n",
       "      <th>344</th>\n",
       "      <td>0</td>\n",
       "      <td>2</td>\n",
       "      <td>0</td>\n",
       "      <td>0</td>\n",
       "      <td>13.0000</td>\n",
       "      <td>1</td>\n",
       "      <td>0</td>\n",
       "      <td>1</td>\n",
       "      <td>1</td>\n",
       "    </tr>\n",
       "    <tr>\n",
       "      <th>513</th>\n",
       "      <td>1</td>\n",
       "      <td>1</td>\n",
       "      <td>1</td>\n",
       "      <td>0</td>\n",
       "      <td>59.4000</td>\n",
       "      <td>0</td>\n",
       "      <td>0</td>\n",
       "      <td>0</td>\n",
       "      <td>0</td>\n",
       "    </tr>\n",
       "    <tr>\n",
       "      <th>467</th>\n",
       "      <td>0</td>\n",
       "      <td>1</td>\n",
       "      <td>0</td>\n",
       "      <td>0</td>\n",
       "      <td>26.5500</td>\n",
       "      <td>1</td>\n",
       "      <td>0</td>\n",
       "      <td>1</td>\n",
       "      <td>1</td>\n",
       "    </tr>\n",
       "    <tr>\n",
       "      <th>530</th>\n",
       "      <td>1</td>\n",
       "      <td>2</td>\n",
       "      <td>1</td>\n",
       "      <td>1</td>\n",
       "      <td>26.0000</td>\n",
       "      <td>0</td>\n",
       "      <td>0</td>\n",
       "      <td>1</td>\n",
       "      <td>0</td>\n",
       "    </tr>\n",
       "  </tbody>\n",
       "</table>\n",
       "<p>534 rows × 9 columns</p>\n",
       "</div>"
      ],
      "text/plain": [
       "     survived  pclass  sibsp  parch     fare  alone  embark_town_Queenstown  \\\n",
       "580         1       2      1      1  30.0000      0                       0   \n",
       "140         0       3      0      2  15.2458      0                       0   \n",
       "747         1       2      0      0  13.0000      1                       0   \n",
       "615         1       2      1      2  65.0000      0                       0   \n",
       "132         0       3      1      0  14.5000      0                       0   \n",
       "..        ...     ...    ...    ...      ...    ...                     ...   \n",
       "461         0       3      0      0   8.0500      1                       0   \n",
       "344         0       2      0      0  13.0000      1                       0   \n",
       "513         1       1      1      0  59.4000      0                       0   \n",
       "467         0       1      0      0  26.5500      1                       0   \n",
       "530         1       2      1      1  26.0000      0                       0   \n",
       "\n",
       "     embark_town_Southampton  sex_male  \n",
       "580                        1         0  \n",
       "140                        0         0  \n",
       "747                        1         0  \n",
       "615                        1         0  \n",
       "132                        1         0  \n",
       "..                       ...       ...  \n",
       "461                        1         1  \n",
       "344                        1         1  \n",
       "513                        0         0  \n",
       "467                        1         1  \n",
       "530                        1         0  \n",
       "\n",
       "[534 rows x 9 columns]"
      ]
     },
     "execution_count": 8,
     "metadata": {},
     "output_type": "execute_result"
    }
   ],
   "source": [
    "titanic_train_prepocessed"
   ]
  },
  {
   "cell_type": "markdown",
   "id": "ed9d1aee-f410-4743-a0a0-07d35a36567e",
   "metadata": {
    "tags": []
   },
   "source": [
    "### <ins>**Using the Telco dataset**</ins>"
   ]
  },
  {
   "cell_type": "markdown",
   "id": "1d6b926d-6208-4b79-982a-5c789e1d2fc6",
   "metadata": {
    "tags": []
   },
   "source": [
    "**1. Use the function defined in acquire.py to load the Telco data.**"
   ]
  },
  {
   "cell_type": "markdown",
   "id": "b6d1988d-53eb-4773-9b8e-134922ed7193",
   "metadata": {},
   "source": [
    "**2. Use the function defined in prepare.py to prepare the Telco data.**"
   ]
  },
  {
   "cell_type": "code",
   "execution_count": 135,
   "id": "b7ade04e-3b52-4db1-9829-4855a1d2c694",
   "metadata": {
    "tags": []
   },
   "outputs": [
    {
     "name": "stdout",
     "output_type": "stream",
     "text": [
      "File exists - reading CSV file\n"
     ]
    }
   ],
   "source": [
    "telco_train,\\\n",
    "telco_validate,\\\n",
    "telco_test = prepare.split_data(\n",
    "    prepare.prep_telco(\n",
    "        acquire.get_telco_data()),'churn')"
   ]
  },
  {
   "cell_type": "code",
   "execution_count": 136,
   "id": "831998f4-de81-413c-be6e-c76231febb7c",
   "metadata": {
    "tags": []
   },
   "outputs": [
    {
     "data": {
      "text/plain": [
       "((4225, 20), (1409, 20), (1409, 20))"
      ]
     },
     "execution_count": 136,
     "metadata": {},
     "output_type": "execute_result"
    }
   ],
   "source": [
    "telco_train.shape, telco_validate.shape, telco_test.shape"
   ]
  },
  {
   "cell_type": "code",
   "execution_count": 137,
   "id": "69cc860f-aeb6-4da6-b532-c58952591494",
   "metadata": {
    "tags": []
   },
   "outputs": [
    {
     "name": "stdout",
     "output_type": "stream",
     "text": [
      "<class 'pandas.core.frame.DataFrame'>\n",
      "Index: 4225 entries, 7169-YWAMK to 5480-HPRRX\n",
      "Data columns (total 20 columns):\n",
      " #   Column                 Non-Null Count  Dtype  \n",
      "---  ------                 --------------  -----  \n",
      " 0   gender                 4225 non-null   object \n",
      " 1   senior_citizen         4225 non-null   int64  \n",
      " 2   partner                4225 non-null   object \n",
      " 3   dependents             4225 non-null   object \n",
      " 4   tenure                 4225 non-null   int64  \n",
      " 5   phone_service          4225 non-null   object \n",
      " 6   multiple_lines         4225 non-null   object \n",
      " 7   online_security        4225 non-null   object \n",
      " 8   online_backup          4225 non-null   object \n",
      " 9   device_protection      4225 non-null   object \n",
      " 10  tech_support           4225 non-null   object \n",
      " 11  streaming_tv           4225 non-null   object \n",
      " 12  streaming_movies       4225 non-null   object \n",
      " 13  paperless_billing      4225 non-null   object \n",
      " 14  monthly_charges        4225 non-null   float64\n",
      " 15  total_charges          4225 non-null   float64\n",
      " 16  churn                  4225 non-null   object \n",
      " 17  contract_type          4225 non-null   object \n",
      " 18  internet_service_type  4225 non-null   object \n",
      " 19  payment_type           4225 non-null   object \n",
      "dtypes: float64(2), int64(2), object(16)\n",
      "memory usage: 693.2+ KB\n"
     ]
    }
   ],
   "source": [
    "telco_train.info()"
   ]
  },
  {
   "cell_type": "markdown",
   "id": "8a41b30a-c5b7-412e-83ee-432d1f059cbd",
   "metadata": {},
   "source": [
    "**3. Encode the categorical columns on train.**\n",
    "\n",
    "> **a. Encode at least one column using .replace**\n",
    "\n",
    "> **b. Encode at least one column using .map**\n",
    "\n",
    "> **c. Encode the rest of the columns by creating dummy variables and concatenating them onto the dataframe.**"
   ]
  },
  {
   "cell_type": "code",
   "execution_count": null,
   "id": "a7e3a461-4e70-40e5-80f7-b047fb07af10",
   "metadata": {
    "tags": []
   },
   "outputs": [],
   "source": []
  },
  {
   "cell_type": "code",
   "execution_count": 127,
   "id": "42e5239e-6e65-4047-bc8b-6e6595c17544",
   "metadata": {
    "tags": []
   },
   "outputs": [
    {
     "name": "stdout",
     "output_type": "stream",
     "text": [
      "None\n",
      "None\n",
      "None\n",
      "None\n",
      "None\n",
      "None\n",
      "None\n",
      "None\n",
      "None\n",
      "None\n",
      "None\n",
      "None\n",
      "None\n",
      "None\n",
      "None\n",
      "None\n",
      "None\n"
     ]
    }
   ],
   "source": [
    "for col in telco_train.columns:\n",
    "    if telco_train[col].nunique() < 10:\n",
    "        print(telco_train[col].unique().tolist().sort())\n",
    "        telco_train[col].unique().tolist().sort()"
   ]
  },
  {
   "cell_type": "code",
   "execution_count": 117,
   "id": "46fafba3-23bf-4147-b66b-908d9424c758",
   "metadata": {
    "tags": []
   },
   "outputs": [
    {
     "name": "stdout",
     "output_type": "stream",
     "text": [
      "['partner', 'dependents', 'phone_service']\n",
      "['online_security', 'streaming_tv']\n"
     ]
    }
   ],
   "source": [
    "yes_no_columns = []\n",
    "yes_no_nointernet_columns = []\n",
    "\n",
    "for col in telco_train:\n",
    "    if telco_train[col].unique().tolist() == ['Yes','No']:\n",
    "        yes_no_columns.append(col)\n",
    "    elif telco_train[col].unique().tolist() == ['Yes', 'No', 'No internet service']:\n",
    "        yes_no_nointernet_columns.append(col)\n",
    "        \n",
    "print(yes_no_columns)\n",
    "print(yes_no_nointernet_columns)"
   ]
  },
  {
   "cell_type": "code",
   "execution_count": 143,
   "id": "1dd73a49-5c55-4803-9f96-a3f4585c2f3b",
   "metadata": {
    "tags": []
   },
   "outputs": [],
   "source": [
    "yes_no_columns = []\n",
    "\n",
    "for col in telco_train[yes_no_columns]:\n",
    "    telco_train.loc[:,col] = np.where(telco_train[col] == 'Yes', 1, 0)"
   ]
  },
  {
   "cell_type": "code",
   "execution_count": 144,
   "id": "3219558f-f58d-43fb-a283-bd56e5720d1a",
   "metadata": {
    "tags": []
   },
   "outputs": [],
   "source": [
    "yes_no_columns = ['partner', 'dependents', 'phone_service','paperless_billing','churn','multiple_lines','online_security', 'online_backup',\n",
    "       'device_protection', 'tech_support', 'streaming_tv', 'streaming_movies']\n",
    "\n",
    "for col in telco_train[multi_answer_columns]:\n",
    "    telco_train.loc[:,col] = np.where(telco_train[col] == 'Yes', 1, 0)"
   ]
  },
  {
   "cell_type": "code",
   "execution_count": 145,
   "id": "26082155-38d7-4666-b91c-c3dd704ad8ab",
   "metadata": {
    "tags": []
   },
   "outputs": [],
   "source": [
    "df_encoded_columns = pd.get_dummies(telco_train[['gender','contract_type','internet_service_type','payment_type']],drop_first=True).astype(int)\n",
    "telco_train_preprocessed = pd.concat([telco_train, df_encoded_columns],\n",
    "                                    axis=1).drop(columns=['contract_type','internet_service_type','payment_type'])"
   ]
  },
  {
   "cell_type": "code",
   "execution_count": 59,
   "id": "9b407f46-2954-428b-b4ed-391b931b3cbd",
   "metadata": {
    "tags": []
   },
   "outputs": [
    {
     "name": "stdout",
     "output_type": "stream",
     "text": [
      "<class 'pandas.core.frame.DataFrame'>\n",
      "Index: 4225 entries, 7169-YWAMK to 5480-HPRRX\n",
      "Data columns (total 20 columns):\n",
      " #   Column                 Non-Null Count  Dtype  \n",
      "---  ------                 --------------  -----  \n",
      " 0   gender                 4225 non-null   object \n",
      " 1   senior_citizen         4225 non-null   int64  \n",
      " 2   partner                4225 non-null   object \n",
      " 3   dependents             4225 non-null   object \n",
      " 4   tenure                 4225 non-null   int64  \n",
      " 5   phone_service          4225 non-null   object \n",
      " 6   multiple_lines         4225 non-null   object \n",
      " 7   online_security        4225 non-null   object \n",
      " 8   online_backup          4225 non-null   object \n",
      " 9   device_protection      4225 non-null   object \n",
      " 10  tech_support           4225 non-null   object \n",
      " 11  streaming_tv           4225 non-null   object \n",
      " 12  streaming_movies       4225 non-null   object \n",
      " 13  paperless_billing      4225 non-null   object \n",
      " 14  monthly_charges        4225 non-null   float64\n",
      " 15  total_charges          4225 non-null   float64\n",
      " 16  churn                  4225 non-null   object \n",
      " 17  contract_type          4225 non-null   object \n",
      " 18  internet_service_type  4225 non-null   object \n",
      " 19  payment_type           4225 non-null   object \n",
      "dtypes: float64(2), int64(2), object(16)\n",
      "memory usage: 693.2+ KB\n"
     ]
    }
   ],
   "source": [
    "telco_train.info()"
   ]
  },
  {
   "cell_type": "code",
   "execution_count": 109,
   "id": "e4380df1-42dc-4355-be87-e3d20e7fd5f3",
   "metadata": {
    "tags": []
   },
   "outputs": [],
   "source": []
  },
  {
   "cell_type": "code",
   "execution_count": null,
   "id": "d4f7cf8d-dcdb-4b3f-896c-fb34afa64c89",
   "metadata": {},
   "outputs": [],
   "source": []
  },
  {
   "cell_type": "code",
   "execution_count": null,
   "id": "fa66dd34-7a58-4755-af3a-bb8064e9040a",
   "metadata": {},
   "outputs": [],
   "source": [
    "telco_train.info()"
   ]
  },
  {
   "cell_type": "code",
   "execution_count": null,
   "id": "57c89b3c-5eef-456f-b2df-2372da06c496",
   "metadata": {},
   "outputs": [],
   "source": []
  },
  {
   "cell_type": "code",
   "execution_count": null,
   "id": "ccfd4fbb-7cbf-4616-b579-d86bed00c8af",
   "metadata": {},
   "outputs": [],
   "source": []
  },
  {
   "cell_type": "code",
   "execution_count": null,
   "id": "1c794c73-0054-4951-ac35-fd985fa33bbe",
   "metadata": {
    "tags": []
   },
   "outputs": [],
   "source": []
  },
  {
   "cell_type": "code",
   "execution_count": null,
   "id": "1f1853df-b919-4fda-9479-dd1171111fa8",
   "metadata": {
    "tags": []
   },
   "outputs": [],
   "source": [
    "train.info()"
   ]
  },
  {
   "cell_type": "markdown",
   "id": "0f36502c-e96b-4f2b-bb2e-4e368cea59d6",
   "metadata": {},
   "source": [
    "**4. Repeat the same steps on validate and test.**"
   ]
  },
  {
   "cell_type": "code",
   "execution_count": null,
   "id": "7b4af961-d551-45e6-bb29-26db39d51a79",
   "metadata": {},
   "outputs": [],
   "source": []
  },
  {
   "cell_type": "markdown",
   "id": "0ad73520-54cb-4145-b1e2-405d50cab8e0",
   "metadata": {},
   "source": [
    "**5. Create a function named prep_telco that accepts the train, validate, and test telco data, and returns the dataframes ready for modeling.**"
   ]
  },
  {
   "cell_type": "code",
   "execution_count": 79,
   "id": "1a931693-f7b4-4694-b43a-a4e17f179683",
   "metadata": {},
   "outputs": [],
   "source": [
    "def preprocess_telco(train_df, validate_df, test_df):\n",
    "    encoded_df = []\n",
    "    for df in [train_df,validate_df,test_df]:\n",
    "        df.loc[:,'internet_service'] = np.where(df['online_security'] == 'No internet service', 0, 1)\n",
    "        df.insert(7, 'internet_service', df.pop('internet_service')) \n",
    "        \n",
    "        yes_no_columns = ['partner', 'dependents', 'phone_service','paperless_billing','churn','multiple_lines','online_security', 'online_backup',\n",
    "       'device_protection', 'tech_support', 'streaming_tv', 'streaming_movies']\n",
    "\n",
    "        for col in df[yes_no_columns]:\n",
    "            df.loc[:,col] = np.where(df[col] == 'Yes', 1, 0)\n",
    "        \n",
    "        df_encoded_columns = pd.get_dummies(telco_train[['gender','contract_type','internet_service_type','payment_type']],drop_first=True).astype(int)\n",
    "        encoded_df.append(pd.concat([df, df_encoded_columns],\n",
    "                                             axis=1).drop(columns=['gender','contract_type','internet_service_type','payment_type']))\n",
    "         \n",
    "    return encoded_df"
   ]
  },
  {
   "cell_type": "code",
   "execution_count": 86,
   "id": "5aab2e7a-344e-4378-8db7-c3cd2a89b3a6",
   "metadata": {
    "tags": []
   },
   "outputs": [],
   "source": [
    "def preprocess_telco(train_df, val_df, test_df):\n",
    "\n",
    "    encoding_vars = []\n",
    "    for col in train_df.columns:\n",
    "        if train_df[col].dtype == 'O':\n",
    "            encoding_vars.append(col)\n",
    "\n",
    "    encoded_dfs = []\n",
    "    for df in [train_df, val_df, test_df]:\n",
    "        df_encoded_cats = pd.get_dummies(\n",
    "            df[encoding_vars],\n",
    "              drop_first=True).astype(int)\n",
    "        encoded_dfs.append(pd.concat(\n",
    "            [df,\n",
    "            df_encoded_cats],\n",
    "            axis=1).drop(columns=encoding_vars))\n",
    "    return encoded_dfs"
   ]
  },
  {
   "cell_type": "code",
   "execution_count": 87,
   "id": "cb419f4d-87b7-41ba-b632-8a1bb8c04c6d",
   "metadata": {
    "tags": []
   },
   "outputs": [],
   "source": [
    "telco_train_preprocessed,\\\n",
    "telco_validate_preprocessed,\\\n",
    "telco_test_preprocessed = preprocess_telco(telco_train,telco_validate,telco_test)"
   ]
  },
  {
   "cell_type": "code",
   "execution_count": 88,
   "id": "a0b6ef6f-323d-4078-9ad7-489f5bbd84dc",
   "metadata": {
    "tags": []
   },
   "outputs": [
    {
     "name": "stdout",
     "output_type": "stream",
     "text": [
      "<class 'pandas.core.frame.DataFrame'>\n",
      "Index: 4225 entries, 7169-YWAMK to 5480-HPRRX\n",
      "Data columns (total 31 columns):\n",
      " #   Column                                     Non-Null Count  Dtype  \n",
      "---  ------                                     --------------  -----  \n",
      " 0   senior_citizen                             4225 non-null   int64  \n",
      " 1   tenure                                     4225 non-null   int64  \n",
      " 2   monthly_charges                            4225 non-null   float64\n",
      " 3   total_charges                              4225 non-null   float64\n",
      " 4   gender_Male                                4225 non-null   int64  \n",
      " 5   partner_Yes                                4225 non-null   int64  \n",
      " 6   dependents_Yes                             4225 non-null   int64  \n",
      " 7   phone_service_Yes                          4225 non-null   int64  \n",
      " 8   multiple_lines_No phone service            4225 non-null   int64  \n",
      " 9   multiple_lines_Yes                         4225 non-null   int64  \n",
      " 10  online_security_No internet service        4225 non-null   int64  \n",
      " 11  online_security_Yes                        4225 non-null   int64  \n",
      " 12  online_backup_No internet service          4225 non-null   int64  \n",
      " 13  online_backup_Yes                          4225 non-null   int64  \n",
      " 14  device_protection_No internet service      4225 non-null   int64  \n",
      " 15  device_protection_Yes                      4225 non-null   int64  \n",
      " 16  tech_support_No internet service           4225 non-null   int64  \n",
      " 17  tech_support_Yes                           4225 non-null   int64  \n",
      " 18  streaming_tv_No internet service           4225 non-null   int64  \n",
      " 19  streaming_tv_Yes                           4225 non-null   int64  \n",
      " 20  streaming_movies_No internet service       4225 non-null   int64  \n",
      " 21  streaming_movies_Yes                       4225 non-null   int64  \n",
      " 22  paperless_billing_Yes                      4225 non-null   int64  \n",
      " 23  churn_Yes                                  4225 non-null   int64  \n",
      " 24  contract_type_One year                     4225 non-null   int64  \n",
      " 25  contract_type_Two year                     4225 non-null   int64  \n",
      " 26  internet_service_type_Fiber optic          4225 non-null   int64  \n",
      " 27  internet_service_type_No internet service  4225 non-null   int64  \n",
      " 28  payment_type_Credit card (automatic)       4225 non-null   int64  \n",
      " 29  payment_type_Electronic check              4225 non-null   int64  \n",
      " 30  payment_type_Mailed check                  4225 non-null   int64  \n",
      "dtypes: float64(2), int64(29)\n",
      "memory usage: 1.0+ MB\n"
     ]
    }
   ],
   "source": [
    "telco_train_preprocessed.info()"
   ]
  },
  {
   "cell_type": "code",
   "execution_count": null,
   "id": "7e75b653-3485-4db7-b950-ebbc83464c57",
   "metadata": {},
   "outputs": [],
   "source": []
  }
 ],
 "metadata": {
  "kernelspec": {
   "display_name": "Python 3 (ipykernel)",
   "language": "python",
   "name": "python3"
  },
  "language_info": {
   "codemirror_mode": {
    "name": "ipython",
    "version": 3
   },
   "file_extension": ".py",
   "mimetype": "text/x-python",
   "name": "python",
   "nbconvert_exporter": "python",
   "pygments_lexer": "ipython3",
   "version": "3.11.5"
  }
 },
 "nbformat": 4,
 "nbformat_minor": 5
}
