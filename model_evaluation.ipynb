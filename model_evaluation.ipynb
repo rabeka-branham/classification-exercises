{
 "cells": [
  {
   "cell_type": "code",
   "execution_count": 310,
   "id": "648b3d97-351d-4b0f-8213-9700ba9a0c19",
   "metadata": {
    "tags": []
   },
   "outputs": [],
   "source": [
    "import pandas as pd\n",
    "import numpy as np"
   ]
  },
  {
   "cell_type": "markdown",
   "id": "3bc776db-08cc-4692-9d76-6f17fa2ec12a",
   "metadata": {},
   "source": [
    "### 1. Create a new file named `model_evaluation.py` or `model_evaluation.ipynb` for these exercises."
   ]
  },
  {
   "cell_type": "markdown",
   "id": "ebdb3452-cb11-4c81-95a5-615e61960cd0",
   "metadata": {},
   "source": [
    "### 2. Given the following confusion matrix, evaluate (by hand) the model's performance.\n",
    "\n",
    "|               | pred dog   | pred cat   |\n",
    "|:------------  |-----------:|-----------:|\n",
    "| actual dog    |         46 |         7  |\n",
    "| actual cat    |         13 |         34 |"
   ]
  },
  {
   "cell_type": "markdown",
   "id": "dfda359f-ae34-4577-ae1a-dbee240725b6",
   "metadata": {
    "tags": []
   },
   "source": [
    "> 'dog' is my **positive**\n",
    "\n",
    "> 'cat' is my **negative**"
   ]
  },
  {
   "cell_type": "code",
   "execution_count": 311,
   "id": "f94fa758-209e-4afd-80ad-e4b9c71f5591",
   "metadata": {
    "tags": []
   },
   "outputs": [],
   "source": [
    "#predicted dog, was dog\n",
    "tp = 46 \n",
    "\n",
    "#predicted cat, was cat\n",
    "tn = 34 \n",
    "\n",
    "#predicted dog, was cat\n",
    "fp = 13 \n",
    "\n",
    "#predicted cat, was dog\n",
    "fn = 7 "
   ]
  },
  {
   "cell_type": "markdown",
   "id": "acfba766-be1a-48bb-b89a-1d33cdf813f5",
   "metadata": {},
   "source": [
    "- In the context of this problem, what is a false positive?"
   ]
  },
  {
   "cell_type": "code",
   "execution_count": 312,
   "id": "effd4bbc-1483-4249-a713-41b899710737",
   "metadata": {
    "tags": []
   },
   "outputs": [],
   "source": [
    "#predicted dog, was cat\n",
    "fp = 13"
   ]
  },
  {
   "cell_type": "markdown",
   "id": "f9fa91a1-1c9f-41a8-b536-b56917a00df2",
   "metadata": {},
   "source": [
    "- In the context of this problem, what is a false negative?"
   ]
  },
  {
   "cell_type": "code",
   "execution_count": 313,
   "id": "ba7cd2fa-ab04-4c23-bb39-5fba07a3a272",
   "metadata": {
    "tags": []
   },
   "outputs": [],
   "source": [
    "#predicted cat, was dog\n",
    "fn = 7 "
   ]
  },
  {
   "cell_type": "markdown",
   "id": "e8464e2e-3a53-4766-b2e7-932891bcaf98",
   "metadata": {},
   "source": [
    "- How would you describe this model?"
   ]
  },
  {
   "cell_type": "code",
   "execution_count": 314,
   "id": "8b192809-217e-44cc-8b70-221442c664e4",
   "metadata": {
    "tags": []
   },
   "outputs": [],
   "source": [
    "def model_accuracy(tp,tn,fp,fn):\n",
    "    return round(((tp + tn) / (tp + tn + fp + fn)),2)\n",
    "\n",
    "def model_precision(tp,fp):\n",
    "    return round(((tp)/(tp+fp)),2)\n",
    "\n",
    "def model_recall(tp,fn):\n",
    "    return round((tp)/(tp+fn),2)"
   ]
  },
  {
   "cell_type": "code",
   "execution_count": 315,
   "id": "5d533e25-baf0-43ed-818e-4115dcfeeb40",
   "metadata": {
    "tags": []
   },
   "outputs": [
    {
     "data": {
      "text/plain": [
       "0.8"
      ]
     },
     "execution_count": 315,
     "metadata": {},
     "output_type": "execute_result"
    }
   ],
   "source": [
    "model_accuracy(tp,tn,fp,fn)"
   ]
  },
  {
   "cell_type": "markdown",
   "id": "3191513a-7246-49ec-8266-de6e71cd5a64",
   "metadata": {
    "tags": []
   },
   "source": [
    "> this model accurately predicts cat or dog 80% of the time"
   ]
  },
  {
   "cell_type": "markdown",
   "id": "29e968e8-fb1a-436d-8ef2-5caf759c3774",
   "metadata": {},
   "source": [
    "### 3. You are working as a datascientist working for Codeup Cody Creator (C3 for short), a rubber-duck manufacturing plant.\n",
    "\n",
    "### Unfortunately, some of the rubber ducks that are produced will have defects. Your team has built several models that try to predict those defects, and the data from their predictions [can be found here](https://ds.codeup.com/data/c3.csv).\n",
    "\n",
    "### Use the predictions dataset and pandas to help answer the following questions:"
   ]
  },
  {
   "cell_type": "code",
   "execution_count": 369,
   "id": "a6d57bea-8c45-4031-8412-953c9c2e3fa0",
   "metadata": {
    "tags": []
   },
   "outputs": [],
   "source": [
    "df_3= pd.read_csv('c3.csv')"
   ]
  },
  {
   "cell_type": "code",
   "execution_count": 370,
   "id": "f5c839b5-75f8-429a-ab40-6839e6315a89",
   "metadata": {
    "tags": []
   },
   "outputs": [
    {
     "data": {
      "text/html": [
       "<div>\n",
       "<style scoped>\n",
       "    .dataframe tbody tr th:only-of-type {\n",
       "        vertical-align: middle;\n",
       "    }\n",
       "\n",
       "    .dataframe tbody tr th {\n",
       "        vertical-align: top;\n",
       "    }\n",
       "\n",
       "    .dataframe thead th {\n",
       "        text-align: right;\n",
       "    }\n",
       "</style>\n",
       "<table border=\"1\" class=\"dataframe\">\n",
       "  <thead>\n",
       "    <tr style=\"text-align: right;\">\n",
       "      <th></th>\n",
       "      <th>actual</th>\n",
       "      <th>model1</th>\n",
       "      <th>model2</th>\n",
       "      <th>model3</th>\n",
       "    </tr>\n",
       "  </thead>\n",
       "  <tbody>\n",
       "    <tr>\n",
       "      <th>0</th>\n",
       "      <td>No Defect</td>\n",
       "      <td>No Defect</td>\n",
       "      <td>Defect</td>\n",
       "      <td>No Defect</td>\n",
       "    </tr>\n",
       "    <tr>\n",
       "      <th>1</th>\n",
       "      <td>No Defect</td>\n",
       "      <td>No Defect</td>\n",
       "      <td>Defect</td>\n",
       "      <td>Defect</td>\n",
       "    </tr>\n",
       "    <tr>\n",
       "      <th>2</th>\n",
       "      <td>No Defect</td>\n",
       "      <td>No Defect</td>\n",
       "      <td>Defect</td>\n",
       "      <td>No Defect</td>\n",
       "    </tr>\n",
       "    <tr>\n",
       "      <th>3</th>\n",
       "      <td>No Defect</td>\n",
       "      <td>Defect</td>\n",
       "      <td>Defect</td>\n",
       "      <td>Defect</td>\n",
       "    </tr>\n",
       "    <tr>\n",
       "      <th>4</th>\n",
       "      <td>No Defect</td>\n",
       "      <td>No Defect</td>\n",
       "      <td>Defect</td>\n",
       "      <td>No Defect</td>\n",
       "    </tr>\n",
       "    <tr>\n",
       "      <th>...</th>\n",
       "      <td>...</td>\n",
       "      <td>...</td>\n",
       "      <td>...</td>\n",
       "      <td>...</td>\n",
       "    </tr>\n",
       "    <tr>\n",
       "      <th>195</th>\n",
       "      <td>No Defect</td>\n",
       "      <td>No Defect</td>\n",
       "      <td>Defect</td>\n",
       "      <td>Defect</td>\n",
       "    </tr>\n",
       "    <tr>\n",
       "      <th>196</th>\n",
       "      <td>Defect</td>\n",
       "      <td>Defect</td>\n",
       "      <td>No Defect</td>\n",
       "      <td>No Defect</td>\n",
       "    </tr>\n",
       "    <tr>\n",
       "      <th>197</th>\n",
       "      <td>No Defect</td>\n",
       "      <td>No Defect</td>\n",
       "      <td>No Defect</td>\n",
       "      <td>No Defect</td>\n",
       "    </tr>\n",
       "    <tr>\n",
       "      <th>198</th>\n",
       "      <td>No Defect</td>\n",
       "      <td>No Defect</td>\n",
       "      <td>Defect</td>\n",
       "      <td>Defect</td>\n",
       "    </tr>\n",
       "    <tr>\n",
       "      <th>199</th>\n",
       "      <td>No Defect</td>\n",
       "      <td>No Defect</td>\n",
       "      <td>No Defect</td>\n",
       "      <td>Defect</td>\n",
       "    </tr>\n",
       "  </tbody>\n",
       "</table>\n",
       "<p>200 rows × 4 columns</p>\n",
       "</div>"
      ],
      "text/plain": [
       "        actual     model1     model2     model3\n",
       "0    No Defect  No Defect     Defect  No Defect\n",
       "1    No Defect  No Defect     Defect     Defect\n",
       "2    No Defect  No Defect     Defect  No Defect\n",
       "3    No Defect     Defect     Defect     Defect\n",
       "4    No Defect  No Defect     Defect  No Defect\n",
       "..         ...        ...        ...        ...\n",
       "195  No Defect  No Defect     Defect     Defect\n",
       "196     Defect     Defect  No Defect  No Defect\n",
       "197  No Defect  No Defect  No Defect  No Defect\n",
       "198  No Defect  No Defect     Defect     Defect\n",
       "199  No Defect  No Defect  No Defect     Defect\n",
       "\n",
       "[200 rows x 4 columns]"
      ]
     },
     "execution_count": 370,
     "metadata": {},
     "output_type": "execute_result"
    }
   ],
   "source": [
    "df_3"
   ]
  },
  {
   "cell_type": "markdown",
   "id": "8b607ff0-1f7d-4290-8565-bdf46bebc973",
   "metadata": {},
   "source": [
    "> 'Defect' is my **positive**\n",
    "\n",
    "> 'No Defect' is my **negative**"
   ]
  },
  {
   "cell_type": "markdown",
   "id": "1c048355-8ba9-4529-af6c-723e29778c29",
   "metadata": {},
   "source": [
    "- An internal team wants to investigate the cause of the manufacturing defects. They tell you that they want to identify as many of the ducks that have a defect as possible. Which evaluation metric would be appropriate here? **Recall.** Which model would be the best fit for this use case? **Model 3.**"
   ]
  },
  {
   "cell_type": "code",
   "execution_count": 380,
   "id": "a7c48145-6fdc-4a2d-a548-e1f8cb486028",
   "metadata": {
    "tags": []
   },
   "outputs": [],
   "source": [
    "positive_actuals = df_3[df_3.actual == 'Defect']"
   ]
  },
  {
   "cell_type": "code",
   "execution_count": 381,
   "id": "31cc43ff-2b01-43f4-ab05-3d7b09c8084f",
   "metadata": {
    "tags": []
   },
   "outputs": [
    {
     "data": {
      "text/plain": [
       "0.5"
      ]
     },
     "execution_count": 381,
     "metadata": {},
     "output_type": "execute_result"
    }
   ],
   "source": [
    "(positive_actuals.actual == positive_actuals.model1).mean()"
   ]
  },
  {
   "cell_type": "code",
   "execution_count": 382,
   "id": "0fde707a-fc22-471c-a71c-73aab4b59970",
   "metadata": {
    "tags": []
   },
   "outputs": [
    {
     "data": {
      "text/plain": [
       "0.5625"
      ]
     },
     "execution_count": 382,
     "metadata": {},
     "output_type": "execute_result"
    }
   ],
   "source": [
    "(positive_actuals.actual == positive_actuals.model2).mean()"
   ]
  },
  {
   "cell_type": "code",
   "execution_count": 383,
   "id": "ab304a0f-bf72-456e-bbed-94f83799f1dc",
   "metadata": {
    "tags": []
   },
   "outputs": [
    {
     "data": {
      "text/plain": [
       "0.8125"
      ]
     },
     "execution_count": 383,
     "metadata": {},
     "output_type": "execute_result"
    }
   ],
   "source": [
    "(positive_actuals.actual == positive_actuals.model3).mean()"
   ]
  },
  {
   "cell_type": "code",
   "execution_count": 384,
   "id": "49fca799-5b2a-471c-8f01-815df9421a40",
   "metadata": {
    "tags": []
   },
   "outputs": [
    {
     "data": {
      "text/plain": [
       "0.5"
      ]
     },
     "execution_count": 384,
     "metadata": {},
     "output_type": "execute_result"
    }
   ],
   "source": [
    "recall_score(df_3.actual,df_3.model1,pos_label='Defect')"
   ]
  },
  {
   "cell_type": "code",
   "execution_count": 385,
   "id": "b1e47207-9062-441a-9027-a5a390c23cf6",
   "metadata": {
    "tags": []
   },
   "outputs": [
    {
     "data": {
      "text/plain": [
       "0.5625"
      ]
     },
     "execution_count": 385,
     "metadata": {},
     "output_type": "execute_result"
    }
   ],
   "source": [
    "recall_score(df_3.actual,df_3.model2,pos_label='Defect')"
   ]
  },
  {
   "cell_type": "code",
   "execution_count": 386,
   "id": "93161d41-8824-49d0-bc40-864e0eeb8596",
   "metadata": {
    "tags": []
   },
   "outputs": [
    {
     "data": {
      "text/plain": [
       "0.8125"
      ]
     },
     "execution_count": 386,
     "metadata": {},
     "output_type": "execute_result"
    }
   ],
   "source": [
    "recall_score(df_3.actual,df_3.model3,pos_label='Defect')"
   ]
  },
  {
   "cell_type": "markdown",
   "id": "892df1d1-26cd-41bd-afa1-9c927b5b7a85",
   "metadata": {},
   "source": [
    "- Recently several stories in the local news have come out highlighting customers who received a rubber duck with a defect, and portraying C3 in a bad light. The PR team has decided to launch a program that gives customers with a defective duck a vacation to Hawaii. They need you to predict which ducks will have defects, but tell you the really don't want to accidentally give out a vacation package when the duck really doesn't have a defect. Which evaluation metric would be appropriate here? **Precision.** Which model would be the best fit for this use case? **Model 1.**"
   ]
  },
  {
   "cell_type": "code",
   "execution_count": 387,
   "id": "a7cece7c-f8d8-447b-add7-98885a5b7f05",
   "metadata": {
    "tags": []
   },
   "outputs": [
    {
     "data": {
      "text/plain": [
       "0.8"
      ]
     },
     "execution_count": 387,
     "metadata": {},
     "output_type": "execute_result"
    }
   ],
   "source": [
    "positive_predictions = df_3[df_3.model1 == 'Defect']\n",
    "(positive_predictions.actual == positive_predictions.model1).mean()"
   ]
  },
  {
   "cell_type": "code",
   "execution_count": 389,
   "id": "8bdb666d-bc7e-4099-829e-fbd769dcb2af",
   "metadata": {
    "tags": []
   },
   "outputs": [
    {
     "data": {
      "text/plain": [
       "0.1"
      ]
     },
     "execution_count": 389,
     "metadata": {},
     "output_type": "execute_result"
    }
   ],
   "source": [
    "positive_predictions = df_3[df_3.model2 == 'Defect']\n",
    "(positive_predictions.actual == positive_predictions.model2).mean()"
   ]
  },
  {
   "cell_type": "code",
   "execution_count": 390,
   "id": "3cf51ccc-f759-4f1e-b0c1-093c4d9dead9",
   "metadata": {
    "tags": []
   },
   "outputs": [
    {
     "data": {
      "text/plain": [
       "0.13131313131313133"
      ]
     },
     "execution_count": 390,
     "metadata": {},
     "output_type": "execute_result"
    }
   ],
   "source": [
    "positive_predictions = df_3[df_3.model3 == 'Defect']\n",
    "(positive_predictions.actual == positive_predictions.model3).mean()"
   ]
  },
  {
   "cell_type": "code",
   "execution_count": 409,
   "id": "0cf63105-df1f-43b9-9e50-bd17f5254a7f",
   "metadata": {
    "tags": []
   },
   "outputs": [
    {
     "name": "stdout",
     "output_type": "stream",
     "text": [
      "model1 precision: 0.8\n",
      "model2 precision: 0.1\n",
      "model3 precision: 0.13131313131313133\n"
     ]
    }
   ],
   "source": [
    "for col in df_3.columns[1:]:\n",
    "    positive_predictions = df_3[df_3[col] == 'Defect']\n",
    "    precision = (positive_predictions.actual == positive_predictions[col]).mean()\n",
    "    print(f'{col} precision: {precision}')"
   ]
  },
  {
   "cell_type": "code",
   "execution_count": 392,
   "id": "65611cbb-91b4-4dfc-b5a3-51d92f86288b",
   "metadata": {
    "tags": []
   },
   "outputs": [
    {
     "data": {
      "text/plain": [
       "0.8"
      ]
     },
     "execution_count": 392,
     "metadata": {},
     "output_type": "execute_result"
    }
   ],
   "source": [
    "precision_score(df_3.actual,df_3.model1,pos_label='Defect')"
   ]
  },
  {
   "cell_type": "code",
   "execution_count": 394,
   "id": "7ea60ec7-741e-4d7d-9062-c5397c10eeac",
   "metadata": {
    "tags": []
   },
   "outputs": [
    {
     "data": {
      "text/plain": [
       "0.1"
      ]
     },
     "execution_count": 394,
     "metadata": {},
     "output_type": "execute_result"
    }
   ],
   "source": [
    "precision_score(df_3.actual,df_3.model2,pos_label='Defect')"
   ]
  },
  {
   "cell_type": "code",
   "execution_count": 393,
   "id": "d0f43525-8198-42c6-b1a3-93f95332c54a",
   "metadata": {
    "tags": []
   },
   "outputs": [
    {
     "data": {
      "text/plain": [
       "0.13131313131313133"
      ]
     },
     "execution_count": 393,
     "metadata": {},
     "output_type": "execute_result"
    }
   ],
   "source": [
    "precision_score(df_3.actual,df_3.model3,pos_label='Defect')"
   ]
  },
  {
   "cell_type": "markdown",
   "id": "45ca621f-43bc-4657-8787-09114fc1bc2a",
   "metadata": {},
   "source": [
    "### 4. You are working as a data scientist for Gives You Paws ™, a subscription based service that shows you cute pictures of dogs or cats (or both for an additional fee).\n",
    "\n",
    "### At Gives You Paws, anyone can upload pictures of their cats or dogs. The photos are then put through a two step process. First an automated algorithm tags pictures as either a cat or a dog (Phase I). Next, the photos that have been initially identified are put through another round of review, possibly with some human oversight, before being presented to the users (Phase II).\n",
    "\n",
    "### Several models have already been developed with the data, and [you can find their results here](https://ds.codeup.com/data/gives_you_paws.csv).\n",
    "\n",
    "### Given this dataset, use pandas to create a baseline model (i.e. a model that just predicts the most common class) and answer the following questions:"
   ]
  },
  {
   "cell_type": "code",
   "execution_count": 420,
   "id": "5fe81035-3668-4407-bfba-f12bb7526db6",
   "metadata": {
    "tags": []
   },
   "outputs": [],
   "source": [
    "df_4 = pd.read_csv('gives_you_paws.csv')"
   ]
  },
  {
   "cell_type": "code",
   "execution_count": 421,
   "id": "aaf9a6d7-a763-4dd3-96df-5ab4013c9e6f",
   "metadata": {
    "tags": []
   },
   "outputs": [
    {
     "data": {
      "text/html": [
       "<div>\n",
       "<style scoped>\n",
       "    .dataframe tbody tr th:only-of-type {\n",
       "        vertical-align: middle;\n",
       "    }\n",
       "\n",
       "    .dataframe tbody tr th {\n",
       "        vertical-align: top;\n",
       "    }\n",
       "\n",
       "    .dataframe thead th {\n",
       "        text-align: right;\n",
       "    }\n",
       "</style>\n",
       "<table border=\"1\" class=\"dataframe\">\n",
       "  <thead>\n",
       "    <tr style=\"text-align: right;\">\n",
       "      <th></th>\n",
       "      <th>actual</th>\n",
       "      <th>model1</th>\n",
       "      <th>model2</th>\n",
       "      <th>model3</th>\n",
       "      <th>model4</th>\n",
       "    </tr>\n",
       "  </thead>\n",
       "  <tbody>\n",
       "    <tr>\n",
       "      <th>0</th>\n",
       "      <td>cat</td>\n",
       "      <td>cat</td>\n",
       "      <td>dog</td>\n",
       "      <td>cat</td>\n",
       "      <td>dog</td>\n",
       "    </tr>\n",
       "    <tr>\n",
       "      <th>1</th>\n",
       "      <td>dog</td>\n",
       "      <td>dog</td>\n",
       "      <td>cat</td>\n",
       "      <td>cat</td>\n",
       "      <td>dog</td>\n",
       "    </tr>\n",
       "    <tr>\n",
       "      <th>2</th>\n",
       "      <td>dog</td>\n",
       "      <td>cat</td>\n",
       "      <td>cat</td>\n",
       "      <td>cat</td>\n",
       "      <td>dog</td>\n",
       "    </tr>\n",
       "    <tr>\n",
       "      <th>3</th>\n",
       "      <td>dog</td>\n",
       "      <td>dog</td>\n",
       "      <td>dog</td>\n",
       "      <td>cat</td>\n",
       "      <td>dog</td>\n",
       "    </tr>\n",
       "    <tr>\n",
       "      <th>4</th>\n",
       "      <td>cat</td>\n",
       "      <td>cat</td>\n",
       "      <td>cat</td>\n",
       "      <td>dog</td>\n",
       "      <td>dog</td>\n",
       "    </tr>\n",
       "    <tr>\n",
       "      <th>...</th>\n",
       "      <td>...</td>\n",
       "      <td>...</td>\n",
       "      <td>...</td>\n",
       "      <td>...</td>\n",
       "      <td>...</td>\n",
       "    </tr>\n",
       "    <tr>\n",
       "      <th>4995</th>\n",
       "      <td>dog</td>\n",
       "      <td>dog</td>\n",
       "      <td>dog</td>\n",
       "      <td>dog</td>\n",
       "      <td>dog</td>\n",
       "    </tr>\n",
       "    <tr>\n",
       "      <th>4996</th>\n",
       "      <td>dog</td>\n",
       "      <td>dog</td>\n",
       "      <td>cat</td>\n",
       "      <td>cat</td>\n",
       "      <td>dog</td>\n",
       "    </tr>\n",
       "    <tr>\n",
       "      <th>4997</th>\n",
       "      <td>dog</td>\n",
       "      <td>cat</td>\n",
       "      <td>cat</td>\n",
       "      <td>dog</td>\n",
       "      <td>dog</td>\n",
       "    </tr>\n",
       "    <tr>\n",
       "      <th>4998</th>\n",
       "      <td>cat</td>\n",
       "      <td>cat</td>\n",
       "      <td>cat</td>\n",
       "      <td>cat</td>\n",
       "      <td>dog</td>\n",
       "    </tr>\n",
       "    <tr>\n",
       "      <th>4999</th>\n",
       "      <td>dog</td>\n",
       "      <td>dog</td>\n",
       "      <td>dog</td>\n",
       "      <td>dog</td>\n",
       "      <td>dog</td>\n",
       "    </tr>\n",
       "  </tbody>\n",
       "</table>\n",
       "<p>5000 rows × 5 columns</p>\n",
       "</div>"
      ],
      "text/plain": [
       "     actual model1 model2 model3 model4\n",
       "0       cat    cat    dog    cat    dog\n",
       "1       dog    dog    cat    cat    dog\n",
       "2       dog    cat    cat    cat    dog\n",
       "3       dog    dog    dog    cat    dog\n",
       "4       cat    cat    cat    dog    dog\n",
       "...     ...    ...    ...    ...    ...\n",
       "4995    dog    dog    dog    dog    dog\n",
       "4996    dog    dog    cat    cat    dog\n",
       "4997    dog    cat    cat    dog    dog\n",
       "4998    cat    cat    cat    cat    dog\n",
       "4999    dog    dog    dog    dog    dog\n",
       "\n",
       "[5000 rows x 5 columns]"
      ]
     },
     "execution_count": 421,
     "metadata": {},
     "output_type": "execute_result"
    }
   ],
   "source": [
    "df_4"
   ]
  },
  {
   "cell_type": "code",
   "execution_count": 423,
   "id": "e0cd43bb-6855-4554-a0f9-8cc35f88f394",
   "metadata": {
    "tags": []
   },
   "outputs": [
    {
     "name": "stdout",
     "output_type": "stream",
     "text": [
      "model1 accuracy: 0.8074\n",
      "model2 accuracy: 0.6304\n",
      "model3 accuracy: 0.5096\n",
      "model4 accuracy: 0.7426\n"
     ]
    }
   ],
   "source": [
    "for col in df_4.columns[1:]:\n",
    "    accuracy = (df_4.actual == df_4[col]).mean()\n",
    "    print(f'{col} accuracy: {accuracy}')"
   ]
  },
  {
   "cell_type": "code",
   "execution_count": 264,
   "id": "a08a8707-85f1-4b38-af35-e39e19e8fdf3",
   "metadata": {
    "tags": []
   },
   "outputs": [],
   "source": [
    "positive_actuals = df_4[df_4.actual == 'Defect']"
   ]
  },
  {
   "cell_type": "code",
   "execution_count": 431,
   "id": "4b43e7b4-d4ff-4fd2-9730-942d5be58c29",
   "metadata": {
    "tags": []
   },
   "outputs": [
    {
     "name": "stdout",
     "output_type": "stream",
     "text": [
      "model1 recall: nan\n",
      "model2 recall: nan\n",
      "model3 recall: nan\n",
      "model4 recall: nan\n"
     ]
    }
   ],
   "source": [
    "for col in df_4.columns[1:]:\n",
    "    positive_actuals = df_4[df_4.actual == 'Defect']\n",
    "    recall = (positive_actuals.actual == positive_actuals[col]).mean()\n",
    "    print(f'{col} recall: {recall}')"
   ]
  },
  {
   "cell_type": "code",
   "execution_count": 422,
   "id": "817f88eb-e143-410a-9e11-cf8f6cd55599",
   "metadata": {
    "tags": []
   },
   "outputs": [],
   "source": []
  },
  {
   "cell_type": "code",
   "execution_count": 267,
   "id": "cb906a00-68b3-44b2-aa31-97cedb032b28",
   "metadata": {
    "tags": []
   },
   "outputs": [
    {
     "name": "stdout",
     "output_type": "stream",
     "text": [
      "\t\tModel One\tModel Two\tModel Three\tModel Four\n",
      "Accuracy:\t0.81\t\t0.63\t\t0.51\t\t0.74\n",
      "Precision:\t0.89\t\t0.89\t\t0.66\t\t0.73\n",
      "Recall:\t\t0.8\t\t0.49\t\t0.51\t\t0.96\n"
     ]
    }
   ],
   "source": [
    "print('\\t\\tModel One\\tModel Two\\tModel Three\\tModel Four')\n",
    "print(f'Accuracy:\\t{accuracy1}\\t\\t{accuracy2}\\t\\t{accuracy3}\\t\\t{accuracy4}')\n",
    "print(f'Precision:\\t{precision1}\\t\\t{precision2}\\t\\t{precision3}\\t\\t{precision4}')\n",
    "print(f'Recall:\\t\\t{recall1}\\t\\t{recall2}\\t\\t{recall3}\\t\\t{recall4}')"
   ]
  },
  {
   "cell_type": "code",
   "execution_count": 268,
   "id": "510a795e-bdf6-40a1-ae43-d7a531c87cb0",
   "metadata": {
    "tags": []
   },
   "outputs": [],
   "source": [
    "model1 = pd.crosstab(df_4.actual,df_4.model1)\n",
    "tp1 = model1.iloc[0,0]\n",
    "tn1 = model1.iloc[1,1]\n",
    "fp1 = model1.iloc[1,0]\n",
    "fn1 = model1.iloc[0,1]\n",
    "\n",
    "model2 = pd.crosstab(df_4.actual,df_4.model2)\n",
    "tp2 = model2.iloc[0,0]\n",
    "tn2 = model2.iloc[1,1]\n",
    "fp2 = model2.iloc[1,0]\n",
    "fn2 = model2.iloc[0,1]\n",
    "\n",
    "model3 = pd.crosstab(df_4.actual,df_4.model3)\n",
    "tp3 = model3.iloc[0,0]\n",
    "tn3 = model3.iloc[1,1]\n",
    "fp3 = model3.iloc[1,0]\n",
    "fn3 = model3.iloc[0,1]\n",
    "\n",
    "model4 = pd.crosstab(df_4.actual,df_4.model4)\n",
    "tp4 = model4.iloc[0,0]\n",
    "tn4 = model4.iloc[1,1]\n",
    "fp4 = model4.iloc[1,0]\n",
    "fn4 = model4.iloc[0,1]"
   ]
  },
  {
   "cell_type": "code",
   "execution_count": 270,
   "id": "d15abee3-0639-4c2b-806e-3de7aa0d7806",
   "metadata": {
    "tags": []
   },
   "outputs": [],
   "source": [
    "accuracy1 = model_accuracy(tp1,tn1,fp1,fn1)\n",
    "accuracy2 = model_accuracy(tp2,tn2,fp2,fn2)\n",
    "accuracy3 = model_accuracy(tp3,tn3,fp3,fn3)\n",
    "accuracy4 = model_accuracy(tp4,tn4,fp4,fn4)"
   ]
  },
  {
   "cell_type": "code",
   "execution_count": 271,
   "id": "b050320b-8632-47ee-9807-3a5f554fb583",
   "metadata": {
    "tags": []
   },
   "outputs": [],
   "source": [
    "precision1 = model_precision(tp1,fp1)\n",
    "precision2 = model_precision(tp2,fp2)\n",
    "precision3 = model_precision(tp3,fp3)\n",
    "precision4 = model_precision(tp4,fp4)"
   ]
  },
  {
   "cell_type": "code",
   "execution_count": 272,
   "id": "9273f5f1-b80f-4cd6-9f45-6c4ee4146754",
   "metadata": {
    "tags": []
   },
   "outputs": [],
   "source": [
    "recall1 = model_recall(tp1,fn1)\n",
    "recall2 = model_recall(tp2,fn2)\n",
    "recall3 = model_recall(tp3,fn3)\n",
    "recall4 = model_recall(tp4,fn4)"
   ]
  },
  {
   "cell_type": "code",
   "execution_count": 273,
   "id": "e503c9ca-6ba1-4eb2-93ab-27d6fc057d99",
   "metadata": {
    "tags": []
   },
   "outputs": [
    {
     "name": "stdout",
     "output_type": "stream",
     "text": [
      "\t\tModel One\tModel Two\tModel Three\tModel Four\n",
      "Accuracy:\t0.81\t\t0.63\t\t0.51\t\t0.74\n",
      "Precision:\t0.69\t\t0.48\t\t0.36\t\t0.81\n",
      "Recall:\t\t0.82\t\t0.89\t\t0.51\t\t0.35\n"
     ]
    }
   ],
   "source": [
    "print('\\t\\tModel One\\tModel Two\\tModel Three\\tModel Four')\n",
    "print(f'Accuracy:\\t{accuracy1}\\t\\t{accuracy2}\\t\\t{accuracy3}\\t\\t{accuracy4}')\n",
    "print(f'Precision:\\t{precision1}\\t\\t{precision2}\\t\\t{precision3}\\t\\t{precision4}')\n",
    "print(f'Recall:\\t\\t{recall1}\\t\\t{recall2}\\t\\t{recall3}\\t\\t{recall4}')"
   ]
  },
  {
   "cell_type": "markdown",
   "id": "ca461896-b864-4937-9169-699f20ac2a58",
   "metadata": {},
   "source": [
    "- In terms of accuracy, how do the various models compare to the baseline model? Are any of the models better than the baseline?"
   ]
  },
  {
   "cell_type": "code",
   "execution_count": 274,
   "id": "9b1caddd-84c2-45e8-9b8f-67c7c05c761f",
   "metadata": {
    "tags": []
   },
   "outputs": [
    {
     "data": {
      "text/plain": [
       "actual\n",
       "dog    3254\n",
       "cat    1746\n",
       "Name: count, dtype: int64"
      ]
     },
     "execution_count": 274,
     "metadata": {},
     "output_type": "execute_result"
    }
   ],
   "source": [
    "df_4.actual.value_counts()"
   ]
  },
  {
   "cell_type": "code",
   "execution_count": 275,
   "id": "0c5f332d-0b00-44b5-9599-58e5dffcff4a",
   "metadata": {
    "tags": []
   },
   "outputs": [
    {
     "data": {
      "text/plain": [
       "0.6508"
      ]
     },
     "execution_count": 275,
     "metadata": {},
     "output_type": "execute_result"
    }
   ],
   "source": [
    "3254 / (3254+1746)"
   ]
  },
  {
   "cell_type": "markdown",
   "id": "09e232c2-4153-496a-9c5a-15e1ffd0f7b7",
   "metadata": {},
   "source": [
    "> 1 & 4"
   ]
  },
  {
   "cell_type": "markdown",
   "id": "06c20963-d380-48c5-ba00-3c9054dc2a8a",
   "metadata": {},
   "source": [
    "- Suppose you are working on a team that solely deals with dog pictures. Which of these models would you recommend?"
   ]
  },
  {
   "cell_type": "code",
   "execution_count": null,
   "id": "afa3d497-0f06-4377-b366-4cdffb48ff71",
   "metadata": {},
   "outputs": [],
   "source": []
  },
  {
   "cell_type": "markdown",
   "id": "c0e028af-b1cd-438e-8147-f0858dace2e3",
   "metadata": {},
   "source": [
    "- Suppose you are working on a team that solely deals with cat pictures. Which of these models would you recommend?"
   ]
  },
  {
   "cell_type": "code",
   "execution_count": null,
   "id": "10758ac3-f74d-42b0-87c2-b89080e32d21",
   "metadata": {},
   "outputs": [],
   "source": []
  },
  {
   "cell_type": "code",
   "execution_count": 303,
   "id": "02ac9eca-6015-4f7f-91e5-101ddd169c9b",
   "metadata": {},
   "outputs": [],
   "source": [
    "from sklearn.metrics import accuracy_score\n",
    "from sklearn.metrics import precision_score\n",
    "from sklearn.metrics import recall_score\n",
    "from sklearn.metrics import classification_report"
   ]
  },
  {
   "cell_type": "code",
   "execution_count": 284,
   "id": "ce0c11a0-9b31-4f69-8361-9bd6518e3a3e",
   "metadata": {
    "tags": []
   },
   "outputs": [
    {
     "name": "stdout",
     "output_type": "stream",
     "text": [
      "0.8074\n",
      "0.6304\n",
      "0.5096\n",
      "0.7426\n"
     ]
    }
   ],
   "source": [
    "print(accuracy_score(df_4.actual,df_4.model1))\n",
    "print(accuracy_score(df_4.actual,df_4.model2))\n",
    "print(accuracy_score(df_4.actual,df_4.model3))\n",
    "print(accuracy_score(df_4.actual,df_4.model4))"
   ]
  },
  {
   "cell_type": "code",
   "execution_count": 295,
   "id": "cb269f28-6c6d-4d84-80e6-fb3803c44dff",
   "metadata": {
    "tags": []
   },
   "outputs": [
    {
     "data": {
      "text/plain": [
       "array([0.68977218, 0.89002383])"
      ]
     },
     "execution_count": 295,
     "metadata": {},
     "output_type": "execute_result"
    }
   ],
   "source": [
    "precision_score(df_4.actual,df_4.model1,average=None)"
   ]
  },
  {
   "cell_type": "code",
   "execution_count": 296,
   "id": "bede2cec-3f96-452f-a48e-ec9886f0d816",
   "metadata": {
    "tags": []
   },
   "outputs": [
    {
     "data": {
      "text/plain": [
       "array([0.48412204, 0.89317673])"
      ]
     },
     "execution_count": 296,
     "metadata": {},
     "output_type": "execute_result"
    }
   ],
   "source": [
    "precision_score(df_4.actual,df_4.model2,average=None)"
   ]
  },
  {
   "cell_type": "code",
   "execution_count": 297,
   "id": "a93df1eb-5d95-4f3c-a931-92dcfaadef73",
   "metadata": {
    "tags": []
   },
   "outputs": [
    {
     "data": {
      "text/plain": [
       "array([0.35834671, 0.65988836])"
      ]
     },
     "execution_count": 297,
     "metadata": {},
     "output_type": "execute_result"
    }
   ],
   "source": [
    "precision_score(df_4.actual,df_4.model3,average=None)"
   ]
  },
  {
   "cell_type": "code",
   "execution_count": 298,
   "id": "6f578852-a24d-40a4-ae11-1d8432699f6b",
   "metadata": {
    "tags": []
   },
   "outputs": [
    {
     "data": {
      "text/plain": [
       "array([0.80722892, 0.73124853])"
      ]
     },
     "execution_count": 298,
     "metadata": {},
     "output_type": "execute_result"
    }
   ],
   "source": [
    "precision_score(df_4.actual,df_4.model4,average=None)"
   ]
  },
  {
   "cell_type": "code",
   "execution_count": 299,
   "id": "d87c61ea-efbf-4320-b50d-394b66610889",
   "metadata": {
    "tags": []
   },
   "outputs": [
    {
     "data": {
      "text/plain": [
       "0.8900238338440586"
      ]
     },
     "execution_count": 299,
     "metadata": {},
     "output_type": "execute_result"
    }
   ],
   "source": [
    "precision_score(df_4.actual,df_4.model1,pos_label='dog')"
   ]
  },
  {
   "cell_type": "code",
   "execution_count": 302,
   "id": "c8e6de44-1e16-4c2c-8555-134062a13706",
   "metadata": {
    "tags": []
   },
   "outputs": [
    {
     "data": {
      "text/plain": [
       "0.803318992009834"
      ]
     },
     "execution_count": 302,
     "metadata": {},
     "output_type": "execute_result"
    }
   ],
   "source": [
    "recall_score(df_4.actual,df_4.model1,pos_label='dog')"
   ]
  },
  {
   "cell_type": "code",
   "execution_count": 308,
   "id": "6cf1cd39-e20d-4d83-b7cf-f0f8046e58c5",
   "metadata": {
    "tags": []
   },
   "outputs": [
    {
     "name": "stdout",
     "output_type": "stream",
     "text": [
      "              precision    recall  f1-score   support\n",
      "\n",
      "         cat       0.69      0.82      0.75      1746\n",
      "         dog       0.89      0.80      0.84      3254\n",
      "\n",
      "    accuracy                           0.81      5000\n",
      "   macro avg       0.79      0.81      0.80      5000\n",
      "weighted avg       0.82      0.81      0.81      5000\n",
      "\n"
     ]
    }
   ],
   "source": [
    "print(classification_report(df_4.actual,df_4.model1,target_names=['cat','dog']))"
   ]
  },
  {
   "cell_type": "code",
   "execution_count": null,
   "id": "62305821-49e0-4020-aba2-8c3e3ab40879",
   "metadata": {},
   "outputs": [],
   "source": []
  }
 ],
 "metadata": {
  "kernelspec": {
   "display_name": "Python 3 (ipykernel)",
   "language": "python",
   "name": "python3"
  },
  "language_info": {
   "codemirror_mode": {
    "name": "ipython",
    "version": 3
   },
   "file_extension": ".py",
   "mimetype": "text/x-python",
   "name": "python",
   "nbconvert_exporter": "python",
   "pygments_lexer": "ipython3",
   "version": "3.11.5"
  }
 },
 "nbformat": 4,
 "nbformat_minor": 5
}
