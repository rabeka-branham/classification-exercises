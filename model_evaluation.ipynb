{
 "cells": [
  {
   "cell_type": "code",
   "execution_count": 41,
   "id": "648b3d97-351d-4b0f-8213-9700ba9a0c19",
   "metadata": {
    "tags": []
   },
   "outputs": [],
   "source": [
    "import pandas as pd\n",
    "import numpy as np\n",
    "\n",
    "from sklearn.metrics import accuracy_score, precision_score, recall_score, classification_report"
   ]
  },
  {
   "cell_type": "markdown",
   "id": "3bc776db-08cc-4692-9d76-6f17fa2ec12a",
   "metadata": {
    "jp-MarkdownHeadingCollapsed": true,
    "tags": []
   },
   "source": [
    "### 1. Create a new file named `model_evaluation.py` or `model_evaluation.ipynb` for these exercises."
   ]
  },
  {
   "cell_type": "markdown",
   "id": "ebdb3452-cb11-4c81-95a5-615e61960cd0",
   "metadata": {
    "jp-MarkdownHeadingCollapsed": true,
    "tags": []
   },
   "source": [
    "### 2. Given the following confusion matrix, evaluate (by hand) the model's performance.\n",
    "\n",
    "|               | pred dog   | pred cat   |\n",
    "|:------------  |-----------:|-----------:|\n",
    "| actual dog    |         46 |         7  |\n",
    "| actual cat    |         13 |         34 |"
   ]
  },
  {
   "cell_type": "markdown",
   "id": "dfda359f-ae34-4577-ae1a-dbee240725b6",
   "metadata": {
    "tags": []
   },
   "source": [
    "> 'dog' is my **positive**\n",
    "\n",
    "> 'cat' is my **negative**"
   ]
  },
  {
   "cell_type": "code",
   "execution_count": 42,
   "id": "f94fa758-209e-4afd-80ad-e4b9c71f5591",
   "metadata": {
    "tags": []
   },
   "outputs": [],
   "source": [
    "#predicted dog, was dog\n",
    "tp = 46 \n",
    "\n",
    "#predicted cat, was cat\n",
    "tn = 34 \n",
    "\n",
    "#predicted dog, was cat\n",
    "fp = 13 \n",
    "\n",
    "#predicted cat, was dog\n",
    "fn = 7 "
   ]
  },
  {
   "cell_type": "markdown",
   "id": "acfba766-be1a-48bb-b89a-1d33cdf813f5",
   "metadata": {},
   "source": [
    "- In the context of this problem, what is a false positive?"
   ]
  },
  {
   "cell_type": "code",
   "execution_count": 43,
   "id": "effd4bbc-1483-4249-a713-41b899710737",
   "metadata": {
    "tags": []
   },
   "outputs": [],
   "source": [
    "#predicted dog, was cat\n",
    "fp = 13"
   ]
  },
  {
   "cell_type": "markdown",
   "id": "f9fa91a1-1c9f-41a8-b536-b56917a00df2",
   "metadata": {},
   "source": [
    "- In the context of this problem, what is a false negative?"
   ]
  },
  {
   "cell_type": "code",
   "execution_count": 44,
   "id": "ba7cd2fa-ab04-4c23-bb39-5fba07a3a272",
   "metadata": {
    "tags": []
   },
   "outputs": [],
   "source": [
    "#predicted cat, was dog\n",
    "fn = 7 "
   ]
  },
  {
   "cell_type": "markdown",
   "id": "e8464e2e-3a53-4766-b2e7-932891bcaf98",
   "metadata": {},
   "source": [
    "- How would you describe this model?"
   ]
  },
  {
   "cell_type": "code",
   "execution_count": 46,
   "id": "5d533e25-baf0-43ed-818e-4115dcfeeb40",
   "metadata": {
    "tags": []
   },
   "outputs": [
    {
     "data": {
      "text/plain": [
       "0.8"
      ]
     },
     "execution_count": 46,
     "metadata": {},
     "output_type": "execute_result"
    }
   ],
   "source": [
    "(tp + tn) / (tp + tn + fp + fn)"
   ]
  },
  {
   "cell_type": "markdown",
   "id": "3191513a-7246-49ec-8266-de6e71cd5a64",
   "metadata": {
    "tags": []
   },
   "source": [
    "> this model accurately predicts cat or dog 80% of the time"
   ]
  },
  {
   "cell_type": "markdown",
   "id": "29e968e8-fb1a-436d-8ef2-5caf759c3774",
   "metadata": {
    "jp-MarkdownHeadingCollapsed": true,
    "tags": []
   },
   "source": [
    "### 3. You are working as a datascientist working for Codeup Cody Creator (C3 for short), a rubber-duck manufacturing plant.\n",
    "\n",
    "### Unfortunately, some of the rubber ducks that are produced will have defects. Your team has built several models that try to predict those defects, and the data from their predictions [can be found here](https://ds.codeup.com/data/c3.csv).\n",
    "\n",
    "### Use the predictions dataset and pandas to help answer the following questions:"
   ]
  },
  {
   "cell_type": "code",
   "execution_count": 22,
   "id": "a6d57bea-8c45-4031-8412-953c9c2e3fa0",
   "metadata": {
    "tags": []
   },
   "outputs": [],
   "source": [
    "df_3= pd.read_csv('c3.csv')"
   ]
  },
  {
   "cell_type": "code",
   "execution_count": 23,
   "id": "f5c839b5-75f8-429a-ab40-6839e6315a89",
   "metadata": {
    "tags": []
   },
   "outputs": [
    {
     "data": {
      "text/html": [
       "<div>\n",
       "<style scoped>\n",
       "    .dataframe tbody tr th:only-of-type {\n",
       "        vertical-align: middle;\n",
       "    }\n",
       "\n",
       "    .dataframe tbody tr th {\n",
       "        vertical-align: top;\n",
       "    }\n",
       "\n",
       "    .dataframe thead th {\n",
       "        text-align: right;\n",
       "    }\n",
       "</style>\n",
       "<table border=\"1\" class=\"dataframe\">\n",
       "  <thead>\n",
       "    <tr style=\"text-align: right;\">\n",
       "      <th></th>\n",
       "      <th>actual</th>\n",
       "      <th>model1</th>\n",
       "      <th>model2</th>\n",
       "      <th>model3</th>\n",
       "    </tr>\n",
       "  </thead>\n",
       "  <tbody>\n",
       "    <tr>\n",
       "      <th>0</th>\n",
       "      <td>No Defect</td>\n",
       "      <td>No Defect</td>\n",
       "      <td>Defect</td>\n",
       "      <td>No Defect</td>\n",
       "    </tr>\n",
       "    <tr>\n",
       "      <th>1</th>\n",
       "      <td>No Defect</td>\n",
       "      <td>No Defect</td>\n",
       "      <td>Defect</td>\n",
       "      <td>Defect</td>\n",
       "    </tr>\n",
       "    <tr>\n",
       "      <th>2</th>\n",
       "      <td>No Defect</td>\n",
       "      <td>No Defect</td>\n",
       "      <td>Defect</td>\n",
       "      <td>No Defect</td>\n",
       "    </tr>\n",
       "    <tr>\n",
       "      <th>3</th>\n",
       "      <td>No Defect</td>\n",
       "      <td>Defect</td>\n",
       "      <td>Defect</td>\n",
       "      <td>Defect</td>\n",
       "    </tr>\n",
       "    <tr>\n",
       "      <th>4</th>\n",
       "      <td>No Defect</td>\n",
       "      <td>No Defect</td>\n",
       "      <td>Defect</td>\n",
       "      <td>No Defect</td>\n",
       "    </tr>\n",
       "    <tr>\n",
       "      <th>...</th>\n",
       "      <td>...</td>\n",
       "      <td>...</td>\n",
       "      <td>...</td>\n",
       "      <td>...</td>\n",
       "    </tr>\n",
       "    <tr>\n",
       "      <th>195</th>\n",
       "      <td>No Defect</td>\n",
       "      <td>No Defect</td>\n",
       "      <td>Defect</td>\n",
       "      <td>Defect</td>\n",
       "    </tr>\n",
       "    <tr>\n",
       "      <th>196</th>\n",
       "      <td>Defect</td>\n",
       "      <td>Defect</td>\n",
       "      <td>No Defect</td>\n",
       "      <td>No Defect</td>\n",
       "    </tr>\n",
       "    <tr>\n",
       "      <th>197</th>\n",
       "      <td>No Defect</td>\n",
       "      <td>No Defect</td>\n",
       "      <td>No Defect</td>\n",
       "      <td>No Defect</td>\n",
       "    </tr>\n",
       "    <tr>\n",
       "      <th>198</th>\n",
       "      <td>No Defect</td>\n",
       "      <td>No Defect</td>\n",
       "      <td>Defect</td>\n",
       "      <td>Defect</td>\n",
       "    </tr>\n",
       "    <tr>\n",
       "      <th>199</th>\n",
       "      <td>No Defect</td>\n",
       "      <td>No Defect</td>\n",
       "      <td>No Defect</td>\n",
       "      <td>Defect</td>\n",
       "    </tr>\n",
       "  </tbody>\n",
       "</table>\n",
       "<p>200 rows × 4 columns</p>\n",
       "</div>"
      ],
      "text/plain": [
       "        actual     model1     model2     model3\n",
       "0    No Defect  No Defect     Defect  No Defect\n",
       "1    No Defect  No Defect     Defect     Defect\n",
       "2    No Defect  No Defect     Defect  No Defect\n",
       "3    No Defect     Defect     Defect     Defect\n",
       "4    No Defect  No Defect     Defect  No Defect\n",
       "..         ...        ...        ...        ...\n",
       "195  No Defect  No Defect     Defect     Defect\n",
       "196     Defect     Defect  No Defect  No Defect\n",
       "197  No Defect  No Defect  No Defect  No Defect\n",
       "198  No Defect  No Defect     Defect     Defect\n",
       "199  No Defect  No Defect  No Defect     Defect\n",
       "\n",
       "[200 rows x 4 columns]"
      ]
     },
     "execution_count": 23,
     "metadata": {},
     "output_type": "execute_result"
    }
   ],
   "source": [
    "df_3"
   ]
  },
  {
   "cell_type": "markdown",
   "id": "8b607ff0-1f7d-4290-8565-bdf46bebc973",
   "metadata": {},
   "source": [
    "> 'Defect' is my **positive**\n",
    "\n",
    "> 'No Defect' is my **negative**"
   ]
  },
  {
   "cell_type": "markdown",
   "id": "1c048355-8ba9-4529-af6c-723e29778c29",
   "metadata": {},
   "source": [
    "- An internal team wants to investigate the cause of the manufacturing defects. They tell you that they want to identify as many of the ducks that have a defect as possible. Which evaluation metric would be appropriate here? **Recall.** Which model would be the best fit for this use case? **Model 3.**"
   ]
  },
  {
   "cell_type": "code",
   "execution_count": 24,
   "id": "a7c48145-6fdc-4a2d-a548-e1f8cb486028",
   "metadata": {
    "tags": []
   },
   "outputs": [],
   "source": [
    "positive_actuals = df_3[df_3.actual == 'Defect']"
   ]
  },
  {
   "cell_type": "code",
   "execution_count": 25,
   "id": "31cc43ff-2b01-43f4-ab05-3d7b09c8084f",
   "metadata": {
    "tags": []
   },
   "outputs": [
    {
     "data": {
      "text/plain": [
       "0.5"
      ]
     },
     "execution_count": 25,
     "metadata": {},
     "output_type": "execute_result"
    }
   ],
   "source": [
    "(positive_actuals.actual == positive_actuals.model1).mean()"
   ]
  },
  {
   "cell_type": "code",
   "execution_count": 26,
   "id": "0fde707a-fc22-471c-a71c-73aab4b59970",
   "metadata": {
    "tags": []
   },
   "outputs": [
    {
     "data": {
      "text/plain": [
       "0.5625"
      ]
     },
     "execution_count": 26,
     "metadata": {},
     "output_type": "execute_result"
    }
   ],
   "source": [
    "(positive_actuals.actual == positive_actuals.model2).mean()"
   ]
  },
  {
   "cell_type": "code",
   "execution_count": 27,
   "id": "ab304a0f-bf72-456e-bbed-94f83799f1dc",
   "metadata": {
    "tags": []
   },
   "outputs": [
    {
     "data": {
      "text/plain": [
       "0.8125"
      ]
     },
     "execution_count": 27,
     "metadata": {},
     "output_type": "execute_result"
    }
   ],
   "source": [
    "(positive_actuals.actual == positive_actuals.model3).mean()"
   ]
  },
  {
   "cell_type": "code",
   "execution_count": 28,
   "id": "49fca799-5b2a-471c-8f01-815df9421a40",
   "metadata": {
    "tags": []
   },
   "outputs": [
    {
     "data": {
      "text/plain": [
       "0.5"
      ]
     },
     "execution_count": 28,
     "metadata": {},
     "output_type": "execute_result"
    }
   ],
   "source": [
    "recall_score(df_3.actual,df_3.model1,pos_label='Defect')"
   ]
  },
  {
   "cell_type": "code",
   "execution_count": 29,
   "id": "b1e47207-9062-441a-9027-a5a390c23cf6",
   "metadata": {
    "tags": []
   },
   "outputs": [
    {
     "data": {
      "text/plain": [
       "0.5625"
      ]
     },
     "execution_count": 29,
     "metadata": {},
     "output_type": "execute_result"
    }
   ],
   "source": [
    "recall_score(df_3.actual,df_3.model2,pos_label='Defect')"
   ]
  },
  {
   "cell_type": "code",
   "execution_count": 30,
   "id": "93161d41-8824-49d0-bc40-864e0eeb8596",
   "metadata": {
    "tags": []
   },
   "outputs": [
    {
     "data": {
      "text/plain": [
       "0.8125"
      ]
     },
     "execution_count": 30,
     "metadata": {},
     "output_type": "execute_result"
    }
   ],
   "source": [
    "recall_score(df_3.actual,df_3.model3,pos_label='Defect')"
   ]
  },
  {
   "cell_type": "markdown",
   "id": "892df1d1-26cd-41bd-afa1-9c927b5b7a85",
   "metadata": {},
   "source": [
    "- Recently several stories in the local news have come out highlighting customers who received a rubber duck with a defect, and portraying C3 in a bad light. The PR team has decided to launch a program that gives customers with a defective duck a vacation to Hawaii. They need you to predict which ducks will have defects, but tell you the really don't want to accidentally give out a vacation package when the duck really doesn't have a defect. Which evaluation metric would be appropriate here? **Precision.** Which model would be the best fit for this use case? **Model 1.**"
   ]
  },
  {
   "cell_type": "code",
   "execution_count": 31,
   "id": "a7cece7c-f8d8-447b-add7-98885a5b7f05",
   "metadata": {
    "tags": []
   },
   "outputs": [
    {
     "data": {
      "text/plain": [
       "0.8"
      ]
     },
     "execution_count": 31,
     "metadata": {},
     "output_type": "execute_result"
    }
   ],
   "source": [
    "positive_predictions = df_3[df_3.model1 == 'Defect']\n",
    "(positive_predictions.actual == positive_predictions.model1).mean()"
   ]
  },
  {
   "cell_type": "code",
   "execution_count": 32,
   "id": "8bdb666d-bc7e-4099-829e-fbd769dcb2af",
   "metadata": {
    "tags": []
   },
   "outputs": [
    {
     "data": {
      "text/plain": [
       "0.1"
      ]
     },
     "execution_count": 32,
     "metadata": {},
     "output_type": "execute_result"
    }
   ],
   "source": [
    "positive_predictions = df_3[df_3.model2 == 'Defect']\n",
    "(positive_predictions.actual == positive_predictions.model2).mean()"
   ]
  },
  {
   "cell_type": "code",
   "execution_count": 33,
   "id": "3cf51ccc-f759-4f1e-b0c1-093c4d9dead9",
   "metadata": {
    "tags": []
   },
   "outputs": [
    {
     "data": {
      "text/plain": [
       "0.13131313131313133"
      ]
     },
     "execution_count": 33,
     "metadata": {},
     "output_type": "execute_result"
    }
   ],
   "source": [
    "positive_predictions = df_3[df_3.model3 == 'Defect']\n",
    "(positive_predictions.actual == positive_predictions.model3).mean()"
   ]
  },
  {
   "cell_type": "code",
   "execution_count": 34,
   "id": "0cf63105-df1f-43b9-9e50-bd17f5254a7f",
   "metadata": {
    "tags": []
   },
   "outputs": [
    {
     "name": "stdout",
     "output_type": "stream",
     "text": [
      "model1 precision: 0.8\n",
      "model2 precision: 0.1\n",
      "model3 precision: 0.13131313131313133\n"
     ]
    }
   ],
   "source": [
    "for col in df_3.columns[1:]:\n",
    "    positive_predictions = df_3[df_3[col] == 'Defect']\n",
    "    precision = (positive_predictions.actual == positive_predictions[col]).mean()\n",
    "    print(f'{col} precision: {precision}')"
   ]
  },
  {
   "cell_type": "code",
   "execution_count": 35,
   "id": "65611cbb-91b4-4dfc-b5a3-51d92f86288b",
   "metadata": {
    "tags": []
   },
   "outputs": [
    {
     "data": {
      "text/plain": [
       "0.8"
      ]
     },
     "execution_count": 35,
     "metadata": {},
     "output_type": "execute_result"
    }
   ],
   "source": [
    "precision_score(df_3.actual,df_3.model1,pos_label='Defect')"
   ]
  },
  {
   "cell_type": "code",
   "execution_count": 36,
   "id": "7ea60ec7-741e-4d7d-9062-c5397c10eeac",
   "metadata": {
    "tags": []
   },
   "outputs": [
    {
     "data": {
      "text/plain": [
       "0.1"
      ]
     },
     "execution_count": 36,
     "metadata": {},
     "output_type": "execute_result"
    }
   ],
   "source": [
    "precision_score(df_3.actual,df_3.model2,pos_label='Defect')"
   ]
  },
  {
   "cell_type": "code",
   "execution_count": 37,
   "id": "d0f43525-8198-42c6-b1a3-93f95332c54a",
   "metadata": {
    "tags": []
   },
   "outputs": [
    {
     "data": {
      "text/plain": [
       "0.13131313131313133"
      ]
     },
     "execution_count": 37,
     "metadata": {},
     "output_type": "execute_result"
    }
   ],
   "source": [
    "precision_score(df_3.actual,df_3.model3,pos_label='Defect')"
   ]
  },
  {
   "cell_type": "markdown",
   "id": "45ca621f-43bc-4657-8787-09114fc1bc2a",
   "metadata": {
    "tags": []
   },
   "source": [
    "### 4. You are working as a data scientist for Gives You Paws ™, a subscription based service that shows you cute pictures of dogs or cats (or both for an additional fee).\n",
    "\n",
    "### At Gives You Paws, anyone can upload pictures of their cats or dogs. The photos are then put through a two step process. First an automated algorithm tags pictures as either a cat or a dog (Phase I). Next, the photos that have been initially identified are put through another round of review, possibly with some human oversight, before being presented to the users (Phase II).\n",
    "\n",
    "### Several models have already been developed with the data, and [you can find their results here](https://ds.codeup.com/data/gives_you_paws.csv).\n",
    "\n",
    "### Given this dataset, use pandas to create a baseline model (i.e. a model that just predicts the most common class) and answer the following questions:"
   ]
  },
  {
   "cell_type": "code",
   "execution_count": 50,
   "id": "5fe81035-3668-4407-bfba-f12bb7526db6",
   "metadata": {
    "tags": []
   },
   "outputs": [],
   "source": [
    "df_4 = pd.read_csv('gives_you_paws.csv')"
   ]
  },
  {
   "cell_type": "code",
   "execution_count": 51,
   "id": "aaf9a6d7-a763-4dd3-96df-5ab4013c9e6f",
   "metadata": {
    "tags": []
   },
   "outputs": [
    {
     "data": {
      "text/html": [
       "<div>\n",
       "<style scoped>\n",
       "    .dataframe tbody tr th:only-of-type {\n",
       "        vertical-align: middle;\n",
       "    }\n",
       "\n",
       "    .dataframe tbody tr th {\n",
       "        vertical-align: top;\n",
       "    }\n",
       "\n",
       "    .dataframe thead th {\n",
       "        text-align: right;\n",
       "    }\n",
       "</style>\n",
       "<table border=\"1\" class=\"dataframe\">\n",
       "  <thead>\n",
       "    <tr style=\"text-align: right;\">\n",
       "      <th></th>\n",
       "      <th>actual</th>\n",
       "      <th>model1</th>\n",
       "      <th>model2</th>\n",
       "      <th>model3</th>\n",
       "      <th>model4</th>\n",
       "    </tr>\n",
       "  </thead>\n",
       "  <tbody>\n",
       "    <tr>\n",
       "      <th>0</th>\n",
       "      <td>cat</td>\n",
       "      <td>cat</td>\n",
       "      <td>dog</td>\n",
       "      <td>cat</td>\n",
       "      <td>dog</td>\n",
       "    </tr>\n",
       "    <tr>\n",
       "      <th>1</th>\n",
       "      <td>dog</td>\n",
       "      <td>dog</td>\n",
       "      <td>cat</td>\n",
       "      <td>cat</td>\n",
       "      <td>dog</td>\n",
       "    </tr>\n",
       "    <tr>\n",
       "      <th>2</th>\n",
       "      <td>dog</td>\n",
       "      <td>cat</td>\n",
       "      <td>cat</td>\n",
       "      <td>cat</td>\n",
       "      <td>dog</td>\n",
       "    </tr>\n",
       "    <tr>\n",
       "      <th>3</th>\n",
       "      <td>dog</td>\n",
       "      <td>dog</td>\n",
       "      <td>dog</td>\n",
       "      <td>cat</td>\n",
       "      <td>dog</td>\n",
       "    </tr>\n",
       "    <tr>\n",
       "      <th>4</th>\n",
       "      <td>cat</td>\n",
       "      <td>cat</td>\n",
       "      <td>cat</td>\n",
       "      <td>dog</td>\n",
       "      <td>dog</td>\n",
       "    </tr>\n",
       "    <tr>\n",
       "      <th>...</th>\n",
       "      <td>...</td>\n",
       "      <td>...</td>\n",
       "      <td>...</td>\n",
       "      <td>...</td>\n",
       "      <td>...</td>\n",
       "    </tr>\n",
       "    <tr>\n",
       "      <th>4995</th>\n",
       "      <td>dog</td>\n",
       "      <td>dog</td>\n",
       "      <td>dog</td>\n",
       "      <td>dog</td>\n",
       "      <td>dog</td>\n",
       "    </tr>\n",
       "    <tr>\n",
       "      <th>4996</th>\n",
       "      <td>dog</td>\n",
       "      <td>dog</td>\n",
       "      <td>cat</td>\n",
       "      <td>cat</td>\n",
       "      <td>dog</td>\n",
       "    </tr>\n",
       "    <tr>\n",
       "      <th>4997</th>\n",
       "      <td>dog</td>\n",
       "      <td>cat</td>\n",
       "      <td>cat</td>\n",
       "      <td>dog</td>\n",
       "      <td>dog</td>\n",
       "    </tr>\n",
       "    <tr>\n",
       "      <th>4998</th>\n",
       "      <td>cat</td>\n",
       "      <td>cat</td>\n",
       "      <td>cat</td>\n",
       "      <td>cat</td>\n",
       "      <td>dog</td>\n",
       "    </tr>\n",
       "    <tr>\n",
       "      <th>4999</th>\n",
       "      <td>dog</td>\n",
       "      <td>dog</td>\n",
       "      <td>dog</td>\n",
       "      <td>dog</td>\n",
       "      <td>dog</td>\n",
       "    </tr>\n",
       "  </tbody>\n",
       "</table>\n",
       "<p>5000 rows × 5 columns</p>\n",
       "</div>"
      ],
      "text/plain": [
       "     actual model1 model2 model3 model4\n",
       "0       cat    cat    dog    cat    dog\n",
       "1       dog    dog    cat    cat    dog\n",
       "2       dog    cat    cat    cat    dog\n",
       "3       dog    dog    dog    cat    dog\n",
       "4       cat    cat    cat    dog    dog\n",
       "...     ...    ...    ...    ...    ...\n",
       "4995    dog    dog    dog    dog    dog\n",
       "4996    dog    dog    cat    cat    dog\n",
       "4997    dog    cat    cat    dog    dog\n",
       "4998    cat    cat    cat    cat    dog\n",
       "4999    dog    dog    dog    dog    dog\n",
       "\n",
       "[5000 rows x 5 columns]"
      ]
     },
     "execution_count": 51,
     "metadata": {},
     "output_type": "execute_result"
    }
   ],
   "source": [
    "df_4"
   ]
  },
  {
   "cell_type": "code",
   "execution_count": 52,
   "id": "e0cd43bb-6855-4554-a0f9-8cc35f88f394",
   "metadata": {
    "tags": []
   },
   "outputs": [
    {
     "name": "stdout",
     "output_type": "stream",
     "text": [
      "model1 accuracy: 0.81\n",
      "model2 accuracy: 0.63\n",
      "model3 accuracy: 0.51\n",
      "model4 accuracy: 0.74\n"
     ]
    }
   ],
   "source": [
    "for col in df_4.columns[1:]:\n",
    "    accuracy = (df_4.actual == df_4[col]).mean()\n",
    "    print(f'{col} accuracy: {accuracy:.2f}')"
   ]
  },
  {
   "cell_type": "code",
   "execution_count": 53,
   "id": "4b43e7b4-d4ff-4fd2-9730-942d5be58c29",
   "metadata": {
    "tags": []
   },
   "outputs": [
    {
     "name": "stdout",
     "output_type": "stream",
     "text": [
      "model1 recall: 0.80\n",
      "model2 recall: 0.49\n",
      "model3 recall: 0.51\n",
      "model4 recall: 0.96\n"
     ]
    }
   ],
   "source": [
    "positive_actuals = df_4[df_4.actual == 'dog']\n",
    "\n",
    "for col in df_4.columns[1:]:\n",
    "    recall = (positive_actuals.actual == positive_actuals[col]).mean()\n",
    "    print(f'{col} recall: {recall:.2f}')"
   ]
  },
  {
   "cell_type": "code",
   "execution_count": 54,
   "id": "817f88eb-e143-410a-9e11-cf8f6cd55599",
   "metadata": {
    "tags": []
   },
   "outputs": [
    {
     "name": "stdout",
     "output_type": "stream",
     "text": [
      "model1 precision: 0.89\n",
      "model2 precision: 0.89\n",
      "model3 precision: 0.66\n",
      "model4 precision: 0.73\n"
     ]
    }
   ],
   "source": [
    "for col in df_4.columns[1:]:\n",
    "    positive_predictions = df_4[df_4[col] == 'dog']\n",
    "    precision = (positive_predictions.actual == positive_predictions[col]).mean()\n",
    "    print(f'{col} precision: {precision:.2f}')"
   ]
  },
  {
   "cell_type": "code",
   "execution_count": 55,
   "id": "510a795e-bdf6-40a1-ae43-d7a531c87cb0",
   "metadata": {
    "tags": []
   },
   "outputs": [
    {
     "name": "stdout",
     "output_type": "stream",
     "text": [
      "model1 accuracy: 0.81\n",
      "model2 accuracy: 0.63\n",
      "model3 accuracy: 0.51\n",
      "model4 accuracy: 0.74\n"
     ]
    }
   ],
   "source": [
    "for col in df_4.columns[1:]:\n",
    "    accuracy = (df_4.actual == df_4[col]).mean()\n",
    "    print(f'{col} accuracy: {accuracy:.2f}')"
   ]
  },
  {
   "cell_type": "code",
   "execution_count": 56,
   "id": "d15abee3-0639-4c2b-806e-3de7aa0d7806",
   "metadata": {
    "tags": []
   },
   "outputs": [
    {
     "name": "stdout",
     "output_type": "stream",
     "text": [
      "model1 recall: 0.82\n",
      "model2 recall: 0.89\n",
      "model3 recall: 0.51\n",
      "model4 recall: 0.35\n"
     ]
    }
   ],
   "source": [
    "positive_actuals = df_4[df_4.actual == 'cat']\n",
    "\n",
    "for col in df_4.columns[1:]:\n",
    "    recall = (positive_actuals.actual == positive_actuals[col]).mean()\n",
    "    print(f'{col} recall: {recall:.2f}')"
   ]
  },
  {
   "cell_type": "code",
   "execution_count": 57,
   "id": "b050320b-8632-47ee-9807-3a5f554fb583",
   "metadata": {
    "tags": []
   },
   "outputs": [
    {
     "name": "stdout",
     "output_type": "stream",
     "text": [
      "model1 precision: 0.69\n",
      "model2 precision: 0.48\n",
      "model3 precision: 0.36\n",
      "model4 precision: 0.81\n"
     ]
    }
   ],
   "source": [
    "for col in df_4.columns[1:]:\n",
    "    positive_predictions = df_4[df_4[col] == 'cat']\n",
    "    precision = (positive_predictions.actual == positive_predictions[col]).mean()\n",
    "    print(f'{col} precision: {precision:.2f}')"
   ]
  },
  {
   "cell_type": "markdown",
   "id": "ca461896-b864-4937-9169-699f20ac2a58",
   "metadata": {},
   "source": [
    "- In terms of accuracy, how do the various models compare to the baseline model? Are any of the models better than the baseline?"
   ]
  },
  {
   "cell_type": "code",
   "execution_count": 58,
   "id": "9b1caddd-84c2-45e8-9b8f-67c7c05c761f",
   "metadata": {
    "tags": []
   },
   "outputs": [
    {
     "data": {
      "text/plain": [
       "actual\n",
       "dog    3254\n",
       "cat    1746\n",
       "Name: count, dtype: int64"
      ]
     },
     "execution_count": 58,
     "metadata": {},
     "output_type": "execute_result"
    }
   ],
   "source": [
    "df_4.actual.value_counts()"
   ]
  },
  {
   "cell_type": "code",
   "execution_count": 59,
   "id": "0c5f332d-0b00-44b5-9599-58e5dffcff4a",
   "metadata": {
    "tags": []
   },
   "outputs": [
    {
     "data": {
      "text/plain": [
       "0.6508"
      ]
     },
     "execution_count": 59,
     "metadata": {},
     "output_type": "execute_result"
    }
   ],
   "source": [
    "3254 / (3254+1746)"
   ]
  },
  {
   "cell_type": "code",
   "execution_count": 60,
   "id": "15113b31-3ecb-47e7-8da0-ecdaa1d7a4e1",
   "metadata": {
    "tags": []
   },
   "outputs": [
    {
     "data": {
      "text/plain": [
       "0.6508"
      ]
     },
     "execution_count": 60,
     "metadata": {},
     "output_type": "execute_result"
    }
   ],
   "source": [
    "(df_4.actual == 'dog').mean()"
   ]
  },
  {
   "cell_type": "code",
   "execution_count": 61,
   "id": "0aac9b1e-c15c-400b-a71b-a304cb676c5f",
   "metadata": {
    "tags": []
   },
   "outputs": [
    {
     "data": {
      "text/plain": [
       "0.6508"
      ]
     },
     "execution_count": 61,
     "metadata": {},
     "output_type": "execute_result"
    }
   ],
   "source": [
    "df_4.actual.value_counts(normalize=True)[0]"
   ]
  },
  {
   "cell_type": "markdown",
   "id": "09e232c2-4153-496a-9c5a-15e1ffd0f7b7",
   "metadata": {},
   "source": [
    "> 1 & 4"
   ]
  },
  {
   "cell_type": "markdown",
   "id": "06c20963-d380-48c5-ba00-3c9054dc2a8a",
   "metadata": {},
   "source": [
    "- Suppose you are working on a team that solely deals with dog pictures. Which of these models would you recommend?"
   ]
  },
  {
   "cell_type": "markdown",
   "id": "96c44c31-1a9b-48b8-922b-63e01091ad66",
   "metadata": {},
   "source": [
    "> 'dog' is my **positive**\n",
    "\n",
    "> <ins>recall</ins>: minimize the false negatives\n",
    "\n",
    "> <ins>precision</ins>: minimize the false positives\n",
    "\n",
    "> <ins>false negative</ins>: predicted cat, was dog\n",
    "    \n",
    "> <ins>false positive</ins>: predicted dog, was cat"
   ]
  },
  {
   "cell_type": "code",
   "execution_count": 62,
   "id": "1d66f28b-3abd-461c-ae0b-f2cdae85ee9d",
   "metadata": {
    "tags": []
   },
   "outputs": [
    {
     "name": "stdout",
     "output_type": "stream",
     "text": [
      "model1 precision: 0.89\n",
      "model2 precision: 0.89\n",
      "model3 precision: 0.66\n",
      "model4 precision: 0.73\n"
     ]
    }
   ],
   "source": [
    "for col in df_4.columns[1:]:\n",
    "    positive_predictions = df_4[df_4[col] == 'dog']\n",
    "    precision = (positive_predictions.actual == positive_predictions[col]).mean()\n",
    "    print(f'{col} precision: {precision:.2f}')"
   ]
  },
  {
   "cell_type": "markdown",
   "id": "4ca13f9a-6225-421b-be03-30153cb3f4d9",
   "metadata": {},
   "source": [
    "> **Answer:** model1 or model2"
   ]
  },
  {
   "cell_type": "markdown",
   "id": "c0e028af-b1cd-438e-8147-f0858dace2e3",
   "metadata": {},
   "source": [
    "- Suppose you are working on a team that solely deals with cat pictures. Which of these models would you recommend?"
   ]
  },
  {
   "cell_type": "markdown",
   "id": "a2df6c47-9fca-4eb6-b867-d3d85c3c9771",
   "metadata": {},
   "source": [
    "> 'cat' is my **positive**\n",
    "\n",
    "> <ins>recall</ins>: minimize the false negatives\n",
    "\n",
    "> <ins>precision</ins>: minimize the false positives\n",
    "\n",
    "> <ins>false negative</ins>: predicted dog, was cat\n",
    "    \n",
    "> <ins>false positive</ins>: predicted cat, was dog"
   ]
  },
  {
   "cell_type": "code",
   "execution_count": 63,
   "id": "02ac9eca-6015-4f7f-91e5-101ddd169c9b",
   "metadata": {},
   "outputs": [
    {
     "name": "stdout",
     "output_type": "stream",
     "text": [
      "model1 precision: 0.69\n",
      "model2 precision: 0.48\n",
      "model3 precision: 0.36\n",
      "model4 precision: 0.81\n"
     ]
    }
   ],
   "source": [
    "for col in df_4.columns[1:]:\n",
    "    positive_predictions = df_4[df_4[col] == 'cat']\n",
    "    precision = (positive_predictions.actual == positive_predictions[col]).mean()\n",
    "    print(f'{col} precision: {precision:.2f}')"
   ]
  },
  {
   "cell_type": "markdown",
   "id": "5a883eb4-7ba8-4593-944b-3001b2d18f27",
   "metadata": {
    "tags": []
   },
   "source": [
    "> **Answer**: model4"
   ]
  },
  {
   "cell_type": "markdown",
   "id": "77c34712-e131-4ae8-ab9c-96682880cd94",
   "metadata": {
    "tags": []
   },
   "source": [
    "### 5. Follow the links below to read the documentation about each function, then apply those functions to the data from the previous problem."
   ]
  },
  {
   "cell_type": "markdown",
   "id": "d302d825-f7f5-4a1e-b686-b610616d4f12",
   "metadata": {},
   "source": [
    "- [sklearn.metrics.accuracy_score](https://scikit-learn.org/stable/modules/generated/sklearn.metrics.accuracy_score.html)"
   ]
  },
  {
   "cell_type": "code",
   "execution_count": 64,
   "id": "20730340-f31c-476b-b1d4-21169c1d32cf",
   "metadata": {
    "tags": []
   },
   "outputs": [
    {
     "name": "stdout",
     "output_type": "stream",
     "text": [
      "model1 accuracy: 0.81\n",
      "model2 accuracy: 0.63\n",
      "model3 accuracy: 0.51\n",
      "model4 accuracy: 0.74\n"
     ]
    }
   ],
   "source": [
    "for col in df_4.columns[1:]:\n",
    "    accuracy = accuracy_score(df_4.actual,df_4[col])\n",
    "    print(f'{col} accuracy: {accuracy:.2f}')"
   ]
  },
  {
   "cell_type": "markdown",
   "id": "5dca7133-cfd1-4d71-9859-abf81f3d88c6",
   "metadata": {},
   "source": [
    "- [sklearn.metrics.precision_score](https://scikit-learn.org/stable/modules/generated/sklearn.metrics.precision_score.html)"
   ]
  },
  {
   "cell_type": "code",
   "execution_count": 65,
   "id": "6c834d43-77ba-4a9c-930e-371c4eb574c7",
   "metadata": {
    "tags": []
   },
   "outputs": [
    {
     "name": "stdout",
     "output_type": "stream",
     "text": [
      "model1 precision: 0.89\n",
      "model2 precision: 0.89\n",
      "model3 precision: 0.66\n",
      "model4 precision: 0.73\n"
     ]
    }
   ],
   "source": [
    "for col in df_4.columns[1:]:\n",
    "    precision = precision_score(df_4.actual,df_4[col],pos_label='dog')\n",
    "    print(f'{col} precision: {precision:.2f}')"
   ]
  },
  {
   "cell_type": "code",
   "execution_count": 66,
   "id": "43f9f860-d6b8-4ac8-867e-bf0a3dc967a0",
   "metadata": {
    "tags": []
   },
   "outputs": [
    {
     "name": "stdout",
     "output_type": "stream",
     "text": [
      "model1 precision: 0.69\n",
      "model2 precision: 0.48\n",
      "model3 precision: 0.36\n",
      "model4 precision: 0.81\n"
     ]
    }
   ],
   "source": [
    "for col in df_4.columns[1:]:\n",
    "    precision = precision_score(df_4.actual,df_4[col],pos_label='cat')\n",
    "    print(f'{col} precision: {precision:.2f}')"
   ]
  },
  {
   "cell_type": "markdown",
   "id": "b3facab6-3b8e-4414-8ffd-c4b2ffb37f86",
   "metadata": {},
   "source": [
    "- [sklearn.metrics.recall_score](https://scikit-learn.org/stable/modules/generated/sklearn.metrics.recall_score.html)"
   ]
  },
  {
   "cell_type": "code",
   "execution_count": 67,
   "id": "a3b2d1fd-43b3-4545-8188-3a10cc5bd03d",
   "metadata": {
    "tags": []
   },
   "outputs": [
    {
     "name": "stdout",
     "output_type": "stream",
     "text": [
      "model1 recall: 0.80\n",
      "model2 recall: 0.49\n",
      "model3 recall: 0.51\n",
      "model4 recall: 0.96\n"
     ]
    }
   ],
   "source": [
    "for col in df_4.columns[1:]:\n",
    "    recall = recall_score(df_4.actual,df_4[col],pos_label='dog')\n",
    "    print(f'{col} recall: {recall:.2f}')"
   ]
  },
  {
   "cell_type": "code",
   "execution_count": 68,
   "id": "5d5c3d33-ce09-434d-a0db-c44d523a4002",
   "metadata": {
    "tags": []
   },
   "outputs": [
    {
     "name": "stdout",
     "output_type": "stream",
     "text": [
      "model1 recall: 0.82\n",
      "model2 recall: 0.89\n",
      "model3 recall: 0.51\n",
      "model4 recall: 0.35\n"
     ]
    }
   ],
   "source": [
    "for col in df_4.columns[1:]:\n",
    "    recall = recall_score(df_4.actual,df_4[col],pos_label='cat')\n",
    "    print(f'{col} recall: {recall:.2f}')"
   ]
  },
  {
   "cell_type": "markdown",
   "id": "ad5e6582-92bb-4502-9e59-416fe87c22bc",
   "metadata": {},
   "source": [
    "- [sklearn.metrics.classification_report](https://scikit-learn.org/stable/modules/generated/sklearn.metrics.classification_report.html)"
   ]
  },
  {
   "cell_type": "code",
   "execution_count": 69,
   "id": "fe3943fd-aee7-4f0b-bcf5-1567131b0e4d",
   "metadata": {
    "tags": []
   },
   "outputs": [
    {
     "name": "stdout",
     "output_type": "stream",
     "text": [
      "              precision    recall  f1-score   support\n",
      "\n",
      "         cat       0.69      0.82      0.75      1746\n",
      "         dog       0.89      0.80      0.84      3254\n",
      "\n",
      "    accuracy                           0.81      5000\n",
      "   macro avg       0.79      0.81      0.80      5000\n",
      "weighted avg       0.82      0.81      0.81      5000\n",
      "\n",
      "              precision    recall  f1-score   support\n",
      "\n",
      "         cat       0.48      0.89      0.63      1746\n",
      "         dog       0.89      0.49      0.63      3254\n",
      "\n",
      "    accuracy                           0.63      5000\n",
      "   macro avg       0.69      0.69      0.63      5000\n",
      "weighted avg       0.75      0.63      0.63      5000\n",
      "\n",
      "              precision    recall  f1-score   support\n",
      "\n",
      "         cat       0.36      0.51      0.42      1746\n",
      "         dog       0.66      0.51      0.57      3254\n",
      "\n",
      "    accuracy                           0.51      5000\n",
      "   macro avg       0.51      0.51      0.50      5000\n",
      "weighted avg       0.55      0.51      0.52      5000\n",
      "\n",
      "              precision    recall  f1-score   support\n",
      "\n",
      "         cat       0.81      0.35      0.48      1746\n",
      "         dog       0.73      0.96      0.83      3254\n",
      "\n",
      "    accuracy                           0.74      5000\n",
      "   macro avg       0.77      0.65      0.66      5000\n",
      "weighted avg       0.76      0.74      0.71      5000\n",
      "\n"
     ]
    }
   ],
   "source": [
    "for col in df_4.columns[1:]:\n",
    "    print(classification_report(df_4.actual,df_4[col]))"
   ]
  }
 ],
 "metadata": {
  "kernelspec": {
   "display_name": "Python 3 (ipykernel)",
   "language": "python",
   "name": "python3"
  },
  "language_info": {
   "codemirror_mode": {
    "name": "ipython",
    "version": 3
   },
   "file_extension": ".py",
   "mimetype": "text/x-python",
   "name": "python",
   "nbconvert_exporter": "python",
   "pygments_lexer": "ipython3",
   "version": "3.11.5"
  }
 },
 "nbformat": 4,
 "nbformat_minor": 5
}
