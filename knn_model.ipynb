{
 "cells": [
  {
   "cell_type": "markdown",
   "id": "bd114520-c1f9-4d61-8b62-66f9c2f2211f",
   "metadata": {},
   "source": [
    "Create a new notebook, knn_model, and work with the titanic dataset to answer the following:"
   ]
  },
  {
   "cell_type": "code",
   "execution_count": 1,
   "id": "5010c736-4c41-4f94-a8cf-0f7b724f2425",
   "metadata": {
    "tags": []
   },
   "outputs": [],
   "source": [
    "import acquire as a\n",
    "import prepare as p\n",
    "import model as m\n",
    "\n",
    "import numpy as np\n",
    "import pandas as pd\n",
    "\n",
    "from sklearn.model_selection import train_test_split\n",
    "from sklearn.neighbors import KNeighborsClassifier\n",
    "from sklearn.metrics import classification_report\n",
    "from sklearn.metrics import confusion_matrix"
   ]
  },
  {
   "cell_type": "code",
   "execution_count": 2,
   "id": "a2394d82-f422-4065-a3fb-581b39bc8f1e",
   "metadata": {
    "tags": []
   },
   "outputs": [
    {
     "name": "stdout",
     "output_type": "stream",
     "text": [
      "File exists - reading CSV file\n"
     ]
    }
   ],
   "source": [
    "df = a.get_titanic_data()"
   ]
  },
  {
   "cell_type": "code",
   "execution_count": 3,
   "id": "3e54b0e4-b233-455f-ab59-a1f2469bece0",
   "metadata": {
    "tags": []
   },
   "outputs": [],
   "source": [
    "df = p.prep_titanic(df)"
   ]
  },
  {
   "cell_type": "code",
   "execution_count": 4,
   "id": "d34434d5-6b43-4861-b7e5-9f3801b0c766",
   "metadata": {
    "tags": []
   },
   "outputs": [],
   "source": [
    "train, validate, test = p.split_data(df, 'survived')"
   ]
  },
  {
   "cell_type": "code",
   "execution_count": 5,
   "id": "093dd107-58fa-405d-ba14-86646523615d",
   "metadata": {
    "tags": []
   },
   "outputs": [],
   "source": [
    "train, validate, test = m.preprocess_titanic(train, validate, test)"
   ]
  },
  {
   "cell_type": "code",
   "execution_count": 6,
   "id": "619b3c57-8dec-49ff-b6db-9a4e600f016f",
   "metadata": {
    "tags": []
   },
   "outputs": [
    {
     "data": {
      "text/html": [
       "<div>\n",
       "<style scoped>\n",
       "    .dataframe tbody tr th:only-of-type {\n",
       "        vertical-align: middle;\n",
       "    }\n",
       "\n",
       "    .dataframe tbody tr th {\n",
       "        vertical-align: top;\n",
       "    }\n",
       "\n",
       "    .dataframe thead th {\n",
       "        text-align: right;\n",
       "    }\n",
       "</style>\n",
       "<table border=\"1\" class=\"dataframe\">\n",
       "  <thead>\n",
       "    <tr style=\"text-align: right;\">\n",
       "      <th></th>\n",
       "      <th>survived</th>\n",
       "      <th>pclass</th>\n",
       "      <th>sibsp</th>\n",
       "      <th>parch</th>\n",
       "      <th>fare</th>\n",
       "      <th>alone</th>\n",
       "      <th>embark_town_Queenstown</th>\n",
       "      <th>embark_town_Southampton</th>\n",
       "      <th>sex_male</th>\n",
       "    </tr>\n",
       "  </thead>\n",
       "  <tbody>\n",
       "    <tr>\n",
       "      <th>580</th>\n",
       "      <td>1</td>\n",
       "      <td>2</td>\n",
       "      <td>1</td>\n",
       "      <td>1</td>\n",
       "      <td>30.0000</td>\n",
       "      <td>0</td>\n",
       "      <td>0</td>\n",
       "      <td>1</td>\n",
       "      <td>0</td>\n",
       "    </tr>\n",
       "    <tr>\n",
       "      <th>140</th>\n",
       "      <td>0</td>\n",
       "      <td>3</td>\n",
       "      <td>0</td>\n",
       "      <td>2</td>\n",
       "      <td>15.2458</td>\n",
       "      <td>0</td>\n",
       "      <td>0</td>\n",
       "      <td>0</td>\n",
       "      <td>0</td>\n",
       "    </tr>\n",
       "    <tr>\n",
       "      <th>747</th>\n",
       "      <td>1</td>\n",
       "      <td>2</td>\n",
       "      <td>0</td>\n",
       "      <td>0</td>\n",
       "      <td>13.0000</td>\n",
       "      <td>1</td>\n",
       "      <td>0</td>\n",
       "      <td>1</td>\n",
       "      <td>0</td>\n",
       "    </tr>\n",
       "    <tr>\n",
       "      <th>615</th>\n",
       "      <td>1</td>\n",
       "      <td>2</td>\n",
       "      <td>1</td>\n",
       "      <td>2</td>\n",
       "      <td>65.0000</td>\n",
       "      <td>0</td>\n",
       "      <td>0</td>\n",
       "      <td>1</td>\n",
       "      <td>0</td>\n",
       "    </tr>\n",
       "    <tr>\n",
       "      <th>132</th>\n",
       "      <td>0</td>\n",
       "      <td>3</td>\n",
       "      <td>1</td>\n",
       "      <td>0</td>\n",
       "      <td>14.5000</td>\n",
       "      <td>0</td>\n",
       "      <td>0</td>\n",
       "      <td>1</td>\n",
       "      <td>0</td>\n",
       "    </tr>\n",
       "  </tbody>\n",
       "</table>\n",
       "</div>"
      ],
      "text/plain": [
       "     survived  pclass  sibsp  parch     fare  alone  embark_town_Queenstown  \\\n",
       "580         1       2      1      1  30.0000      0                       0   \n",
       "140         0       3      0      2  15.2458      0                       0   \n",
       "747         1       2      0      0  13.0000      1                       0   \n",
       "615         1       2      1      2  65.0000      0                       0   \n",
       "132         0       3      1      0  14.5000      0                       0   \n",
       "\n",
       "     embark_town_Southampton  sex_male  \n",
       "580                        1         0  \n",
       "140                        0         0  \n",
       "747                        1         0  \n",
       "615                        1         0  \n",
       "132                        1         0  "
      ]
     },
     "execution_count": 6,
     "metadata": {},
     "output_type": "execute_result"
    }
   ],
   "source": [
    "train.head()"
   ]
  },
  {
   "cell_type": "code",
   "execution_count": 39,
   "id": "9f4b443d-6774-494e-bbba-1d67e4884b43",
   "metadata": {
    "tags": []
   },
   "outputs": [
    {
     "data": {
      "text/plain": [
       "0.6161048689138577"
      ]
     },
     "execution_count": 39,
     "metadata": {},
     "output_type": "execute_result"
    }
   ],
   "source": [
    "# baseline\n",
    "1-train.survived.mean()"
   ]
  },
  {
   "cell_type": "markdown",
   "id": "8426b9ad-c5f7-4c33-975d-3f050cce7c4d",
   "metadata": {},
   "source": [
    "1. Fit a K-Nearest Neighbors classifier to your training sample and transform (i.e. make predictions on the training sample)"
   ]
  },
  {
   "cell_type": "code",
   "execution_count": 7,
   "id": "34f12aba-eba6-4f69-922d-ef1918c48ff2",
   "metadata": {
    "tags": []
   },
   "outputs": [],
   "source": [
    "X_train = train.drop(columns='survived')\n",
    "y_train = train.survived\n",
    "\n",
    "X_val = validate.drop(columns='survived')\n",
    "y_val = validate.survived\n",
    "\n",
    "X_test = test.drop(columns='survived')\n",
    "y_test = test.survived"
   ]
  },
  {
   "cell_type": "code",
   "execution_count": 8,
   "id": "9878ba2c-5f92-4b8e-a83e-877feca0fabc",
   "metadata": {
    "tags": []
   },
   "outputs": [],
   "source": [
    "knn = KNeighborsClassifier(n_neighbors=5)"
   ]
  },
  {
   "cell_type": "code",
   "execution_count": 9,
   "id": "56448ce1-d343-444a-90e6-651436e5fdfb",
   "metadata": {
    "tags": []
   },
   "outputs": [],
   "source": [
    "knn = knn.fit(X_train,y_train)"
   ]
  },
  {
   "cell_type": "markdown",
   "id": "d40012f1-a35c-4f43-b2c2-53b88cc37cf3",
   "metadata": {},
   "source": [
    "2. Evaluate your results using the model score, confusion matrix, and classification report."
   ]
  },
  {
   "cell_type": "code",
   "execution_count": 10,
   "id": "ae6a73ac-b5b0-4716-b259-bd0fb25c420b",
   "metadata": {
    "tags": []
   },
   "outputs": [
    {
     "data": {
      "text/plain": [
       "0.8426966292134831"
      ]
     },
     "execution_count": 10,
     "metadata": {},
     "output_type": "execute_result"
    }
   ],
   "source": [
    "knn.score(X_train,y_train)"
   ]
  },
  {
   "cell_type": "code",
   "execution_count": 11,
   "id": "9bbea32a-ce54-4ec9-9973-12819a5bec58",
   "metadata": {
    "tags": []
   },
   "outputs": [
    {
     "data": {
      "text/plain": [
       "0.7640449438202247"
      ]
     },
     "execution_count": 11,
     "metadata": {},
     "output_type": "execute_result"
    }
   ],
   "source": [
    "knn.score(X_val,y_val)"
   ]
  },
  {
   "cell_type": "code",
   "execution_count": 12,
   "id": "59393952-cb1f-40bd-b0a8-1b6ba1d27c8a",
   "metadata": {
    "tags": []
   },
   "outputs": [],
   "source": [
    "y_pred = knn.predict(X_train)"
   ]
  },
  {
   "cell_type": "code",
   "execution_count": 13,
   "id": "c79c7749-2be3-4310-9cc5-4fbcf152f0a7",
   "metadata": {
    "tags": []
   },
   "outputs": [
    {
     "data": {
      "text/html": [
       "<div>\n",
       "<style scoped>\n",
       "    .dataframe tbody tr th:only-of-type {\n",
       "        vertical-align: middle;\n",
       "    }\n",
       "\n",
       "    .dataframe tbody tr th {\n",
       "        vertical-align: top;\n",
       "    }\n",
       "\n",
       "    .dataframe thead th {\n",
       "        text-align: right;\n",
       "    }\n",
       "</style>\n",
       "<table border=\"1\" class=\"dataframe\">\n",
       "  <thead>\n",
       "    <tr style=\"text-align: right;\">\n",
       "      <th></th>\n",
       "      <th>1</th>\n",
       "      <th>0</th>\n",
       "    </tr>\n",
       "  </thead>\n",
       "  <tbody>\n",
       "    <tr>\n",
       "      <th>1</th>\n",
       "      <td>294</td>\n",
       "      <td>35</td>\n",
       "    </tr>\n",
       "    <tr>\n",
       "      <th>0</th>\n",
       "      <td>49</td>\n",
       "      <td>156</td>\n",
       "    </tr>\n",
       "  </tbody>\n",
       "</table>\n",
       "</div>"
      ],
      "text/plain": [
       "     1    0\n",
       "1  294   35\n",
       "0   49  156"
      ]
     },
     "execution_count": 13,
     "metadata": {},
     "output_type": "execute_result"
    }
   ],
   "source": [
    "labels = (y_train.unique())\n",
    "pd.DataFrame(confusion_matrix(y_train, y_pred), index=labels, columns=labels)"
   ]
  },
  {
   "cell_type": "code",
   "execution_count": 14,
   "id": "5aeb9bb8-b5b7-4154-b309-b5c873910929",
   "metadata": {
    "tags": []
   },
   "outputs": [
    {
     "name": "stdout",
     "output_type": "stream",
     "text": [
      "              precision    recall  f1-score   support\n",
      "\n",
      "           0       0.86      0.89      0.88       329\n",
      "           1       0.82      0.76      0.79       205\n",
      "\n",
      "    accuracy                           0.84       534\n",
      "   macro avg       0.84      0.83      0.83       534\n",
      "weighted avg       0.84      0.84      0.84       534\n",
      "\n"
     ]
    }
   ],
   "source": [
    "print(classification_report(y_train,y_pred))"
   ]
  },
  {
   "cell_type": "markdown",
   "id": "1722fa25-be45-4e4e-9b63-ee60ccebaa0e",
   "metadata": {},
   "source": [
    "3. Print and clearly label the following: Accuracy, true positive rate, false positive rate, true negative rate, false negative rate, precision, recall, f1-score, and support."
   ]
  },
  {
   "cell_type": "code",
   "execution_count": 15,
   "id": "705e3743-0950-4b76-8f72-7cd0f658119b",
   "metadata": {
    "tags": []
   },
   "outputs": [],
   "source": [
    "def compute(tp,tn,fp,fn):\n",
    "    accuracy = (tp+tn)/(tp+tn+fp+fn)\n",
    "    true_pos_rate = tp/(tp+fn)\n",
    "    false_pos_rate = fp/(fp+tn)\n",
    "    true_neg_rate = tn/(tn+fp)\n",
    "    false_neg_rate = fn/(tp+fn)\n",
    "    precision = tp/(tp+fp)\n",
    "    recall = tp/(tp+fn)\n",
    "    f1_score = (2*(precision * recall))/(precision + recall)\n",
    "    support = tp + fn + fp + tn\n",
    "    \n",
    "    print(f'accuracy: {accuracy:2f}')\n",
    "    print(f'true positive rate: {true_pos_rate:2f}')\n",
    "    print(f'false positive rate: {false_pos_rate:2f}')\n",
    "    print(f'true negative rate: {true_neg_rate:2f}')\n",
    "    print(f'false negative rate: {false_neg_rate:2f}')\n",
    "    print(f'precision: {precision:2f}')\n",
    "    print(f'recall: {recall:2f}')\n",
    "    print(f'f1-score: {f1_score:2f}')\n",
    "    print(f'support: {support:2f}')"
   ]
  },
  {
   "cell_type": "code",
   "execution_count": 16,
   "id": "d9ca64a6-ea1d-416f-be10-14bb39951aa0",
   "metadata": {
    "tags": []
   },
   "outputs": [],
   "source": [
    "tp = 294\n",
    "tn = 156\n",
    "fp = 49\n",
    "fn = 35"
   ]
  },
  {
   "cell_type": "code",
   "execution_count": 17,
   "id": "a36fd1b4-4a12-4aba-883f-f44b4fc4bf21",
   "metadata": {
    "tags": []
   },
   "outputs": [
    {
     "name": "stdout",
     "output_type": "stream",
     "text": [
      "accuracy: 0.842697\n",
      "true positive rate: 0.893617\n",
      "false positive rate: 0.239024\n",
      "true negative rate: 0.760976\n",
      "false negative rate: 0.106383\n",
      "precision: 0.857143\n",
      "recall: 0.893617\n",
      "f1-score: 0.875000\n",
      "support: 534.000000\n"
     ]
    }
   ],
   "source": [
    "compute(tp,tn,fp,fn)"
   ]
  },
  {
   "cell_type": "markdown",
   "id": "88a9da5d-2f7f-450a-a74f-e8b2c82d91e2",
   "metadata": {},
   "source": [
    "4. Run through steps 1-3 setting k to 10"
   ]
  },
  {
   "cell_type": "code",
   "execution_count": 18,
   "id": "eca8e136-901d-4546-a802-eda3fbf78605",
   "metadata": {
    "tags": []
   },
   "outputs": [],
   "source": [
    "knn = KNeighborsClassifier(n_neighbors=10)"
   ]
  },
  {
   "cell_type": "code",
   "execution_count": 19,
   "id": "34789681-dd8e-4032-8ea7-e96fb2fe04b6",
   "metadata": {
    "tags": []
   },
   "outputs": [],
   "source": [
    "knn = knn.fit(X_train,y_train)"
   ]
  },
  {
   "cell_type": "code",
   "execution_count": 20,
   "id": "52563b83-4987-4177-a92c-8ac8cf421b63",
   "metadata": {
    "tags": []
   },
   "outputs": [
    {
     "data": {
      "text/plain": [
       "0.7752808988764045"
      ]
     },
     "execution_count": 20,
     "metadata": {},
     "output_type": "execute_result"
    }
   ],
   "source": [
    "knn.score(X_train,y_train)"
   ]
  },
  {
   "cell_type": "code",
   "execution_count": 21,
   "id": "e963b077-1f1b-4f35-bea7-0a2dd0668fd8",
   "metadata": {
    "tags": []
   },
   "outputs": [
    {
     "data": {
      "text/plain": [
       "0.7303370786516854"
      ]
     },
     "execution_count": 21,
     "metadata": {},
     "output_type": "execute_result"
    }
   ],
   "source": [
    "knn.score(X_val,y_val)"
   ]
  },
  {
   "cell_type": "code",
   "execution_count": 22,
   "id": "0631d511-3566-4052-9aa5-4a56b983a67f",
   "metadata": {
    "tags": []
   },
   "outputs": [],
   "source": [
    "y_pred = knn.predict(X_train)"
   ]
  },
  {
   "cell_type": "code",
   "execution_count": 23,
   "id": "3ea77c5a-a3f6-4792-a66a-ed3073911952",
   "metadata": {
    "tags": []
   },
   "outputs": [
    {
     "data": {
      "text/html": [
       "<div>\n",
       "<style scoped>\n",
       "    .dataframe tbody tr th:only-of-type {\n",
       "        vertical-align: middle;\n",
       "    }\n",
       "\n",
       "    .dataframe tbody tr th {\n",
       "        vertical-align: top;\n",
       "    }\n",
       "\n",
       "    .dataframe thead th {\n",
       "        text-align: right;\n",
       "    }\n",
       "</style>\n",
       "<table border=\"1\" class=\"dataframe\">\n",
       "  <thead>\n",
       "    <tr style=\"text-align: right;\">\n",
       "      <th></th>\n",
       "      <th>1</th>\n",
       "      <th>0</th>\n",
       "    </tr>\n",
       "  </thead>\n",
       "  <tbody>\n",
       "    <tr>\n",
       "      <th>1</th>\n",
       "      <td>291</td>\n",
       "      <td>38</td>\n",
       "    </tr>\n",
       "    <tr>\n",
       "      <th>0</th>\n",
       "      <td>82</td>\n",
       "      <td>123</td>\n",
       "    </tr>\n",
       "  </tbody>\n",
       "</table>\n",
       "</div>"
      ],
      "text/plain": [
       "     1    0\n",
       "1  291   38\n",
       "0   82  123"
      ]
     },
     "execution_count": 23,
     "metadata": {},
     "output_type": "execute_result"
    }
   ],
   "source": [
    "labels = (y_train.unique())\n",
    "pd.DataFrame(confusion_matrix(y_train, y_pred), index=labels, columns=labels)"
   ]
  },
  {
   "cell_type": "code",
   "execution_count": 24,
   "id": "dd914d4d-edcb-4821-bb48-9976a6bceb74",
   "metadata": {
    "tags": []
   },
   "outputs": [
    {
     "name": "stdout",
     "output_type": "stream",
     "text": [
      "              precision    recall  f1-score   support\n",
      "\n",
      "           0       0.78      0.88      0.83       329\n",
      "           1       0.76      0.60      0.67       205\n",
      "\n",
      "    accuracy                           0.78       534\n",
      "   macro avg       0.77      0.74      0.75       534\n",
      "weighted avg       0.77      0.78      0.77       534\n",
      "\n"
     ]
    }
   ],
   "source": [
    "print(classification_report(y_train,y_pred))"
   ]
  },
  {
   "cell_type": "code",
   "execution_count": 25,
   "id": "33b54bed-f282-4964-aa67-3cc8d8976dc5",
   "metadata": {
    "tags": []
   },
   "outputs": [],
   "source": [
    "tp = 291\n",
    "tn = 123\n",
    "fp = 82\n",
    "fn = 38"
   ]
  },
  {
   "cell_type": "code",
   "execution_count": 26,
   "id": "dcb3794b-fbbb-4db9-a629-b9858d81f595",
   "metadata": {
    "tags": []
   },
   "outputs": [
    {
     "name": "stdout",
     "output_type": "stream",
     "text": [
      "accuracy: 0.775281\n",
      "true positive rate: 0.884498\n",
      "false positive rate: 0.400000\n",
      "true negative rate: 0.600000\n",
      "false negative rate: 0.115502\n",
      "precision: 0.780161\n",
      "recall: 0.884498\n",
      "f1-score: 0.829060\n",
      "support: 534.000000\n"
     ]
    }
   ],
   "source": [
    "compute(tp,tn,fp,fn)"
   ]
  },
  {
   "cell_type": "markdown",
   "id": "6c6bad59-a57a-47b9-baba-7063d9cb1c22",
   "metadata": {},
   "source": [
    "5. Run through steps 1-3 setting k to 20"
   ]
  },
  {
   "cell_type": "code",
   "execution_count": 27,
   "id": "2d66acba-972f-4698-9c73-d414bd40ff4e",
   "metadata": {
    "tags": []
   },
   "outputs": [],
   "source": [
    "knn = KNeighborsClassifier(n_neighbors=20)"
   ]
  },
  {
   "cell_type": "code",
   "execution_count": 28,
   "id": "443eb8a2-3918-45b7-8464-b6e141256b88",
   "metadata": {
    "tags": []
   },
   "outputs": [],
   "source": [
    "knn = knn.fit(X_train,y_train)"
   ]
  },
  {
   "cell_type": "code",
   "execution_count": 29,
   "id": "fce0604d-2097-4024-a0a9-eeded053cee9",
   "metadata": {
    "tags": []
   },
   "outputs": [
    {
     "data": {
      "text/plain": [
       "0.7471910112359551"
      ]
     },
     "execution_count": 29,
     "metadata": {},
     "output_type": "execute_result"
    }
   ],
   "source": [
    "knn.score(X_train,y_train)"
   ]
  },
  {
   "cell_type": "code",
   "execution_count": 30,
   "id": "2fd5b3fb-1f45-4410-a1a1-c983df7e8b41",
   "metadata": {
    "tags": []
   },
   "outputs": [
    {
     "data": {
      "text/plain": [
       "0.7528089887640449"
      ]
     },
     "execution_count": 30,
     "metadata": {},
     "output_type": "execute_result"
    }
   ],
   "source": [
    "knn.score(X_val,y_val)"
   ]
  },
  {
   "cell_type": "code",
   "execution_count": 31,
   "id": "534ced46-109e-4892-9d11-58f8ba2af3cd",
   "metadata": {
    "tags": []
   },
   "outputs": [],
   "source": [
    "y_pred = knn.predict(X_train)"
   ]
  },
  {
   "cell_type": "code",
   "execution_count": 32,
   "id": "9cfa5703-0814-4c5f-8ac1-b76ba227c90d",
   "metadata": {
    "tags": []
   },
   "outputs": [
    {
     "data": {
      "text/html": [
       "<div>\n",
       "<style scoped>\n",
       "    .dataframe tbody tr th:only-of-type {\n",
       "        vertical-align: middle;\n",
       "    }\n",
       "\n",
       "    .dataframe tbody tr th {\n",
       "        vertical-align: top;\n",
       "    }\n",
       "\n",
       "    .dataframe thead th {\n",
       "        text-align: right;\n",
       "    }\n",
       "</style>\n",
       "<table border=\"1\" class=\"dataframe\">\n",
       "  <thead>\n",
       "    <tr style=\"text-align: right;\">\n",
       "      <th></th>\n",
       "      <th>1</th>\n",
       "      <th>0</th>\n",
       "    </tr>\n",
       "  </thead>\n",
       "  <tbody>\n",
       "    <tr>\n",
       "      <th>1</th>\n",
       "      <td>271</td>\n",
       "      <td>58</td>\n",
       "    </tr>\n",
       "    <tr>\n",
       "      <th>0</th>\n",
       "      <td>77</td>\n",
       "      <td>128</td>\n",
       "    </tr>\n",
       "  </tbody>\n",
       "</table>\n",
       "</div>"
      ],
      "text/plain": [
       "     1    0\n",
       "1  271   58\n",
       "0   77  128"
      ]
     },
     "execution_count": 32,
     "metadata": {},
     "output_type": "execute_result"
    }
   ],
   "source": [
    "labels = (y_train.unique())\n",
    "pd.DataFrame(confusion_matrix(y_train, y_pred), index=labels, columns=labels)"
   ]
  },
  {
   "cell_type": "code",
   "execution_count": 33,
   "id": "ed5550d3-425a-40d4-95d3-8af7af4dc74f",
   "metadata": {
    "tags": []
   },
   "outputs": [
    {
     "name": "stdout",
     "output_type": "stream",
     "text": [
      "              precision    recall  f1-score   support\n",
      "\n",
      "           0       0.78      0.82      0.80       329\n",
      "           1       0.69      0.62      0.65       205\n",
      "\n",
      "    accuracy                           0.75       534\n",
      "   macro avg       0.73      0.72      0.73       534\n",
      "weighted avg       0.74      0.75      0.74       534\n",
      "\n"
     ]
    }
   ],
   "source": [
    "print(classification_report(y_train,y_pred))"
   ]
  },
  {
   "cell_type": "code",
   "execution_count": 34,
   "id": "9c8ac246-540b-47c8-8acf-4afeca110d83",
   "metadata": {
    "tags": []
   },
   "outputs": [],
   "source": [
    "tp = 271\n",
    "tn = 128\n",
    "fp = 77\n",
    "fn = 58"
   ]
  },
  {
   "cell_type": "code",
   "execution_count": 35,
   "id": "bdfcfb40-45fd-49b4-b278-ed6248b1da38",
   "metadata": {
    "tags": []
   },
   "outputs": [
    {
     "name": "stdout",
     "output_type": "stream",
     "text": [
      "accuracy: 0.747191\n",
      "true positive rate: 0.823708\n",
      "false positive rate: 0.375610\n",
      "true negative rate: 0.624390\n",
      "false negative rate: 0.176292\n",
      "precision: 0.778736\n",
      "recall: 0.823708\n",
      "f1-score: 0.800591\n",
      "support: 534.000000\n"
     ]
    }
   ],
   "source": [
    "compute(tp,tn,fp,fn)"
   ]
  },
  {
   "cell_type": "markdown",
   "id": "80c9d6b0-2344-4ec1-a6d1-2fd6b4cc8328",
   "metadata": {},
   "source": [
    "6. What are the differences in the evaluation metrics? Which performs better on your in-sample data? Why?"
   ]
  },
  {
   "cell_type": "markdown",
   "id": "e6324b14-eeb3-48e3-a1e6-e8f020a7392a",
   "metadata": {},
   "source": [
    "> KNeighborsClassifier(n_neighbors=5) had a precision, recall, & accuracy that were quite a bit higher than the others.\n",
    "\n",
    "> KNeighborsClassifier(n_neighbors=5) because the high precision, recall, & accuracy scores."
   ]
  },
  {
   "cell_type": "markdown",
   "id": "479acec5-48bd-4568-bd99-fe773215958d",
   "metadata": {},
   "source": [
    "7. Which model performs best on our out-of-sample data from validate?"
   ]
  },
  {
   "cell_type": "markdown",
   "id": "9db54d90-e5a6-464c-912c-fe7968043432",
   "metadata": {},
   "source": [
    "> KNeighborsClassifier(n_neighbors=20)"
   ]
  },
  {
   "cell_type": "code",
   "execution_count": null,
   "id": "438e7af5-06a9-46b0-839c-ee4e080e1299",
   "metadata": {},
   "outputs": [],
   "source": []
  }
 ],
 "metadata": {
  "kernelspec": {
   "display_name": "Python 3 (ipykernel)",
   "language": "python",
   "name": "python3"
  },
  "language_info": {
   "codemirror_mode": {
    "name": "ipython",
    "version": 3
   },
   "file_extension": ".py",
   "mimetype": "text/x-python",
   "name": "python",
   "nbconvert_exporter": "python",
   "pygments_lexer": "ipython3",
   "version": "3.11.5"
  }
 },
 "nbformat": 4,
 "nbformat_minor": 5
}
