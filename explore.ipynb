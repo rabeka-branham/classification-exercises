{
 "cells": [
  {
   "cell_type": "code",
   "execution_count": 1,
   "id": "a57446ea-0677-4d2e-8e38-f1c4fce3a002",
   "metadata": {
    "tags": []
   },
   "outputs": [],
   "source": [
    "import pandas as pd\n",
    "import numpy as np\n",
    "\n",
    "import matplotlib.pyplot as plt\n",
    "import seaborn as sns\n",
    "\n",
    "from scipy import stats\n",
    "\n",
    "import acquire\n",
    "import prepare"
   ]
  },
  {
   "cell_type": "markdown",
   "id": "c180fb91-beb6-44ff-8e0d-33c9ff9a9e47",
   "metadata": {
    "tags": []
   },
   "source": [
    "# Part I"
   ]
  },
  {
   "cell_type": "markdown",
   "id": "93626e33-b9c8-44a6-8161-b4c63415c947",
   "metadata": {},
   "source": [
    "Do these exercises in `explore.ipynb` notebook. As always, add, commit, and push your changes.\n",
    "\n",
    "**Section 1 - iris_db**: Using iris data from our MySQL server and the methods used in the lesson above:"
   ]
  },
  {
   "cell_type": "markdown",
   "id": "79892609-a125-47f0-8246-06e0adb12cd0",
   "metadata": {
    "tags": []
   },
   "source": [
    "### 1. Acquire, prepare & split your data."
   ]
  },
  {
   "cell_type": "code",
   "execution_count": 20,
   "id": "04a441b0-8e6b-46cd-ab4f-02edf5a23e89",
   "metadata": {
    "tags": []
   },
   "outputs": [
    {
     "name": "stdout",
     "output_type": "stream",
     "text": [
      "File does not exist - creating CSV file\n"
     ]
    }
   ],
   "source": [
    "df_iris = acquire.get_iris_data()"
   ]
  },
  {
   "cell_type": "code",
   "execution_count": 21,
   "id": "cff19a22-3a57-4ea5-8c75-a64866f558bb",
   "metadata": {
    "tags": []
   },
   "outputs": [],
   "source": [
    "df_iris = prepare.prep_iris(df_iris)"
   ]
  },
  {
   "cell_type": "code",
   "execution_count": 22,
   "id": "f0104488-43b2-4e43-9278-14a88895617c",
   "metadata": {
    "tags": []
   },
   "outputs": [],
   "source": [
    "train, validate, test = prepare.split_data(df_iris, 'species')"
   ]
  },
  {
   "cell_type": "code",
   "execution_count": 23,
   "id": "ffec03fc-d932-46eb-9724-61d1f325177f",
   "metadata": {
    "tags": []
   },
   "outputs": [
    {
     "data": {
      "text/plain": [
       "((90, 5), (30, 5), (30, 5))"
      ]
     },
     "execution_count": 23,
     "metadata": {},
     "output_type": "execute_result"
    }
   ],
   "source": [
    "train.shape, validate.shape, test.shape"
   ]
  },
  {
   "cell_type": "code",
   "execution_count": 24,
   "id": "80980b83-20cf-4e76-a9bd-6612e48cacbb",
   "metadata": {
    "tags": []
   },
   "outputs": [
    {
     "data": {
      "text/html": [
       "<div>\n",
       "<style scoped>\n",
       "    .dataframe tbody tr th:only-of-type {\n",
       "        vertical-align: middle;\n",
       "    }\n",
       "\n",
       "    .dataframe tbody tr th {\n",
       "        vertical-align: top;\n",
       "    }\n",
       "\n",
       "    .dataframe thead th {\n",
       "        text-align: right;\n",
       "    }\n",
       "</style>\n",
       "<table border=\"1\" class=\"dataframe\">\n",
       "  <thead>\n",
       "    <tr style=\"text-align: right;\">\n",
       "      <th></th>\n",
       "      <th>sepal_length</th>\n",
       "      <th>sepal_width</th>\n",
       "      <th>petal_length</th>\n",
       "      <th>petal_width</th>\n",
       "      <th>species</th>\n",
       "    </tr>\n",
       "  </thead>\n",
       "  <tbody>\n",
       "    <tr>\n",
       "      <th>108</th>\n",
       "      <td>6.7</td>\n",
       "      <td>2.5</td>\n",
       "      <td>5.8</td>\n",
       "      <td>1.8</td>\n",
       "      <td>virginica</td>\n",
       "    </tr>\n",
       "    <tr>\n",
       "      <th>69</th>\n",
       "      <td>5.6</td>\n",
       "      <td>2.5</td>\n",
       "      <td>3.9</td>\n",
       "      <td>1.1</td>\n",
       "      <td>versicolor</td>\n",
       "    </tr>\n",
       "    <tr>\n",
       "      <th>101</th>\n",
       "      <td>5.8</td>\n",
       "      <td>2.7</td>\n",
       "      <td>5.1</td>\n",
       "      <td>1.9</td>\n",
       "      <td>virginica</td>\n",
       "    </tr>\n",
       "    <tr>\n",
       "      <th>15</th>\n",
       "      <td>5.7</td>\n",
       "      <td>4.4</td>\n",
       "      <td>1.5</td>\n",
       "      <td>0.4</td>\n",
       "      <td>setosa</td>\n",
       "    </tr>\n",
       "    <tr>\n",
       "      <th>50</th>\n",
       "      <td>7.0</td>\n",
       "      <td>3.2</td>\n",
       "      <td>4.7</td>\n",
       "      <td>1.4</td>\n",
       "      <td>versicolor</td>\n",
       "    </tr>\n",
       "    <tr>\n",
       "      <th>...</th>\n",
       "      <td>...</td>\n",
       "      <td>...</td>\n",
       "      <td>...</td>\n",
       "      <td>...</td>\n",
       "      <td>...</td>\n",
       "    </tr>\n",
       "    <tr>\n",
       "      <th>70</th>\n",
       "      <td>5.9</td>\n",
       "      <td>3.2</td>\n",
       "      <td>4.8</td>\n",
       "      <td>1.8</td>\n",
       "      <td>versicolor</td>\n",
       "    </tr>\n",
       "    <tr>\n",
       "      <th>33</th>\n",
       "      <td>5.5</td>\n",
       "      <td>4.2</td>\n",
       "      <td>1.4</td>\n",
       "      <td>0.2</td>\n",
       "      <td>setosa</td>\n",
       "    </tr>\n",
       "    <tr>\n",
       "      <th>95</th>\n",
       "      <td>5.7</td>\n",
       "      <td>3.0</td>\n",
       "      <td>4.2</td>\n",
       "      <td>1.2</td>\n",
       "      <td>versicolor</td>\n",
       "    </tr>\n",
       "    <tr>\n",
       "      <th>139</th>\n",
       "      <td>6.9</td>\n",
       "      <td>3.1</td>\n",
       "      <td>5.4</td>\n",
       "      <td>2.1</td>\n",
       "      <td>virginica</td>\n",
       "    </tr>\n",
       "    <tr>\n",
       "      <th>39</th>\n",
       "      <td>5.1</td>\n",
       "      <td>3.4</td>\n",
       "      <td>1.5</td>\n",
       "      <td>0.2</td>\n",
       "      <td>setosa</td>\n",
       "    </tr>\n",
       "  </tbody>\n",
       "</table>\n",
       "<p>90 rows × 5 columns</p>\n",
       "</div>"
      ],
      "text/plain": [
       "     sepal_length  sepal_width  petal_length  petal_width     species\n",
       "108           6.7          2.5           5.8          1.8   virginica\n",
       "69            5.6          2.5           3.9          1.1  versicolor\n",
       "101           5.8          2.7           5.1          1.9   virginica\n",
       "15            5.7          4.4           1.5          0.4      setosa\n",
       "50            7.0          3.2           4.7          1.4  versicolor\n",
       "..            ...          ...           ...          ...         ...\n",
       "70            5.9          3.2           4.8          1.8  versicolor\n",
       "33            5.5          4.2           1.4          0.2      setosa\n",
       "95            5.7          3.0           4.2          1.2  versicolor\n",
       "139           6.9          3.1           5.4          2.1   virginica\n",
       "39            5.1          3.4           1.5          0.2      setosa\n",
       "\n",
       "[90 rows x 5 columns]"
      ]
     },
     "execution_count": 24,
     "metadata": {},
     "output_type": "execute_result"
    }
   ],
   "source": [
    "train"
   ]
  },
  {
   "cell_type": "markdown",
   "id": "bf401225-70ba-44a3-887e-de350bffc1a5",
   "metadata": {},
   "source": [
    "### 2. Univariate Stats"
   ]
  },
  {
   "cell_type": "markdown",
   "id": "8c2f6840-c889-4248-bf1c-e23cd60589d4",
   "metadata": {},
   "source": [
    "- For each measurement type (quantitative variable): create a histogram, boxplot, & compute descriptive statistics (using .describe())."
   ]
  },
  {
   "cell_type": "code",
   "execution_count": 25,
   "id": "ea49396a-d8e4-4963-8da0-32a42fdc68c1",
   "metadata": {
    "tags": []
   },
   "outputs": [
    {
     "data": {
      "text/plain": [
       "Index(['sepal_length', 'sepal_width', 'petal_length', 'petal_width'], dtype='object')"
      ]
     },
     "execution_count": 25,
     "metadata": {},
     "output_type": "execute_result"
    }
   ],
   "source": [
    "quantitative_columns = train.columns[train.nunique() > 10]\n",
    "quantitative_columns"
   ]
  },
  {
   "cell_type": "code",
   "execution_count": 26,
   "id": "b666e115-11ab-4955-81ff-9b23803f14e1",
   "metadata": {
    "tags": []
   },
   "outputs": [
    {
     "name": "stdout",
     "output_type": "stream",
     "text": [
      "sepal_length\n"
     ]
    },
    {
     "data": {
      "image/png": "[encoded data removed]",
      "text/plain": [
       "<Figure size 640x480 with 1 Axes>"
      ]
     },
     "metadata": {},
     "output_type": "display_data"
    },
    {
     "data": {
      "image/png": "[encoded data removed]",
      "text/plain": [
       "<Figure size 640x480 with 1 Axes>"
      ]
     },
     "metadata": {},
     "output_type": "display_data"
    },
    {
     "name": "stdout",
     "output_type": "stream",
     "text": [
      "count    90.000000\n",
      "mean      5.918889\n",
      "std       0.810589\n",
      "min       4.300000\n",
      "25%       5.400000\n",
      "50%       5.800000\n",
      "75%       6.500000\n",
      "max       7.900000\n",
      "Name: sepal_length, dtype: float64\n",
      "\n",
      "sepal_width\n"
     ]
    },
    {
     "data": {
      "image/png": "[encoded data removed]",
      "text/plain": [
       "<Figure size 640x480 with 1 Axes>"
      ]
     },
     "metadata": {},
     "output_type": "display_data"
    },
    {
     "data": {
      "image/png": "[encoded data removed]",
      "text/plain": [
       "<Figure size 640x480 with 1 Axes>"
      ]
     },
     "metadata": {},
     "output_type": "display_data"
    },
    {
     "name": "stdout",
     "output_type": "stream",
     "text": [
      "count    90.000000\n",
      "mean      3.122222\n",
      "std       0.433895\n",
      "min       2.200000\n",
      "25%       2.800000\n",
      "50%       3.050000\n",
      "75%       3.400000\n",
      "max       4.400000\n",
      "Name: sepal_width, dtype: float64\n",
      "\n",
      "petal_length\n"
     ]
    },
    {
     "data": {
      "image/png": "[encoded data removed]",
      "text/plain": [
       "<Figure size 640x480 with 1 Axes>"
      ]
     },
     "metadata": {},
     "output_type": "display_data"
    },
    {
     "data": {
      "image/png": "[encoded data removed]",
      "text/plain": [
       "<Figure size 640x480 with 1 Axes>"
      ]
     },
     "metadata": {},
     "output_type": "display_data"
    },
    {
     "name": "stdout",
     "output_type": "stream",
     "text": [
      "count    90.000000\n",
      "mean      3.782222\n",
      "std       1.760910\n",
      "min       1.000000\n",
      "25%       1.600000\n",
      "50%       4.400000\n",
      "75%       5.100000\n",
      "max       6.900000\n",
      "Name: petal_length, dtype: float64\n",
      "\n",
      "petal_width\n"
     ]
    },
    {
     "data": {
      "image/png": "[encoded data removed]",
      "text/plain": [
       "<Figure size 640x480 with 1 Axes>"
      ]
     },
     "metadata": {},
     "output_type": "display_data"
    },
    {
     "data": {
      "image/png": "[encoded data removed]",
      "text/plain": [
       "<Figure size 640x480 with 1 Axes>"
      ]
     },
     "metadata": {},
     "output_type": "display_data"
    },
    {
     "name": "stdout",
     "output_type": "stream",
     "text": [
      "count    90.000000\n",
      "mean      1.241111\n",
      "std       0.783667\n",
      "min       0.100000\n",
      "25%       0.400000\n",
      "50%       1.300000\n",
      "75%       1.900000\n",
      "max       2.500000\n",
      "Name: petal_width, dtype: float64\n",
      "\n"
     ]
    }
   ],
   "source": [
    "for quant_column in quantitative_columns:\n",
    "    print(quant_column)\n",
    "    sns.histplot(data=train[quant_column])\n",
    "    plt.show()\n",
    "    sns.boxplot(data=train[quant_column])\n",
    "    \n",
    "    plt.show()\n",
    "    print(f'{train[quant_column].describe()}\\n')"
   ]
  },
  {
   "cell_type": "markdown",
   "id": "a8d22ef9-a8fd-4b9b-b337-dd99b66fbf20",
   "metadata": {},
   "source": [
    "- For each species (categorical variable): create a frequency table and a bar plot of those frequencies."
   ]
  },
  {
   "cell_type": "code",
   "execution_count": 27,
   "id": "ea27de0c-ce3a-4d90-9ea9-14b43ca7a5af",
   "metadata": {
    "tags": []
   },
   "outputs": [
    {
     "data": {
      "text/plain": [
       "Index(['species'], dtype='object')"
      ]
     },
     "execution_count": 27,
     "metadata": {},
     "output_type": "execute_result"
    }
   ],
   "source": [
    "categorical_columns = train.columns[train.nunique() < 10]\n",
    "categorical_columns"
   ]
  },
  {
   "cell_type": "code",
   "execution_count": 28,
   "id": "daf2b6e8-6b5d-489e-8a95-1bf882160fd9",
   "metadata": {
    "tags": []
   },
   "outputs": [
    {
     "name": "stdout",
     "output_type": "stream",
     "text": [
      "species\n",
      "\n",
      "species\n",
      "virginica     30\n",
      "versicolor    30\n",
      "setosa        30\n",
      "Name: count, dtype: int64\n",
      "\n",
      "species\n",
      "virginica     0.333333\n",
      "versicolor    0.333333\n",
      "setosa        0.333333\n",
      "Name: proportion, dtype: float64\n",
      "\n"
     ]
    },
    {
     "data": {
      "image/png": "[encoded data removed]",
      "text/plain": [
       "<Figure size 640x480 with 1 Axes>"
      ]
     },
     "metadata": {},
     "output_type": "display_data"
    }
   ],
   "source": [
    "for cat_column in categorical_columns:\n",
    "    print(f'{cat_column}\\n')\n",
    "    print(f'{train[cat_column].value_counts()}\\n')\n",
    "    print(f'{train[cat_column].value_counts(normalize=True)}\\n')\n",
    "    sns.barplot(x=train[cat_column].value_counts().index, y=train[cat_column].value_counts().values)\n",
    "    plt.show()\n",
    "#    sns.countplot(x=train[cat_column])"
   ]
  },
  {
   "cell_type": "markdown",
   "id": "93e966bf-2375-4e1c-be7f-add41c5fde3c",
   "metadata": {},
   "source": [
    "- Document takeaways & any actions."
   ]
  },
  {
   "cell_type": "code",
   "execution_count": null,
   "id": "3c60e05e-6bf0-4a78-861b-4259e86507f5",
   "metadata": {},
   "outputs": [],
   "source": []
  },
  {
   "cell_type": "markdown",
   "id": "d22ac722-4f9c-406f-bbef-c2e8402d6e23",
   "metadata": {},
   "source": [
    "### 3. Bivariate Stats"
   ]
  },
  {
   "cell_type": "markdown",
   "id": "fb4020d8-dbfa-400b-95da-f8aceffe5f45",
   "metadata": {},
   "source": [
    "- Visualize each measurement type (y-axis) with the species variable (x-axis) using barplots, adding a horizontal line showing the overall mean of the metric (y-axis)."
   ]
  },
  {
   "cell_type": "code",
   "execution_count": 29,
   "id": "3d3cd68a-b496-4db2-a69b-6ac4ca8f7e1d",
   "metadata": {
    "tags": []
   },
   "outputs": [
    {
     "data": {
      "text/plain": [
       "Index(['sepal_length', 'sepal_width', 'petal_length', 'petal_width'], dtype='object')"
      ]
     },
     "execution_count": 29,
     "metadata": {},
     "output_type": "execute_result"
    }
   ],
   "source": [
    "quantitative_columns"
   ]
  },
  {
   "cell_type": "code",
   "execution_count": 30,
   "id": "6b03cfd4-d0fc-497e-a754-f2c3a0592e90",
   "metadata": {
    "tags": []
   },
   "outputs": [
    {
     "data": {
      "text/plain": [
       "Index(['species'], dtype='object')"
      ]
     },
     "execution_count": 30,
     "metadata": {},
     "output_type": "execute_result"
    }
   ],
   "source": [
    "categorical_columns"
   ]
  },
  {
   "cell_type": "code",
   "execution_count": 31,
   "id": "94293933-57e5-4fe5-bf77-5762b953ccd6",
   "metadata": {
    "tags": []
   },
   "outputs": [
    {
     "name": "stdout",
     "output_type": "stream",
     "text": [
      "sepal_length\n"
     ]
    },
    {
     "data": {
      "image/png": "[encoded data removed]",
      "text/plain": [
       "<Figure size 640x480 with 1 Axes>"
      ]
     },
     "metadata": {},
     "output_type": "display_data"
    },
    {
     "name": "stdout",
     "output_type": "stream",
     "text": [
      "sepal_width\n"
     ]
    },
    {
     "data": {
      "image/png": "[encoded data removed]",
      "text/plain": [
       "<Figure size 640x480 with 1 Axes>"
      ]
     },
     "metadata": {},
     "output_type": "display_data"
    },
    {
     "name": "stdout",
     "output_type": "stream",
     "text": [
      "petal_length\n"
     ]
    },
    {
     "data": {
      "image/png": "[encoded data removed]",
      "text/plain": [
       "<Figure size 640x480 with 1 Axes>"
      ]
     },
     "metadata": {},
     "output_type": "display_data"
    },
    {
     "name": "stdout",
     "output_type": "stream",
     "text": [
      "petal_width\n"
     ]
    },
    {
     "data": {
      "image/png": "[encoded data removed]",
      "text/plain": [
       "<Figure size 640x480 with 1 Axes>"
      ]
     },
     "metadata": {},
     "output_type": "display_data"
    }
   ],
   "source": [
    "for quant_column in quantitative_columns:\n",
    "    print(quant_column)\n",
    "    for cat_column in categorical_columns:\n",
    "        sns.barplot(data=train,x=train[cat_column].sort_index(),y=train[quant_column])\n",
    "        plt.axhline(y=train[quant_column].mean())\n",
    "        plt.show()"
   ]
  },
  {
   "cell_type": "markdown",
   "id": "3e321b72-9576-4878-8c9f-d0f9213c07bc",
   "metadata": {
    "tags": []
   },
   "source": [
    "- For each measurement type, compute the descriptive statistics for each species."
   ]
  },
  {
   "cell_type": "code",
   "execution_count": 32,
   "id": "b559ec53-b46d-4a9f-8ed4-709db5f6df60",
   "metadata": {
    "tags": []
   },
   "outputs": [
    {
     "name": "stdout",
     "output_type": "stream",
     "text": [
      "virginica\n",
      "       sepal_length  sepal_width  petal_length  petal_width\n",
      "count     30.000000    30.000000     30.000000    30.000000\n",
      "mean       6.650000     3.006667      5.526667     2.100000\n",
      "std        0.588247     0.298194      0.523208     0.267814\n",
      "min        5.600000     2.500000      4.900000     1.500000\n",
      "25%        6.300000     2.800000      5.100000     1.900000\n",
      "50%        6.600000     3.000000      5.400000     2.100000\n",
      "75%        6.900000     3.175000      5.800000     2.300000\n",
      "max        7.900000     3.800000      6.900000     2.500000\n",
      "\n",
      "versicolor\n",
      "       sepal_length  sepal_width  petal_length  petal_width\n",
      "count     30.000000    30.000000     30.000000    30.000000\n",
      "mean       6.036667     2.830000      4.360000     1.360000\n",
      "std        0.467925     0.309783      0.370089     0.188643\n",
      "min        5.500000     2.200000      3.600000     1.000000\n",
      "25%        5.600000     2.625000      4.100000     1.300000\n",
      "50%        5.950000     2.850000      4.400000     1.300000\n",
      "75%        6.375000     3.000000      4.675000     1.500000\n",
      "max        7.000000     3.400000      5.100000     1.800000\n",
      "\n",
      "setosa\n",
      "       sepal_length  sepal_width  petal_length  petal_width\n",
      "count     30.000000    30.000000     30.000000    30.000000\n",
      "mean       5.070000     3.530000      1.460000     0.263333\n",
      "std        0.372457     0.344564      0.183077     0.103335\n",
      "min        4.300000     3.000000      1.000000     0.100000\n",
      "25%        4.825000     3.325000      1.400000     0.200000\n",
      "50%        5.100000     3.500000      1.500000     0.200000\n",
      "75%        5.350000     3.775000      1.575000     0.375000\n",
      "max        5.800000     4.400000      1.900000     0.500000\n",
      "\n"
     ]
    }
   ],
   "source": [
    "for cat_column in categorical_columns:\n",
    "    for each_species in train[cat_column].unique():\n",
    "        print(each_species)\n",
    "        print(f'{train[train.species == each_species].describe()}\\n')"
   ]
  },
  {
   "cell_type": "markdown",
   "id": "198c46d5-7810-41fb-a5c5-21fcdf329da8",
   "metadata": {},
   "source": [
    "- For virginica & versicolor: Compare the mean petal_width using the Mann-Whitney test (scipy.stats.mannwhitneyu) to see if there is a significant difference between the two groups. Do the same for the other measurement types."
   ]
  },
  {
   "cell_type": "code",
   "execution_count": null,
   "id": "90aa6466-ee2f-4439-a648-4120d9f9c2c5",
   "metadata": {
    "tags": []
   },
   "outputs": [],
   "source": [
    "virginica = train[train.species == 'virginica']\n",
    "versicolor = train[train.species == 'versicolor']\n",
    "setosa = train[train.species == 'setosa']\n",
    "\n",
    "α = .05"
   ]
  },
  {
   "cell_type": "code",
   "execution_count": null,
   "id": "53611c9c-a907-4f8d-b6cd-c8766f63ebb5",
   "metadata": {
    "tags": []
   },
   "outputs": [],
   "source": [
    "t,p = stats.mannwhitneyu(virginica.petal_width,versicolor.petal_width)"
   ]
  },
  {
   "cell_type": "code",
   "execution_count": null,
   "id": "61a16353-5a86-4a35-9880-9b106abcfb59",
   "metadata": {
    "tags": []
   },
   "outputs": [],
   "source": [
    "if p < α:\n",
    "    print('Reject the null hypothesis! There IS a relationship!')\n",
    "else:\n",
    "    print('Failed to reject the null hypothesis! There is NO relationship!')"
   ]
  },
  {
   "cell_type": "code",
   "execution_count": null,
   "id": "7fc84a65-b367-4e57-83a6-115934b67c49",
   "metadata": {
    "tags": []
   },
   "outputs": [],
   "source": [
    "t,p = stats.mannwhitneyu(virginica.sepal_length,versicolor.sepal_length)"
   ]
  },
  {
   "cell_type": "code",
   "execution_count": null,
   "id": "89171308-99a2-4c58-9e10-22008c2a08fb",
   "metadata": {
    "tags": []
   },
   "outputs": [],
   "source": [
    "if p < α:\n",
    "    print('Reject the null hypothesis! There IS a relationship!')\n",
    "else:\n",
    "    print('Failed to reject the null hypothesis! There is NO relationship!')"
   ]
  },
  {
   "cell_type": "code",
   "execution_count": null,
   "id": "a0ef3e11-fbd5-4cda-88b7-ac53669d3d2d",
   "metadata": {
    "tags": []
   },
   "outputs": [],
   "source": [
    "t,p = stats.mannwhitneyu(virginica.sepal_width,versicolor.sepal_width)"
   ]
  },
  {
   "cell_type": "code",
   "execution_count": null,
   "id": "c83f8e7c-69dc-4bb2-8e2a-29fe8e5d25e8",
   "metadata": {
    "tags": []
   },
   "outputs": [],
   "source": [
    "if p < α:\n",
    "    print('Reject the null hypothesis! There IS a relationship!')\n",
    "else:\n",
    "    print('Failed to reject the null hypothesis! There is NO relationship!')"
   ]
  },
  {
   "cell_type": "code",
   "execution_count": null,
   "id": "2cb9b243-ed57-4f61-a82b-c839617e18d0",
   "metadata": {
    "tags": []
   },
   "outputs": [],
   "source": [
    "t,p = stats.mannwhitneyu(virginica.petal_length,versicolor.petal_length)"
   ]
  },
  {
   "cell_type": "code",
   "execution_count": null,
   "id": "c535dfa4-5e5d-498a-8f7e-96ba95bd52d2",
   "metadata": {
    "tags": []
   },
   "outputs": [],
   "source": [
    "if p < α:\n",
    "    print('Reject the null hypothesis! There IS a relationship!')\n",
    "else:\n",
    "    print('Failed to reject the null hypothesis! There is NO relationship!')"
   ]
  },
  {
   "cell_type": "markdown",
   "id": "2125a545-70fc-4de3-83d5-737f04b92a43",
   "metadata": {},
   "source": [
    "- Document takeaways & any actions."
   ]
  },
  {
   "cell_type": "code",
   "execution_count": null,
   "id": "738bb556-d724-4c31-a7b2-2da039945a57",
   "metadata": {},
   "outputs": [],
   "source": []
  },
  {
   "cell_type": "markdown",
   "id": "bc23bb82-ceae-44ad-a32b-06aa4739fea5",
   "metadata": {},
   "source": [
    "### 4. Multivariate Stats"
   ]
  },
  {
   "cell_type": "markdown",
   "id": "0932b5dc-7fb7-400d-8d79-fbcc67c1f162",
   "metadata": {},
   "source": [
    "- Visualize the interaction of each measurement type with the others using a pairplot (or scatter matrix or something similar) and add color to represent species."
   ]
  },
  {
   "cell_type": "code",
   "execution_count": null,
   "id": "7ca7592a-47cf-436d-b506-cdc2df2a08e7",
   "metadata": {
    "tags": []
   },
   "outputs": [],
   "source": [
    "sns.pairplot(data=train,hue='species')"
   ]
  },
  {
   "cell_type": "markdown",
   "id": "1163c313-4b30-4ce2-950f-ce64aa3c3a93",
   "metadata": {},
   "source": [
    "- Visualize two numeric variables of the species. Hint: `sns.relplot` with `hue` or `col`"
   ]
  },
  {
   "cell_type": "code",
   "execution_count": null,
   "id": "dab795e8-bd3e-4b2b-b869-1e051ac98c32",
   "metadata": {
    "tags": []
   },
   "outputs": [],
   "source": [
    "sns.relplot(data=train,x='petal_length',y='petal_width',col='species')\n",
    "sns.relplot(data=train,x='petal_length',y='petal_width',hue='species')\n",
    "plt.show()"
   ]
  },
  {
   "cell_type": "markdown",
   "id": "8ee64ee1-5b40-4bf2-85c0-c53a1ab3f4c9",
   "metadata": {},
   "source": [
    "- Create a swarmplot using a melted dataframe of all your numeric variables. The x-axis should be the variable name, the y-axis the measure. Add another dimension using color to represent species. Document takeaways from this visualization."
   ]
  },
  {
   "cell_type": "code",
   "execution_count": null,
   "id": "380a70b2-e232-4189-a6d1-bb1d2244e74c",
   "metadata": {
    "tags": []
   },
   "outputs": [],
   "source": []
  },
  {
   "cell_type": "markdown",
   "id": "a1dee465-4632-42e5-8ed5-a0e1c27f9668",
   "metadata": {},
   "source": [
    "- Ask a specific question of the data, such as: is the sepal area signficantly different in virginica compared to setosa? Answer the question through both a plot and using a mann-whitney or t-test. If you use a t-test, be sure assumptions are met (independence, normality, equal variance)."
   ]
  },
  {
   "cell_type": "markdown",
   "id": "9ca9068a-13df-44ea-b63c-117a62185952",
   "metadata": {},
   "source": [
    "> **Question**: Is the petal area significantly different in versicolor compared to virginica?\n",
    "\n",
    "> $H_0$: There is no significant difference in the petal area between versicolor compared to virginica.\n",
    "\n",
    "> $H_a$: There is a significant difference in the petal area between versicolor compared to virginica."
   ]
  },
  {
   "cell_type": "code",
   "execution_count": null,
   "id": "0f4dd5af-7513-4d23-8d76-1fdf268af28e",
   "metadata": {
    "tags": []
   },
   "outputs": [],
   "source": [
    "train['petal_area'] = train.petal_length * train.petal_width"
   ]
  },
  {
   "cell_type": "code",
   "execution_count": null,
   "id": "e9cd7bba-e1bc-4279-89e8-1709b2faf8d3",
   "metadata": {
    "tags": []
   },
   "outputs": [],
   "source": [
    "versicolor_virginica = train[train.species != 'setosa']\n",
    "virginica = train[train.species == 'virginica']\n",
    "versicolor = train[train.species == 'versicolor']"
   ]
  },
  {
   "cell_type": "code",
   "execution_count": null,
   "id": "faa8f9b9-e354-463b-885e-110dbdebf164",
   "metadata": {
    "tags": []
   },
   "outputs": [],
   "source": [
    "sns.boxplot(versicolor_virginica,x=versicolor_virginica.species,y=versicolor_virginica.petal_area)"
   ]
  },
  {
   "cell_type": "code",
   "execution_count": null,
   "id": "de9b9653-280a-4b25-b6c7-955c96847ce1",
   "metadata": {
    "tags": []
   },
   "outputs": [],
   "source": [
    "t,p = stats.mannwhitneyu(virginica.petal_area,versicolor.petal_area)\n",
    "t,p"
   ]
  },
  {
   "cell_type": "code",
   "execution_count": null,
   "id": "4c00b3e8-5bba-4cf1-8cbe-ad246debe312",
   "metadata": {
    "tags": []
   },
   "outputs": [],
   "source": [
    "if p < α:\n",
    "    print('Reject the null hypothesis!')\n",
    "else:\n",
    "    print('Failed to reject the null hypothesis!')"
   ]
  },
  {
   "cell_type": "markdown",
   "id": "c342ac63-5814-49b6-a4ff-ebcf6f6aa81c",
   "metadata": {},
   "source": [
    "- Document takeaways and any actions."
   ]
  },
  {
   "cell_type": "code",
   "execution_count": null,
   "id": "3997d4d8-e668-4113-836f-56b6dd5e98ed",
   "metadata": {
    "tags": []
   },
   "outputs": [],
   "source": []
  },
  {
   "cell_type": "markdown",
   "id": "233dd1f4-be46-4e18-b25e-f1d80a158c22",
   "metadata": {
    "tags": []
   },
   "source": [
    "# Part III"
   ]
  },
  {
   "cell_type": "markdown",
   "id": "273f7908-128e-49bc-93e9-19b55a743acf",
   "metadata": {},
   "source": [
    "- Explore your `telco` data to discover drivers of churn"
   ]
  },
  {
   "cell_type": "code",
   "execution_count": 2,
   "id": "e042e312-37b8-44ff-97be-6fd5a1e4b1f0",
   "metadata": {
    "tags": []
   },
   "outputs": [
    {
     "name": "stdout",
     "output_type": "stream",
     "text": [
      "File does not exist - creating CSV file\n"
     ]
    }
   ],
   "source": [
    "df_telco = acquire.get_telco_data()"
   ]
  },
  {
   "cell_type": "code",
   "execution_count": 3,
   "id": "c90f843a-8192-4f67-b901-5974749415dc",
   "metadata": {
    "tags": []
   },
   "outputs": [],
   "source": [
    "df_telco = prepare.prep_telco(df_telco)"
   ]
  },
  {
   "cell_type": "code",
   "execution_count": 4,
   "id": "ddcbd2cd-13c7-44cf-a644-bbd786870018",
   "metadata": {
    "tags": []
   },
   "outputs": [],
   "source": [
    "train, validate, test = prepare.split_data(df_telco,'churn')"
   ]
  },
  {
   "cell_type": "code",
   "execution_count": 5,
   "id": "759a57ca-594c-40e1-ba11-35f5c88bb4dc",
   "metadata": {
    "tags": []
   },
   "outputs": [
    {
     "data": {
      "text/plain": [
       "((4225, 21), (1409, 21), (1409, 21))"
      ]
     },
     "execution_count": 5,
     "metadata": {},
     "output_type": "execute_result"
    }
   ],
   "source": [
    "train.shape, validate.shape, test.shape"
   ]
  },
  {
   "cell_type": "code",
   "execution_count": 6,
   "id": "c2088f12-a38f-4eb8-bfe8-a2cf989704f1",
   "metadata": {
    "tags": []
   },
   "outputs": [
    {
     "data": {
      "text/plain": [
       "customer_id              4225\n",
       "gender                      2\n",
       "senior_citizen              2\n",
       "partner                     2\n",
       "dependents                  2\n",
       "tenure                     73\n",
       "phone_service               2\n",
       "multiple_lines              3\n",
       "online_security             3\n",
       "online_backup               3\n",
       "device_protection           3\n",
       "tech_support                3\n",
       "streaming_tv                3\n",
       "streaming_movies            3\n",
       "paperless_billing           2\n",
       "monthly_charges          1367\n",
       "total_charges            3994\n",
       "churn                       2\n",
       "contract_type               3\n",
       "internet_service_type       3\n",
       "payment_type                4\n",
       "dtype: int64"
      ]
     },
     "execution_count": 6,
     "metadata": {},
     "output_type": "execute_result"
    }
   ],
   "source": [
    "train.nunique()"
   ]
  },
  {
   "cell_type": "code",
   "execution_count": 7,
   "id": "85c7f3da-77be-4683-9e5e-26c656b9af5c",
   "metadata": {
    "tags": []
   },
   "outputs": [
    {
     "data": {
      "text/html": [
       "<div>\n",
       "<style scoped>\n",
       "    .dataframe tbody tr th:only-of-type {\n",
       "        vertical-align: middle;\n",
       "    }\n",
       "\n",
       "    .dataframe tbody tr th {\n",
       "        vertical-align: top;\n",
       "    }\n",
       "\n",
       "    .dataframe thead th {\n",
       "        text-align: right;\n",
       "    }\n",
       "</style>\n",
       "<table border=\"1\" class=\"dataframe\">\n",
       "  <thead>\n",
       "    <tr style=\"text-align: right;\">\n",
       "      <th></th>\n",
       "      <th>customer_id</th>\n",
       "      <th>gender</th>\n",
       "      <th>senior_citizen</th>\n",
       "      <th>partner</th>\n",
       "      <th>dependents</th>\n",
       "      <th>tenure</th>\n",
       "      <th>phone_service</th>\n",
       "      <th>multiple_lines</th>\n",
       "      <th>online_security</th>\n",
       "      <th>online_backup</th>\n",
       "      <th>...</th>\n",
       "      <th>tech_support</th>\n",
       "      <th>streaming_tv</th>\n",
       "      <th>streaming_movies</th>\n",
       "      <th>paperless_billing</th>\n",
       "      <th>monthly_charges</th>\n",
       "      <th>total_charges</th>\n",
       "      <th>churn</th>\n",
       "      <th>contract_type</th>\n",
       "      <th>internet_service_type</th>\n",
       "      <th>payment_type</th>\n",
       "    </tr>\n",
       "  </thead>\n",
       "  <tbody>\n",
       "    <tr>\n",
       "      <th>5103</th>\n",
       "      <td>7169-YWAMK</td>\n",
       "      <td>Male</td>\n",
       "      <td>0</td>\n",
       "      <td>Yes</td>\n",
       "      <td>Yes</td>\n",
       "      <td>72</td>\n",
       "      <td>Yes</td>\n",
       "      <td>No</td>\n",
       "      <td>Yes</td>\n",
       "      <td>Yes</td>\n",
       "      <td>...</td>\n",
       "      <td>Yes</td>\n",
       "      <td>Yes</td>\n",
       "      <td>No</td>\n",
       "      <td>No</td>\n",
       "      <td>68.4</td>\n",
       "      <td>4855.35</td>\n",
       "      <td>No</td>\n",
       "      <td>Two year</td>\n",
       "      <td>DSL</td>\n",
       "      <td>Bank transfer (automatic)</td>\n",
       "    </tr>\n",
       "    <tr>\n",
       "      <th>4461</th>\n",
       "      <td>6288-LBEAR</td>\n",
       "      <td>Female</td>\n",
       "      <td>0</td>\n",
       "      <td>No</td>\n",
       "      <td>No</td>\n",
       "      <td>23</td>\n",
       "      <td>Yes</td>\n",
       "      <td>No</td>\n",
       "      <td>No</td>\n",
       "      <td>Yes</td>\n",
       "      <td>...</td>\n",
       "      <td>Yes</td>\n",
       "      <td>No</td>\n",
       "      <td>No</td>\n",
       "      <td>Yes</td>\n",
       "      <td>79.1</td>\n",
       "      <td>1783.75</td>\n",
       "      <td>No</td>\n",
       "      <td>Month-to-month</td>\n",
       "      <td>Fiber optic</td>\n",
       "      <td>Mailed check</td>\n",
       "    </tr>\n",
       "    <tr>\n",
       "      <th>1932</th>\n",
       "      <td>2808-CHTDM</td>\n",
       "      <td>Female</td>\n",
       "      <td>0</td>\n",
       "      <td>Yes</td>\n",
       "      <td>Yes</td>\n",
       "      <td>23</td>\n",
       "      <td>Yes</td>\n",
       "      <td>Yes</td>\n",
       "      <td>No internet service</td>\n",
       "      <td>No internet service</td>\n",
       "      <td>...</td>\n",
       "      <td>No internet service</td>\n",
       "      <td>No internet service</td>\n",
       "      <td>No internet service</td>\n",
       "      <td>No</td>\n",
       "      <td>25.1</td>\n",
       "      <td>611.45</td>\n",
       "      <td>No</td>\n",
       "      <td>Two year</td>\n",
       "      <td>None</td>\n",
       "      <td>Mailed check</td>\n",
       "    </tr>\n",
       "    <tr>\n",
       "      <th>3187</th>\n",
       "      <td>4567-AKPIA</td>\n",
       "      <td>Female</td>\n",
       "      <td>0</td>\n",
       "      <td>Yes</td>\n",
       "      <td>Yes</td>\n",
       "      <td>41</td>\n",
       "      <td>Yes</td>\n",
       "      <td>Yes</td>\n",
       "      <td>No</td>\n",
       "      <td>Yes</td>\n",
       "      <td>...</td>\n",
       "      <td>Yes</td>\n",
       "      <td>Yes</td>\n",
       "      <td>Yes</td>\n",
       "      <td>Yes</td>\n",
       "      <td>109.1</td>\n",
       "      <td>4454.25</td>\n",
       "      <td>No</td>\n",
       "      <td>One year</td>\n",
       "      <td>Fiber optic</td>\n",
       "      <td>Bank transfer (automatic)</td>\n",
       "    </tr>\n",
       "    <tr>\n",
       "      <th>1999</th>\n",
       "      <td>2885-HIJDH</td>\n",
       "      <td>Male</td>\n",
       "      <td>0</td>\n",
       "      <td>Yes</td>\n",
       "      <td>Yes</td>\n",
       "      <td>69</td>\n",
       "      <td>Yes</td>\n",
       "      <td>Yes</td>\n",
       "      <td>Yes</td>\n",
       "      <td>No</td>\n",
       "      <td>...</td>\n",
       "      <td>Yes</td>\n",
       "      <td>Yes</td>\n",
       "      <td>Yes</td>\n",
       "      <td>No</td>\n",
       "      <td>86.9</td>\n",
       "      <td>6194.10</td>\n",
       "      <td>No</td>\n",
       "      <td>Two year</td>\n",
       "      <td>DSL</td>\n",
       "      <td>Bank transfer (automatic)</td>\n",
       "    </tr>\n",
       "  </tbody>\n",
       "</table>\n",
       "<p>5 rows × 21 columns</p>\n",
       "</div>"
      ],
      "text/plain": [
       "     customer_id  gender  senior_citizen partner dependents  tenure  \\\n",
       "5103  7169-YWAMK    Male               0     Yes        Yes      72   \n",
       "4461  6288-LBEAR  Female               0      No         No      23   \n",
       "1932  2808-CHTDM  Female               0     Yes        Yes      23   \n",
       "3187  4567-AKPIA  Female               0     Yes        Yes      41   \n",
       "1999  2885-HIJDH    Male               0     Yes        Yes      69   \n",
       "\n",
       "     phone_service multiple_lines      online_security        online_backup  \\\n",
       "5103           Yes             No                  Yes                  Yes   \n",
       "4461           Yes             No                   No                  Yes   \n",
       "1932           Yes            Yes  No internet service  No internet service   \n",
       "3187           Yes            Yes                   No                  Yes   \n",
       "1999           Yes            Yes                  Yes                   No   \n",
       "\n",
       "      ...         tech_support         streaming_tv     streaming_movies  \\\n",
       "5103  ...                  Yes                  Yes                   No   \n",
       "4461  ...                  Yes                   No                   No   \n",
       "1932  ...  No internet service  No internet service  No internet service   \n",
       "3187  ...                  Yes                  Yes                  Yes   \n",
       "1999  ...                  Yes                  Yes                  Yes   \n",
       "\n",
       "     paperless_billing monthly_charges  total_charges  churn   contract_type  \\\n",
       "5103                No            68.4        4855.35     No        Two year   \n",
       "4461               Yes            79.1        1783.75     No  Month-to-month   \n",
       "1932                No            25.1         611.45     No        Two year   \n",
       "3187               Yes           109.1        4454.25     No        One year   \n",
       "1999                No            86.9        6194.10     No        Two year   \n",
       "\n",
       "     internet_service_type               payment_type  \n",
       "5103                   DSL  Bank transfer (automatic)  \n",
       "4461           Fiber optic               Mailed check  \n",
       "1932                  None               Mailed check  \n",
       "3187           Fiber optic  Bank transfer (automatic)  \n",
       "1999                   DSL  Bank transfer (automatic)  \n",
       "\n",
       "[5 rows x 21 columns]"
      ]
     },
     "execution_count": 7,
     "metadata": {},
     "output_type": "execute_result"
    }
   ],
   "source": [
    "train.head()"
   ]
  },
  {
   "cell_type": "code",
   "execution_count": 8,
   "id": "6a9d3739-eaf3-4681-8464-1ee5b197b650",
   "metadata": {
    "tags": []
   },
   "outputs": [],
   "source": [
    "train = train.set_index(train.customer_id)\n",
    "train = train.drop(columns=['customer_id'])"
   ]
  },
  {
   "cell_type": "code",
   "execution_count": 9,
   "id": "2710f3a2-f986-409c-b3c9-8064ac1da9a1",
   "metadata": {
    "tags": []
   },
   "outputs": [
    {
     "data": {
      "text/html": [
       "<div>\n",
       "<style scoped>\n",
       "    .dataframe tbody tr th:only-of-type {\n",
       "        vertical-align: middle;\n",
       "    }\n",
       "\n",
       "    .dataframe tbody tr th {\n",
       "        vertical-align: top;\n",
       "    }\n",
       "\n",
       "    .dataframe thead th {\n",
       "        text-align: right;\n",
       "    }\n",
       "</style>\n",
       "<table border=\"1\" class=\"dataframe\">\n",
       "  <thead>\n",
       "    <tr style=\"text-align: right;\">\n",
       "      <th></th>\n",
       "      <th>gender</th>\n",
       "      <th>senior_citizen</th>\n",
       "      <th>partner</th>\n",
       "      <th>dependents</th>\n",
       "      <th>tenure</th>\n",
       "      <th>phone_service</th>\n",
       "      <th>multiple_lines</th>\n",
       "      <th>online_security</th>\n",
       "      <th>online_backup</th>\n",
       "      <th>device_protection</th>\n",
       "      <th>tech_support</th>\n",
       "      <th>streaming_tv</th>\n",
       "      <th>streaming_movies</th>\n",
       "      <th>paperless_billing</th>\n",
       "      <th>monthly_charges</th>\n",
       "      <th>total_charges</th>\n",
       "      <th>churn</th>\n",
       "      <th>contract_type</th>\n",
       "      <th>internet_service_type</th>\n",
       "      <th>payment_type</th>\n",
       "    </tr>\n",
       "    <tr>\n",
       "      <th>customer_id</th>\n",
       "      <th></th>\n",
       "      <th></th>\n",
       "      <th></th>\n",
       "      <th></th>\n",
       "      <th></th>\n",
       "      <th></th>\n",
       "      <th></th>\n",
       "      <th></th>\n",
       "      <th></th>\n",
       "      <th></th>\n",
       "      <th></th>\n",
       "      <th></th>\n",
       "      <th></th>\n",
       "      <th></th>\n",
       "      <th></th>\n",
       "      <th></th>\n",
       "      <th></th>\n",
       "      <th></th>\n",
       "      <th></th>\n",
       "      <th></th>\n",
       "    </tr>\n",
       "  </thead>\n",
       "  <tbody>\n",
       "    <tr>\n",
       "      <th>7169-YWAMK</th>\n",
       "      <td>Male</td>\n",
       "      <td>0</td>\n",
       "      <td>Yes</td>\n",
       "      <td>Yes</td>\n",
       "      <td>72</td>\n",
       "      <td>Yes</td>\n",
       "      <td>No</td>\n",
       "      <td>Yes</td>\n",
       "      <td>Yes</td>\n",
       "      <td>No</td>\n",
       "      <td>Yes</td>\n",
       "      <td>Yes</td>\n",
       "      <td>No</td>\n",
       "      <td>No</td>\n",
       "      <td>68.4</td>\n",
       "      <td>4855.35</td>\n",
       "      <td>No</td>\n",
       "      <td>Two year</td>\n",
       "      <td>DSL</td>\n",
       "      <td>Bank transfer (automatic)</td>\n",
       "    </tr>\n",
       "    <tr>\n",
       "      <th>6288-LBEAR</th>\n",
       "      <td>Female</td>\n",
       "      <td>0</td>\n",
       "      <td>No</td>\n",
       "      <td>No</td>\n",
       "      <td>23</td>\n",
       "      <td>Yes</td>\n",
       "      <td>No</td>\n",
       "      <td>No</td>\n",
       "      <td>Yes</td>\n",
       "      <td>No</td>\n",
       "      <td>Yes</td>\n",
       "      <td>No</td>\n",
       "      <td>No</td>\n",
       "      <td>Yes</td>\n",
       "      <td>79.1</td>\n",
       "      <td>1783.75</td>\n",
       "      <td>No</td>\n",
       "      <td>Month-to-month</td>\n",
       "      <td>Fiber optic</td>\n",
       "      <td>Mailed check</td>\n",
       "    </tr>\n",
       "    <tr>\n",
       "      <th>2808-CHTDM</th>\n",
       "      <td>Female</td>\n",
       "      <td>0</td>\n",
       "      <td>Yes</td>\n",
       "      <td>Yes</td>\n",
       "      <td>23</td>\n",
       "      <td>Yes</td>\n",
       "      <td>Yes</td>\n",
       "      <td>No internet service</td>\n",
       "      <td>No internet service</td>\n",
       "      <td>No internet service</td>\n",
       "      <td>No internet service</td>\n",
       "      <td>No internet service</td>\n",
       "      <td>No internet service</td>\n",
       "      <td>No</td>\n",
       "      <td>25.1</td>\n",
       "      <td>611.45</td>\n",
       "      <td>No</td>\n",
       "      <td>Two year</td>\n",
       "      <td>None</td>\n",
       "      <td>Mailed check</td>\n",
       "    </tr>\n",
       "    <tr>\n",
       "      <th>4567-AKPIA</th>\n",
       "      <td>Female</td>\n",
       "      <td>0</td>\n",
       "      <td>Yes</td>\n",
       "      <td>Yes</td>\n",
       "      <td>41</td>\n",
       "      <td>Yes</td>\n",
       "      <td>Yes</td>\n",
       "      <td>No</td>\n",
       "      <td>Yes</td>\n",
       "      <td>Yes</td>\n",
       "      <td>Yes</td>\n",
       "      <td>Yes</td>\n",
       "      <td>Yes</td>\n",
       "      <td>Yes</td>\n",
       "      <td>109.1</td>\n",
       "      <td>4454.25</td>\n",
       "      <td>No</td>\n",
       "      <td>One year</td>\n",
       "      <td>Fiber optic</td>\n",
       "      <td>Bank transfer (automatic)</td>\n",
       "    </tr>\n",
       "    <tr>\n",
       "      <th>2885-HIJDH</th>\n",
       "      <td>Male</td>\n",
       "      <td>0</td>\n",
       "      <td>Yes</td>\n",
       "      <td>Yes</td>\n",
       "      <td>69</td>\n",
       "      <td>Yes</td>\n",
       "      <td>Yes</td>\n",
       "      <td>Yes</td>\n",
       "      <td>No</td>\n",
       "      <td>Yes</td>\n",
       "      <td>Yes</td>\n",
       "      <td>Yes</td>\n",
       "      <td>Yes</td>\n",
       "      <td>No</td>\n",
       "      <td>86.9</td>\n",
       "      <td>6194.10</td>\n",
       "      <td>No</td>\n",
       "      <td>Two year</td>\n",
       "      <td>DSL</td>\n",
       "      <td>Bank transfer (automatic)</td>\n",
       "    </tr>\n",
       "  </tbody>\n",
       "</table>\n",
       "</div>"
      ],
      "text/plain": [
       "             gender  senior_citizen partner dependents  tenure phone_service  \\\n",
       "customer_id                                                                    \n",
       "7169-YWAMK     Male               0     Yes        Yes      72           Yes   \n",
       "6288-LBEAR   Female               0      No         No      23           Yes   \n",
       "2808-CHTDM   Female               0     Yes        Yes      23           Yes   \n",
       "4567-AKPIA   Female               0     Yes        Yes      41           Yes   \n",
       "2885-HIJDH     Male               0     Yes        Yes      69           Yes   \n",
       "\n",
       "            multiple_lines      online_security        online_backup  \\\n",
       "customer_id                                                            \n",
       "7169-YWAMK              No                  Yes                  Yes   \n",
       "6288-LBEAR              No                   No                  Yes   \n",
       "2808-CHTDM             Yes  No internet service  No internet service   \n",
       "4567-AKPIA             Yes                   No                  Yes   \n",
       "2885-HIJDH             Yes                  Yes                   No   \n",
       "\n",
       "               device_protection         tech_support         streaming_tv  \\\n",
       "customer_id                                                                  \n",
       "7169-YWAMK                    No                  Yes                  Yes   \n",
       "6288-LBEAR                    No                  Yes                   No   \n",
       "2808-CHTDM   No internet service  No internet service  No internet service   \n",
       "4567-AKPIA                   Yes                  Yes                  Yes   \n",
       "2885-HIJDH                   Yes                  Yes                  Yes   \n",
       "\n",
       "                streaming_movies paperless_billing  monthly_charges  \\\n",
       "customer_id                                                           \n",
       "7169-YWAMK                    No                No             68.4   \n",
       "6288-LBEAR                    No               Yes             79.1   \n",
       "2808-CHTDM   No internet service                No             25.1   \n",
       "4567-AKPIA                   Yes               Yes            109.1   \n",
       "2885-HIJDH                   Yes                No             86.9   \n",
       "\n",
       "             total_charges churn   contract_type internet_service_type  \\\n",
       "customer_id                                                              \n",
       "7169-YWAMK         4855.35    No        Two year                   DSL   \n",
       "6288-LBEAR         1783.75    No  Month-to-month           Fiber optic   \n",
       "2808-CHTDM          611.45    No        Two year                  None   \n",
       "4567-AKPIA         4454.25    No        One year           Fiber optic   \n",
       "2885-HIJDH         6194.10    No        Two year                   DSL   \n",
       "\n",
       "                          payment_type  \n",
       "customer_id                             \n",
       "7169-YWAMK   Bank transfer (automatic)  \n",
       "6288-LBEAR                Mailed check  \n",
       "2808-CHTDM                Mailed check  \n",
       "4567-AKPIA   Bank transfer (automatic)  \n",
       "2885-HIJDH   Bank transfer (automatic)  "
      ]
     },
     "execution_count": 9,
     "metadata": {},
     "output_type": "execute_result"
    }
   ],
   "source": [
    "train.head()"
   ]
  },
  {
   "cell_type": "code",
   "execution_count": 10,
   "id": "e4bb0ff4-91b0-491d-b873-27d3259b3692",
   "metadata": {
    "tags": []
   },
   "outputs": [
    {
     "data": {
      "text/plain": [
       "Index(['gender', 'senior_citizen', 'partner', 'dependents', 'phone_service',\n",
       "       'multiple_lines', 'online_security', 'online_backup',\n",
       "       'device_protection', 'tech_support', 'streaming_tv', 'streaming_movies',\n",
       "       'paperless_billing', 'contract_type', 'internet_service_type',\n",
       "       'payment_type'],\n",
       "      dtype='object')"
      ]
     },
     "execution_count": 10,
     "metadata": {},
     "output_type": "execute_result"
    }
   ],
   "source": [
    "categorical_columns = train.columns[train.nunique() < 10]\n",
    "categorical_columns = categorical_columns.drop('churn')\n",
    "categorical_columns"
   ]
  },
  {
   "cell_type": "code",
   "execution_count": 11,
   "id": "233d6fd2-a6a6-4b43-88ec-c0162b61f525",
   "metadata": {
    "tags": []
   },
   "outputs": [
    {
     "data": {
      "text/plain": [
       "Index(['tenure', 'monthly_charges', 'total_charges'], dtype='object')"
      ]
     },
     "execution_count": 11,
     "metadata": {},
     "output_type": "execute_result"
    }
   ],
   "source": [
    "quantitative_columns = train.columns[train.nunique() > 10]\n",
    "quantitative_columns"
   ]
  },
  {
   "cell_type": "code",
   "execution_count": 55,
   "id": "237183ae-e50a-482f-b7c9-aacf774f5c73",
   "metadata": {
    "tags": []
   },
   "outputs": [
    {
     "name": "stdout",
     "output_type": "stream",
     "text": [
      "['senior_citizen', 'partner', 'dependents', 'multiple_lines', 'online_security', 'online_backup', 'device_protection', 'tech_support', 'streaming_tv', 'streaming_movies', 'paperless_billing', 'churn', 'contract_type', 'internet_service_type', 'payment_type']\n",
      "\n",
      "['gender', 'phone_service']\n"
     ]
    }
   ],
   "source": [
    "cat_cols_w_rel = []\n",
    "cat_cols_wo_rel = []\n",
    "\n",
    "for column in categorical_columns:\n",
    "    observed = pd.crosstab(train[column],train.churn)\n",
    "    α = .05\n",
    "    chi2, p, dof, expected = stats.chi2_contingency(observed)\n",
    "    \n",
    "    if p < α:\n",
    "        cat_cols_w_rel.append(column)\n",
    "    else:\n",
    "        cat_cols_wo_rel.append(column)\n",
    "    \n",
    "print(cat_cols_w_rel)\n",
    "print()\n",
    "print(cat_cols_wo_rel)"
   ]
  },
  {
   "cell_type": "markdown",
   "id": "a33f48d7-db80-4578-896a-6a1c46a89eed",
   "metadata": {},
   "source": [
    "two-sample / 2-tailed "
   ]
  },
  {
   "cell_type": "code",
   "execution_count": 12,
   "id": "ef4102ae-b2d7-4d49-9401-4a792c51b12a",
   "metadata": {
    "tags": []
   },
   "outputs": [
    {
     "name": "stdout",
     "output_type": "stream",
     "text": [
      "['tenure', 'monthly_charges', 'total_charges']\n",
      "\n",
      "[]\n"
     ]
    }
   ],
   "source": [
    "churned = train[train.churn == 'Yes']\n",
    "active = train[train.churn == 'No']\n",
    "quant_cols_w_rel = []\n",
    "quant_cols_wo_rel = []\n",
    "\n",
    "for column in quantitative_columns:\n",
    "    t,p = stats.mannwhitneyu(churned[column], active[column])\n",
    "    α = .05\n",
    "    \n",
    "    if p < α:\n",
    "        quant_cols_w_rel.append(column)\n",
    "    else:\n",
    "        quant_cols_wo_rel.append(column)\n",
    "    \n",
    "print(quant_cols_w_rel)\n",
    "print()\n",
    "print(quant_cols_wo_rel)"
   ]
  },
  {
   "cell_type": "markdown",
   "id": "b4c16893-00f2-405c-b05c-911064bbd3fe",
   "metadata": {},
   "source": [
    "- Determine if certain columns should be dropped"
   ]
  },
  {
   "cell_type": "code",
   "execution_count": 19,
   "id": "7bcec1a3-a6ea-4c31-a29d-ea3a8f580341",
   "metadata": {
    "tags": []
   },
   "outputs": [
    {
     "data": {
      "text/plain": [
       "<Axes: xlabel='tenure', ylabel='monthly_charges'>"
      ]
     },
     "execution_count": 19,
     "metadata": {},
     "output_type": "execute_result"
    },
    {
     "data": {
      "image/png": "[encoded data removed]",
      "text/plain": [
       "<Figure size 640x480 with 1 Axes>"
      ]
     },
     "metadata": {},
     "output_type": "display_data"
    }
   ],
   "source": [
    "sns.kdeplot(data=train,x='tenure', y='monthly_charges',hue='churn',fill=True,alpha=.5)"
   ]
  },
  {
   "cell_type": "markdown",
   "id": "21fd2626-b46d-4121-8709-87a7767afdbd",
   "metadata": {},
   "source": [
    "- Determine if it would be valuable to bin some numeric columns"
   ]
  },
  {
   "cell_type": "code",
   "execution_count": null,
   "id": "19dd451c-593d-4ffb-804c-3178c7abd248",
   "metadata": {
    "tags": []
   },
   "outputs": [],
   "source": []
  },
  {
   "cell_type": "markdown",
   "id": "cf12e0d8-e51c-4e5c-b291-23327ae6d7e9",
   "metadata": {
    "tags": []
   },
   "source": [
    "- Determine if it would be valuable to combine multiple columns into one."
   ]
  },
  {
   "cell_type": "code",
   "execution_count": null,
   "id": "9ad3fa41-4092-4100-8630-af297341a627",
   "metadata": {},
   "outputs": [],
   "source": []
  }
 ],
 "metadata": {
  "kernelspec": {
   "display_name": "Python 3 (ipykernel)",
   "language": "python",
   "name": "python3"
  },
  "language_info": {
   "codemirror_mode": {
    "name": "ipython",
    "version": 3
   },
   "file_extension": ".py",
   "mimetype": "text/x-python",
   "name": "python",
   "nbconvert_exporter": "python",
   "pygments_lexer": "ipython3",
   "version": "3.11.5"
  }
 },
 "nbformat": 4,
 "nbformat_minor": 5
}
